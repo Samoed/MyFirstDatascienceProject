{
 "cells": [
  {
   "cell_type": "code",
   "execution_count": 2,
   "id": "3568d9e3-d654-402a-b64e-5a6d741de601",
   "metadata": {},
   "outputs": [
    {
     "name": "stderr",
     "output_type": "stream",
     "text": [
      "2023-05-08 17:32:31.549651: I tensorflow/core/util/port.cc:110] oneDNN custom operations are on. You may see slightly different numerical results due to floating-point round-off errors from different computation orders. To turn them off, set the environment variable `TF_ENABLE_ONEDNN_OPTS=0`.\n",
      "2023-05-08 17:32:31.551025: I tensorflow/tsl/cuda/cudart_stub.cc:28] Could not find cuda drivers on your machine, GPU will not be used.\n",
      "2023-05-08 17:32:31.580326: I tensorflow/tsl/cuda/cudart_stub.cc:28] Could not find cuda drivers on your machine, GPU will not be used.\n",
      "2023-05-08 17:32:31.581035: I tensorflow/core/platform/cpu_feature_guard.cc:182] This TensorFlow binary is optimized to use available CPU instructions in performance-critical operations.\n",
      "To enable the following instructions: AVX2 AVX512F AVX512_VNNI FMA, in other operations, rebuild TensorFlow with the appropriate compiler flags.\n",
      "2023-05-08 17:32:32.193986: W tensorflow/compiler/tf2tensorrt/utils/py_utils.cc:38] TF-TRT Warning: Could not find TensorRT\n"
     ]
    }
   ],
   "source": [
    "import os\n",
    "from typing import NamedTuple\n",
    "\n",
    "import cv2\n",
    "import mediapipe as mp\n",
    "import numpy as np\n",
    "from matplotlib import pyplot as plt\n",
    "from tqdm.auto import tqdm\n",
    "from mediapipe.framework.formats.landmark_pb2 import NormalizedLandmarkList\n",
    "from sklearn.model_selection import train_test_split"
   ]
  },
  {
   "cell_type": "code",
   "execution_count": 2,
   "id": "2ddf0f8c-f131-4448-9dfe-3ff56fb933b1",
   "metadata": {},
   "outputs": [
    {
     "name": "stderr",
     "output_type": "stream",
     "text": [
      "INFO: Created TensorFlow Lite XNNPACK delegate for CPU.\n"
     ]
    }
   ],
   "source": [
    "mp_hands = mp.solutions.hands\n",
    "hands = mp_hands.Hands(\n",
    "    static_image_mode=True,\n",
    "    max_num_hands=1,\n",
    "    min_detection_confidence=0.3,\n",
    "    min_tracking_confidence=0.5,\n",
    ")\n",
    "mp_drawing = mp.solutions.drawing_utils\n",
    "\n",
    "mp_drawing_styles = mp.solutions.drawing_styles\n",
    "landmark_style = mp_drawing_styles.get_default_hand_landmarks_style()\n",
    "\n",
    "connection_style = mp_drawing_styles.get_default_hand_connections_style()"
   ]
  },
  {
   "cell_type": "code",
   "execution_count": 3,
   "id": "84ef94fa-b201-4f79-bb81-b21ef2ca1acb",
   "metadata": {},
   "outputs": [],
   "source": [
    "def dataset_files(dataset_dir: str = \"../dataset/\", class_size: int = 1_000) -> list[tuple[int, str]]:\n",
    "    files_dataset = []\n",
    "    for dir_label in sorted(os.listdir(dataset_dir)):\n",
    "        dir_label_path = dataset_dir + dir_label\n",
    "        if os.path.isfile(dir_label_path):\n",
    "            continue\n",
    "        dir_label_path += \"/\"\n",
    "        index = int(dir_label.split(\"_\")[0])\n",
    "        files = os.listdir(dir_label_path)\n",
    "        files_dataset.extend([(index, dir_label_path + img_path) for img_path in np.random.choice(files, size=class_size)])\n",
    "    return files_dataset"
   ]
  },
  {
   "cell_type": "code",
   "execution_count": 4,
   "id": "9fdb8475-c067-4977-887c-fd9a9eceadab",
   "metadata": {},
   "outputs": [],
   "source": [
    "def test_images():\n",
    "    for key, value in files_dataest.items():\n",
    "        image = cv2.imread(value[0])\n",
    "        image = cv2.cvtColor(image, cv2.COLOR_BGR2RGB)\n",
    "        results = hands.process(image)\n",
    "        if results.multi_hand_landmarks:\n",
    "            for hand_landmarks in results.multi_hand_landmarks:\n",
    "                mp_drawing.draw_landmarks(\n",
    "                    image,\n",
    "                    hand_landmarks,\n",
    "                    mp_hands.HAND_CONNECTIONS,\n",
    "                    landmark_style,\n",
    "                    connection_style,\n",
    "                )\n",
    "        plt.imshow(image)\n",
    "        plt.title(key)\n",
    "        plt.show()"
   ]
  },
  {
   "cell_type": "code",
   "execution_count": 6,
   "id": "5e0d41c1-802e-419f-bef2-a7994c39d8a5",
   "metadata": {},
   "outputs": [
    {
     "data": {
      "text/plain": [
       "([(0, '../dataset/00_two_fingers_near/two_fingers_r_3020.jpg'),\n",
       "  (0, '../dataset/00_two_fingers_near/two_fingers_r_3910.jpg'),\n",
       "  (0, '../dataset/00_two_fingers_near/two_fingers_new_220.jpg'),\n",
       "  (0, '../dataset/00_two_fingers_near/two_fingers_r_3010.jpg'),\n",
       "  (0, '../dataset/00_two_fingers_near/two_fingers_r_810.jpg')],\n",
       " 15000)"
      ]
     },
     "execution_count": 6,
     "metadata": {},
     "output_type": "execute_result"
    }
   ],
   "source": [
    "files = dataset_files()\n",
    "files[:5], len(files)"
   ]
  },
  {
   "cell_type": "code",
   "execution_count": 7,
   "id": "5c40e218-3b9e-4a1a-963a-3573a6a741ee",
   "metadata": {},
   "outputs": [],
   "source": [
    "def process_image(filename: str, flip: bool = False) -> NamedTuple:\n",
    "    image = cv2.imread(filename)\n",
    "    image = cv2.cvtColor(image, cv2.COLOR_BGR2RGB)\n",
    "    if flip:\n",
    "        image = cv2.flip(image, 1)\n",
    "\n",
    "    results = hands.process(image)\n",
    "    return results"
   ]
  },
  {
   "cell_type": "code",
   "execution_count": 10,
   "id": "6c0749b8-3ace-4892-b737-1e80fa081b04",
   "metadata": {},
   "outputs": [],
   "source": [
    "def calc_landmark_list(landmarks: NormalizedLandmarkList) -> np.ndarray:\n",
    "    landmark_list = landmarks.landmark\n",
    "    # Get the position of the wrist landmark (Landmark.WRIST)\n",
    "    wrist_position_x, wrist_position_y = (\n",
    "        landmark_list[mp.solutions.hands.HandLandmark.WRIST].x,\n",
    "        landmark_list[mp.solutions.hands.HandLandmark.WRIST].y,\n",
    "    )\n",
    "\n",
    "    # Normalize the landmarks relative to the wrist position\n",
    "    normalized_landmarks = [\n",
    "        (landmark.x - wrist_position_x, landmark.y - wrist_position_y) for landmark in landmark_list  # landmark.z\n",
    "    ]\n",
    "    normalized_landmarks = np.array(normalized_landmarks).flatten()\n",
    "    normalized_landmarks /= max(abs(normalized_landmarks))\n",
    "    return normalized_landmarks"
   ]
  },
  {
   "cell_type": "code",
   "execution_count": 25,
   "id": "0f4575ce-bb53-48f0-b80e-730fb4760080",
   "metadata": {},
   "outputs": [],
   "source": [
    "def process(filename: str, flip: bool = False) -> np.ndarray:\n",
    "    results = process_image(filename, flip)\n",
    "    if results.multi_hand_landmarks is None:\n",
    "        return None\n",
    "    landmarks = results.multi_hand_landmarks[0]\n",
    "\n",
    "    result = calc_landmark_list(landmarks)\n",
    "    is_right = results.multi_handedness[0].classification[0].label == \"Right\"\n",
    "    return np.append(result, is_right)"
   ]
  },
  {
   "cell_type": "code",
   "execution_count": 26,
   "id": "ac04ebaa-5d89-4203-8bd1-bd09c513b2f1",
   "metadata": {},
   "outputs": [
    {
     "name": "stdout",
     "output_type": "stream",
     "text": [
      "[ 0.          0.         -0.09108994 -0.07013608 -0.16226735 -0.18826263\n",
      " -0.16370438 -0.30643086 -0.11326423 -0.35294546 -0.14070626 -0.47972605\n",
      " -0.16051527 -0.68306383 -0.16610597 -0.81593122 -0.16721422 -0.93061366\n",
      " -0.07702803 -0.48882001 -0.10671674 -0.72692618 -0.12517311 -0.87649621\n",
      " -0.13708558 -1.         -0.00964219 -0.44985614 -0.05557525 -0.51586888\n",
      " -0.08901699 -0.41113038 -0.10246509 -0.32292676  0.04881893 -0.37189254\n",
      " -0.00723822 -0.41127767 -0.03419715 -0.32675657 -0.03712919 -0.2552798\n",
      "  1.        ] [ 0.00000000e+00  0.00000000e+00  8.82367410e-02 -7.32094299e-02\n",
      "  1.52807741e-01 -1.97662379e-01  1.50321118e-01 -3.12249886e-01\n",
      "  1.04184200e-01 -3.71652497e-01  1.31257305e-01 -4.92204521e-01\n",
      "  1.52823151e-01 -6.87989560e-01  1.59367021e-01 -8.15529377e-01\n",
      "  1.62133096e-01 -9.23219920e-01  6.70674029e-02 -4.97099236e-01\n",
      "  9.21135140e-02 -7.25474862e-01  1.13243735e-01 -8.79218310e-01\n",
      "  1.26665750e-01 -1.00000000e+00  3.14450685e-03 -4.53801739e-01\n",
      "  5.03675259e-02 -5.19310964e-01  8.28755805e-02 -4.07432487e-01\n",
      "  9.27868077e-02 -3.12733371e-01 -5.59405723e-02 -3.74565856e-01\n",
      "  1.73953965e-04 -4.07790322e-01  2.85008902e-02 -3.25884083e-01\n",
      "  3.45128222e-02 -2.51790807e-01  0.00000000e+00]\n",
      "[ 0.          0.          0.07324669 -0.01396319  0.12068752 -0.14771105\n",
      "  0.08959608 -0.27669407  0.03895635 -0.38332816  0.1658114  -0.40847277\n",
      "  0.18787491 -0.62023489  0.19798375 -0.76917318  0.20065322 -0.88996941\n",
      "  0.10021094 -0.45677699  0.12562598 -0.69014369  0.13358364 -0.86092363\n",
      "  0.13968366 -1.          0.03088949 -0.43921168  0.035903   -0.60651948\n",
      "  0.0272425  -0.55096905  0.02654082 -0.49299355 -0.04099717 -0.37235642\n",
      " -0.03927078 -0.46702336 -0.03568577 -0.39743275 -0.03213259 -0.31630229\n",
      "  0.        ] [ 0.          0.         -0.07429486 -0.01815    -0.11766412 -0.15255281\n",
      " -0.0767098  -0.29652306 -0.02922783 -0.40076118 -0.16935481 -0.41705816\n",
      " -0.18919174 -0.62322379 -0.1991165  -0.7738692  -0.20927973 -0.89921812\n",
      " -0.10135668 -0.46259943 -0.12523297 -0.6881955  -0.13523593 -0.85320222\n",
      " -0.14565022 -1.         -0.02972666 -0.44443221 -0.03557567 -0.61319006\n",
      " -0.02513989 -0.53391878 -0.01752516 -0.46465918  0.04252879 -0.37426922\n",
      "  0.04244284 -0.47135892  0.03362451 -0.38365548  0.02453306 -0.29402024\n",
      "  1.        ]\n"
     ]
    }
   ],
   "source": [
    "print(process(files[0][1]), process(files[0][1], True))\n",
    "print(process('../dataset/00_two_fingers_near/two_fingers_330.jpg'), process('../dataset/00_two_fingers_near/two_fingers_330.jpg', True))"
   ]
  },
  {
   "cell_type": "code",
   "execution_count": 27,
   "id": "53d3cad8-7bc0-4e8d-ac4f-8e9c37a800b7",
   "metadata": {},
   "outputs": [
    {
     "data": {
      "application/json": {
       "ascii": false,
       "bar_format": null,
       "colour": null,
       "elapsed": 0.017580270767211914,
       "initial": 0,
       "n": 0,
       "ncols": null,
       "nrows": 24,
       "postfix": null,
       "prefix": "",
       "rate": null,
       "total": 15000,
       "unit": "it",
       "unit_divisor": 1000,
       "unit_scale": false
      },
      "application/vnd.jupyter.widget-view+json": {
       "model_id": "2a23b158f5c744ed8e5dc0bf42007f86",
       "version_major": 2,
       "version_minor": 0
      },
      "text/plain": [
       "  0%|          | 0/15000 [00:00<?, ?it/s]"
      ]
     },
     "metadata": {},
     "output_type": "display_data"
    }
   ],
   "source": [
    "arr = []\n",
    "for label, file_path in tqdm(dataset_files()):\n",
    "    for flip in [True, False]:\n",
    "        result = process(file_path, flip)\n",
    "        if result is None:\n",
    "            continue\n",
    "        result = np.append(result, label)\n",
    "        arr.append(result)"
   ]
  },
  {
   "cell_type": "code",
   "execution_count": 28,
   "id": "207561a1-958a-452f-baf2-97aaea63fbc8",
   "metadata": {},
   "outputs": [
    {
     "data": {
      "text/plain": [
       "(array([[ 0.        ,  0.        , -0.02073012,  0.01251257, -0.01488971,\n",
       "         -0.06210118,  0.05229086, -0.1310778 ,  0.10287097, -0.19636181,\n",
       "         -0.11460505, -0.39608297, -0.10615273, -0.57787052, -0.09256575,\n",
       "         -0.69515564, -0.08139242, -0.77967842, -0.04954466, -0.45387538,\n",
       "         -0.05530104, -0.65991424, -0.04441746, -0.83662005, -0.03400158,\n",
       "         -1.        ,  0.01457347, -0.43077829,  0.06396782, -0.55090709,\n",
       "          0.10078516, -0.47356861,  0.11824212, -0.4107787 ,  0.07195059,\n",
       "         -0.37486167,  0.11483167, -0.42342169,  0.1233394 , -0.36425253,\n",
       "          0.11607872, -0.31996134,  1.        ,  0.        ],\n",
       "        [ 0.        ,  0.        ,  0.0462213 ,  0.01096092,  0.03594167,\n",
       "         -0.06883133, -0.03542832, -0.16611077, -0.10495063, -0.28017748,\n",
       "          0.13484269, -0.39471971,  0.12856955, -0.61657443,  0.11436877,\n",
       "         -0.77072136,  0.10447271, -0.90757746,  0.06116929, -0.44001756,\n",
       "          0.06941837, -0.68409997,  0.05055166, -0.85147128,  0.05283579,\n",
       "         -1.        , -0.0093946 , -0.43271561, -0.04400015, -0.59239246,\n",
       "         -0.09063144, -0.46003436, -0.100381  , -0.35364036, -0.06470593,\n",
       "         -0.40743741, -0.09510525, -0.48474815, -0.11564025, -0.40083579,\n",
       "         -0.11140333, -0.31412509,  0.        ,  0.        ]]),\n",
       " (28518, 44))"
      ]
     },
     "execution_count": 28,
     "metadata": {},
     "output_type": "execute_result"
    }
   ],
   "source": [
    "arr = np.stack(arr)\n",
    "arr[:2], arr.shape"
   ]
  },
  {
   "cell_type": "code",
   "execution_count": 29,
   "id": "6e5e9c92-de0e-4b8c-8631-967132f5a9bf",
   "metadata": {},
   "outputs": [],
   "source": [
    "col_names = sum([[f\"x{i}\", f\"y{i}\"] for i in range(1, 22)], [])\n",
    "col_names.extend([\"is_right\", \"label\"])"
   ]
  },
  {
   "cell_type": "code",
   "execution_count": 30,
   "id": "1a081717-67cf-48f2-94a1-1276ef31f221",
   "metadata": {},
   "outputs": [],
   "source": [
    "with open(\"processed.npy\", \"wb\") as f:\n",
    "    np.save(f, arr)"
   ]
  },
  {
   "cell_type": "code",
   "execution_count": 41,
   "id": "b08ad5b8-8020-445c-a52a-4f3710c2bcb5",
   "metadata": {},
   "outputs": [
    {
     "data": {
      "image/png": "[encoded data removed]",
      "text/plain": [
       "<Figure size 640x480 with 1 Axes>"
      ]
     },
     "metadata": {},
     "output_type": "display_data"
    }
   ],
   "source": [
    "plt.hist([a[-1] for a in arr], bins=len(set(arr[:, -1])));"
   ]
  },
  {
   "cell_type": "code",
   "execution_count": 44,
   "id": "10222a09-220d-409a-a899-fd928d13921e",
   "metadata": {},
   "outputs": [
    {
     "data": {
      "text/plain": [
       "((22814, 43), (22814,), (5704, 43), (5704,))"
      ]
     },
     "execution_count": 44,
     "metadata": {},
     "output_type": "execute_result"
    }
   ],
   "source": [
    "X_train, X_test, y_train, y_test = train_test_split(arr[:, :-1], arr[:, -1], test_size=0.2, stratify=arr[:, -1])\n",
    "X_train.shape, y_train.shape, X_test.shape, y_test.shape"
   ]
  },
  {
   "cell_type": "code",
   "execution_count": 47,
   "id": "e9c92cff-38e9-400b-a9f8-3e9a04bc9218",
   "metadata": {},
   "outputs": [
    {
     "data": {
      "image/png": "[encoded data removed]",
      "text/plain": [
       "<Figure size 640x480 with 1 Axes>"
      ]
     },
     "metadata": {},
     "output_type": "display_data"
    }
   ],
   "source": [
    "plt.hist(y_train, bins=len(set(y_train)));"
   ]
  },
  {
   "cell_type": "code",
   "execution_count": 48,
   "id": "7bbb52a0-9ef1-4530-898d-eae29cf337ae",
   "metadata": {},
   "outputs": [
    {
     "data": {
      "image/png": "[encoded data removed]",
      "text/plain": [
       "<Figure size 640x480 with 1 Axes>"
      ]
     },
     "metadata": {},
     "output_type": "display_data"
    }
   ],
   "source": [
    "plt.hist(y_test, bins=len(set(y_test)));"
   ]
  },
  {
   "cell_type": "code",
   "execution_count": 4,
   "id": "ebbdd378-de75-4812-a915-5c1dc8f7c06d",
   "metadata": {},
   "outputs": [],
   "source": [
    "arr = np.load(\"../data/processed.npy\")"
   ]
  },
  {
   "cell_type": "code",
   "execution_count": 7,
   "id": "9a44e2de-98c3-455d-a9dd-eea0548b145b",
   "metadata": {},
   "outputs": [],
   "source": [
    "with open(\"processed.npz\", \"wb\") as f:\n",
    "    np.save(f, arr=arr)"
   ]
  },
  {
   "cell_type": "code",
   "execution_count": null,
   "id": "4d64fd85-b2d8-4737-8a8d-1a4a23e9270c",
   "metadata": {},
   "outputs": [],
   "source": []
  }
 ],
 "metadata": {
  "kernelspec": {
   "display_name": "Python 3 (ipykernel)",
   "language": "python",
   "name": "python3"
  },
  "language_info": {
   "codemirror_mode": {
    "name": "ipython",
    "version": 3
   },
   "file_extension": ".py",
   "mimetype": "text/x-python",
   "name": "python",
   "nbconvert_exporter": "python",
   "pygments_lexer": "ipython3",
   "version": "3.10.4"
  },
  "widgets": {
   "application/vnd.jupyter.widget-state+json": {
    "state": {},
    "version_major": 2,
    "version_minor": 0
   }
  }
 },
 "nbformat": 4,
 "nbformat_minor": 5
}
