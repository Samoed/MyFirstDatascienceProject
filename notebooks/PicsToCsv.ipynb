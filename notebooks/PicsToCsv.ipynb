{
 "cells": [
  {
   "cell_type": "code",
   "execution_count": 1,
   "id": "3568d9e3-d654-402a-b64e-5a6d741de601",
   "metadata": {},
   "outputs": [
    {
     "name": "stderr",
     "output_type": "stream",
     "text": [
      "2023-04-15 19:26:32.517034: I tensorflow/core/util/port.cc:110] oneDNN custom operations are on. You may see slightly different numerical results due to floating-point round-off errors from different computation orders. To turn them off, set the environment variable `TF_ENABLE_ONEDNN_OPTS=0`.\n",
      "2023-04-15 19:26:32.518298: I tensorflow/tsl/cuda/cudart_stub.cc:28] Could not find cuda drivers on your machine, GPU will not be used.\n",
      "2023-04-15 19:26:32.545627: I tensorflow/tsl/cuda/cudart_stub.cc:28] Could not find cuda drivers on your machine, GPU will not be used.\n",
      "2023-04-15 19:26:32.546221: I tensorflow/core/platform/cpu_feature_guard.cc:182] This TensorFlow binary is optimized to use available CPU instructions in performance-critical operations.\n",
      "To enable the following instructions: AVX2 AVX512F AVX512_VNNI FMA, in other operations, rebuild TensorFlow with the appropriate compiler flags.\n",
      "2023-04-15 19:26:33.076155: W tensorflow/compiler/tf2tensorrt/utils/py_utils.cc:38] TF-TRT Warning: Could not find TensorRT\n"
     ]
    }
   ],
   "source": [
    "import os\n",
    "from typing import NamedTuple\n",
    "\n",
    "import cv2\n",
    "import mediapipe as mp\n",
    "import numpy as np\n",
    "from matplotlib import pyplot as plt\n",
    "from tqdm.auto import tqdm"
   ]
  },
  {
   "cell_type": "code",
   "execution_count": 2,
   "id": "2ddf0f8c-f131-4448-9dfe-3ff56fb933b1",
   "metadata": {},
   "outputs": [],
   "source": [
    "mp_hands = mp.solutions.hands\n",
    "hands = mp_hands.Hands(\n",
    "    static_image_mode=True,\n",
    "    max_num_hands=1,\n",
    "    min_detection_confidence=0.3,\n",
    "    min_tracking_confidence=0.5,\n",
    ")\n",
    "mp_drawing = mp.solutions.drawing_utils\n",
    "\n",
    "mp_drawing_styles = mp.solutions.drawing_styles\n",
    "landmark_style = mp_drawing_styles.get_default_hand_landmarks_style()\n",
    "\n",
    "connection_style = mp_drawing_styles.get_default_hand_connections_style()"
   ]
  },
  {
   "cell_type": "code",
   "execution_count": 15,
   "id": "84ef94fa-b201-4f79-bb81-b21ef2ca1acb",
   "metadata": {},
   "outputs": [],
   "source": [
    "def dataset_files(dataset_dir: str = \"../dataset/\", class_size: int = 70) -> list[tuple[int, str]]:\n",
    "    files_dataset = []\n",
    "    for dir_label in sorted(os.listdir(dataset_dir)):\n",
    "        dir_label_path = dataset_dir + dir_label\n",
    "        if os.path.isfile(dir_label_path):\n",
    "            continue\n",
    "        dir_label_path += \"/\"\n",
    "        index = int(dir_label.split(\"_\")[0])\n",
    "        files = os.listdir(dir_label_path)\n",
    "        files_dataset.extend([(index, dir_label_path + img_path) for img_path in np.random.choice(files, size=class_size)])\n",
    "    return files_dataset"
   ]
  },
  {
   "cell_type": "code",
   "execution_count": 4,
   "id": "9fdb8475-c067-4977-887c-fd9a9eceadab",
   "metadata": {},
   "outputs": [],
   "source": [
    "def test_images():\n",
    "    for key, value in files_dataest.items():\n",
    "        image = cv2.imread(value[0])\n",
    "        image = cv2.cvtColor(image, cv2.COLOR_BGR2RGB)\n",
    "        results = hands.process(image)\n",
    "        if results.multi_hand_landmarks:\n",
    "            for hand_landmarks in results.multi_hand_landmarks:\n",
    "                mp_drawing.draw_landmarks(\n",
    "                    image,\n",
    "                    hand_landmarks,\n",
    "                    mp_hands.HAND_CONNECTIONS,\n",
    "                    landmark_style,\n",
    "                    connection_style,\n",
    "                )\n",
    "        plt.imshow(image)\n",
    "        plt.title(key)\n",
    "        plt.show()"
   ]
  },
  {
   "cell_type": "code",
   "execution_count": 5,
   "id": "5e0d41c1-802e-419f-bef2-a7994c39d8a5",
   "metadata": {},
   "outputs": [
    {
     "name": "stderr",
     "output_type": "stream",
     "text": [
      "INFO: Created TensorFlow Lite XNNPACK delegate for CPU.\n"
     ]
    },
    {
     "data": {
      "text/plain": [
       "[(0, '../dataset/00_two_fingers_near/test_130.jpg'),\n",
       " (0, '../dataset/00_two_fingers_near/test_370.jpg'),\n",
       " (0, '../dataset/00_two_fingers_near/test_120.jpg'),\n",
       " (0, '../dataset/00_two_fingers_near/test_390.jpg'),\n",
       " (0, '../dataset/00_two_fingers_near/test_530.jpg')]"
      ]
     },
     "execution_count": 5,
     "metadata": {},
     "output_type": "execute_result"
    }
   ],
   "source": [
    "files = dataset_files()\n",
    "files[:5]"
   ]
  },
  {
   "cell_type": "code",
   "execution_count": 6,
   "id": "5c40e218-3b9e-4a1a-963a-3573a6a741ee",
   "metadata": {},
   "outputs": [],
   "source": [
    "def process_image(filename: str) -> NamedTuple:\n",
    "    image = cv2.imread(filename)\n",
    "    image = cv2.cvtColor(image, cv2.COLOR_BGR2RGB)\n",
    "\n",
    "    results = hands.process(image)\n",
    "    return results"
   ]
  },
  {
   "cell_type": "code",
   "execution_count": 7,
   "id": "0f4575ce-bb53-48f0-b80e-730fb4760080",
   "metadata": {},
   "outputs": [],
   "source": [
    "def process(filename: str) -> np.ndarray:\n",
    "    results = process_image(filename)\n",
    "    if results.multi_hand_landmarks is None:\n",
    "        return None\n",
    "    landmarks = results.multi_hand_landmarks[0].landmark\n",
    "\n",
    "    # Get the position of the wrist landmark (Landmark.WRIST)\n",
    "    wrist_position_x, wrist_position_y = (\n",
    "        landmarks[mp.solutions.hands.HandLandmark.WRIST].x,\n",
    "        landmarks[mp.solutions.hands.HandLandmark.WRIST].y,\n",
    "    )\n",
    "\n",
    "    # Normalize the landmarks relative to the wrist position\n",
    "    normalized_landmarks = []\n",
    "    for landmark in landmarks:\n",
    "        normalized_landmarks.append((landmark.x - wrist_position_x, landmark.y - wrist_position_y))  # landmark.z\n",
    "    normalized_landmarks = np.array(normalized_landmarks).flatten()\n",
    "    normalized_landmarks /= max(abs(normalized_landmarks))\n",
    "    return normalized_landmarks"
   ]
  },
  {
   "cell_type": "code",
   "execution_count": 8,
   "id": "53d3cad8-7bc0-4e8d-ac4f-8e9c37a800b7",
   "metadata": {},
   "outputs": [
    {
     "data": {
      "application/json": {
       "ascii": false,
       "bar_format": null,
       "colour": null,
       "elapsed": 0.01414346694946289,
       "initial": 0,
       "n": 0,
       "ncols": null,
       "nrows": 24,
       "postfix": null,
       "prefix": "",
       "rate": null,
       "total": 980,
       "unit": "it",
       "unit_divisor": 1000,
       "unit_scale": false
      },
      "application/vnd.jupyter.widget-view+json": {
       "model_id": "1b19868f2fff47afbeccb8c6c65fd46d",
       "version_major": 2,
       "version_minor": 0
      },
      "text/plain": [
       "  0%|          | 0/980 [00:00<?, ?it/s]"
      ]
     },
     "metadata": {},
     "output_type": "display_data"
    }
   ],
   "source": [
    "arr = []\n",
    "for label, file_path in tqdm(dataset_files()):\n",
    "    result = process(file_path)\n",
    "    if result is None:\n",
    "        continue\n",
    "    result = np.append(result, label)\n",
    "    arr.append(result)"
   ]
  },
  {
   "cell_type": "code",
   "execution_count": 9,
   "id": "207561a1-958a-452f-baf2-97aaea63fbc8",
   "metadata": {},
   "outputs": [
    {
     "data": {
      "text/plain": [
       "array([[ 0.00000000e+00,  0.00000000e+00,  4.44360700e-02,\n",
       "        -1.03808648e-01,  4.00798540e-02, -2.77725374e-01,\n",
       "        -2.89767195e-02, -4.21981806e-01, -8.94244189e-02,\n",
       "        -5.23506707e-01,  1.05966367e-01, -4.82416465e-01,\n",
       "         9.76239050e-02, -6.80546006e-01,  8.38208392e-02,\n",
       "        -8.13659037e-01,  6.90075982e-02, -9.32301102e-01,\n",
       "         4.16673268e-02, -5.07151103e-01,  4.04319414e-02,\n",
       "        -7.25125944e-01,  1.61790716e-02, -8.71698491e-01,\n",
       "        -4.54179558e-03, -1.00000000e+00, -1.61304360e-02,\n",
       "        -4.74242932e-01, -7.77790724e-02, -6.35047133e-01,\n",
       "        -9.81370207e-02, -5.45507093e-01, -1.00209447e-01,\n",
       "        -4.70625892e-01, -6.49037350e-02, -3.92737867e-01,\n",
       "        -1.15849280e-01, -4.72796269e-01, -1.07482819e-01,\n",
       "        -3.80417060e-01, -8.51475490e-02, -2.97516686e-01,\n",
       "         0.00000000e+00],\n",
       "       [ 0.00000000e+00,  0.00000000e+00,  8.43363446e-02,\n",
       "         1.82667090e-02,  1.84683968e-01, -1.03888063e-01,\n",
       "         1.86866901e-01, -2.56767525e-01,  1.12699001e-01,\n",
       "        -3.39595217e-01,  1.60356374e-01, -4.25186380e-01,\n",
       "         1.84764852e-01, -6.45897590e-01,  2.00578767e-01,\n",
       "        -8.08642460e-01,  2.13850245e-01, -9.44831889e-01,\n",
       "         9.11617132e-02, -4.69616412e-01,  1.08532177e-01,\n",
       "        -7.24814901e-01,  1.33746326e-01, -8.89673841e-01,\n",
       "         1.54187581e-01, -1.00000000e+00,  1.52432550e-02,\n",
       "        -4.54540143e-01,  6.67278887e-02, -6.22383120e-01,\n",
       "         7.93567682e-02, -4.88392093e-01,  8.11744189e-02,\n",
       "        -3.67116047e-01, -6.59522235e-02, -3.90538637e-01,\n",
       "        -8.01943077e-04, -4.48933810e-01,  4.55666926e-02,\n",
       "        -3.51805141e-01,  7.28713355e-02, -2.63415843e-01,\n",
       "         0.00000000e+00]])"
      ]
     },
     "execution_count": 9,
     "metadata": {},
     "output_type": "execute_result"
    }
   ],
   "source": [
    "arr = np.stack(arr)\n",
    "arr[:2]"
   ]
  },
  {
   "cell_type": "code",
   "execution_count": 10,
   "id": "6e5e9c92-de0e-4b8c-8631-967132f5a9bf",
   "metadata": {},
   "outputs": [],
   "source": [
    "col_names = sum([[f\"x{i}\", f\"y{i}\"] for i in range(1, 22)], [])\n",
    "col_names.append(\"label\")"
   ]
  },
  {
   "cell_type": "code",
   "execution_count": 11,
   "id": "1a081717-67cf-48f2-94a1-1276ef31f221",
   "metadata": {},
   "outputs": [],
   "source": [
    "with open(\"processed.npy\", \"wb\") as f:\n",
    "    np.save(f, arr)"
   ]
  },
  {
   "cell_type": "code",
   "execution_count": 12,
   "id": "76fdcabc-6150-4a42-bd2d-668457fb9c86",
   "metadata": {},
   "outputs": [
    {
     "data": {
      "text/plain": [
       "(918, 43)"
      ]
     },
     "execution_count": 12,
     "metadata": {},
     "output_type": "execute_result"
    }
   ],
   "source": [
    "arr.shape"
   ]
  },
  {
   "cell_type": "code",
   "execution_count": 14,
   "id": "2ddc49af-55e0-47f8-95d9-0d0a8da92600",
   "metadata": {},
   "outputs": [
    {
     "data": {
      "text/plain": [
       "(array([70., 70., 70., 70., 70., 70., 70., 70., 70., 70., 70., 70., 70.,\n",
       "        70.]),\n",
       " array([ 0.        ,  0.92857143,  1.85714286,  2.78571429,  3.71428571,\n",
       "         4.64285714,  5.57142857,  6.5       ,  7.42857143,  8.35714286,\n",
       "         9.28571429, 10.21428571, 11.14285714, 12.07142857, 13.        ]),\n",
       " <BarContainer object of 14 artists>)"
      ]
     },
     "execution_count": 14,
     "metadata": {},
     "output_type": "execute_result"
    },
    {
     "data": {
      "image/png": "[encoded data removed]",
      "text/plain": [
       "<Figure size 640x480 with 1 Axes>"
      ]
     },
     "metadata": {},
     "output_type": "display_data"
    }
   ],
   "source": [
    "plt.hist([label for label, _ in dataset_files()], bins=14)"
   ]
  },
  {
   "cell_type": "code",
   "execution_count": null,
   "id": "b08ad5b8-8020-445c-a52a-4f3710c2bcb5",
   "metadata": {},
   "outputs": [],
   "source": []
  }
 ],
 "metadata": {
  "kernelspec": {
   "display_name": "Python 3 (ipykernel)",
   "language": "python",
   "name": "python3"
  },
  "language_info": {
   "codemirror_mode": {
    "name": "ipython",
    "version": 3
   },
   "file_extension": ".py",
   "mimetype": "text/x-python",
   "name": "python",
   "nbconvert_exporter": "python",
   "pygments_lexer": "ipython3",
   "version": "3.10.4"
  },
  "widgets": {
   "application/vnd.jupyter.widget-state+json": {
    "state": {
     "010f89020f7b49339bef29017b4ca14e": {
      "model_module": "@jupyter-widgets/controls",
      "model_module_version": "2.0.0",
      "model_name": "HTMLStyleModel",
      "state": {
       "description_width": "",
       "font_size": null,
       "text_color": null
      }
     },
     "0cc10fd288004fb1ab424f8dc31cfa41": {
      "model_module": "@jupyter-widgets/base",
      "model_module_version": "2.0.0",
      "model_name": "LayoutModel",
      "state": {}
     },
     "0d0a76fad7164f60863748dc8b3a5f71": {
      "model_module": "@jupyter-widgets/controls",
      "model_module_version": "2.0.0",
      "model_name": "FloatProgressModel",
      "state": {
       "bar_style": "success",
       "layout": "IPY_MODEL_0cc10fd288004fb1ab424f8dc31cfa41",
       "max": 980,
       "style": "IPY_MODEL_2d98bb7eb03c4281867fef405b71ec4e",
       "value": 980
      }
     },
     "1b19868f2fff47afbeccb8c6c65fd46d": {
      "model_module": "@jupyter-widgets/controls",
      "model_module_version": "2.0.0",
      "model_name": "HBoxModel",
      "state": {
       "children": [
        "IPY_MODEL_50a38eb90bcf4a199dfd4dd38bd3c905",
        "IPY_MODEL_0d0a76fad7164f60863748dc8b3a5f71",
        "IPY_MODEL_61bb074b5b7c4fdd81d464d39d5b3f1e"
       ],
       "layout": "IPY_MODEL_d20963a40d384191a39de5ca7b72995e"
      }
     },
     "2d98bb7eb03c4281867fef405b71ec4e": {
      "model_module": "@jupyter-widgets/controls",
      "model_module_version": "2.0.0",
      "model_name": "ProgressStyleModel",
      "state": {
       "description_width": ""
      }
     },
     "3086095253e74ca2a826a79c430198d2": {
      "model_module": "@jupyter-widgets/base",
      "model_module_version": "2.0.0",
      "model_name": "LayoutModel",
      "state": {}
     },
     "50a38eb90bcf4a199dfd4dd38bd3c905": {
      "model_module": "@jupyter-widgets/controls",
      "model_module_version": "2.0.0",
      "model_name": "HTMLModel",
      "state": {
       "layout": "IPY_MODEL_3086095253e74ca2a826a79c430198d2",
       "style": "IPY_MODEL_8f6765709941468b8ca041045c03c2cc",
       "value": "100%"
      }
     },
     "61bb074b5b7c4fdd81d464d39d5b3f1e": {
      "model_module": "@jupyter-widgets/controls",
      "model_module_version": "2.0.0",
      "model_name": "HTMLModel",
      "state": {
       "layout": "IPY_MODEL_77e8e9aea58d4223a7ee251131b4e778",
       "style": "IPY_MODEL_010f89020f7b49339bef29017b4ca14e",
       "value": " 980/980 [00:30&lt;00:00, 22.64it/s]"
      }
     },
     "77e8e9aea58d4223a7ee251131b4e778": {
      "model_module": "@jupyter-widgets/base",
      "model_module_version": "2.0.0",
      "model_name": "LayoutModel",
      "state": {}
     },
     "8f6765709941468b8ca041045c03c2cc": {
      "model_module": "@jupyter-widgets/controls",
      "model_module_version": "2.0.0",
      "model_name": "HTMLStyleModel",
      "state": {
       "description_width": "",
       "font_size": null,
       "text_color": null
      }
     },
     "d20963a40d384191a39de5ca7b72995e": {
      "model_module": "@jupyter-widgets/base",
      "model_module_version": "2.0.0",
      "model_name": "LayoutModel",
      "state": {}
     }
    },
    "version_major": 2,
    "version_minor": 0
   }
  }
 },
 "nbformat": 4,
 "nbformat_minor": 5
}
