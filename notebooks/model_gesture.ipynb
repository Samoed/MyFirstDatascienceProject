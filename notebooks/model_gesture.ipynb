{
 "cells": [
  {
   "cell_type": "code",
   "execution_count": 1,
   "id": "097e1ea7-6844-408b-932b-0611dc4183f7",
   "metadata": {},
   "outputs": [],
   "source": [
    "import os\n",
    "\n",
    "import cv2\n",
    "import numpy as np\n",
    "import torch\n",
    "import torch.nn.functional as F\n",
    "from matplotlib import pyplot as plt\n",
    "import seaborn as sns\n",
    "from sklearn.metrics import f1_score\n",
    "from sklearn.model_selection import train_test_split\n",
    "from torch import nn, optim\n",
    "from torch.utils.data import DataLoader, Dataset\n",
    "from tqdm.autonotebook import tqdm"
   ]
  },
  {
   "cell_type": "code",
   "execution_count": 2,
   "id": "314c9608-6486-453a-a088-cfbdf4fcde14",
   "metadata": {},
   "outputs": [],
   "source": [
    "class HandLandmarksDataset(Dataset):\n",
    "    def __init__(self, imgs: np.ndarray):\n",
    "        self.imgs = imgs\n",
    "\n",
    "    def __len__(self):\n",
    "        return len(self.imgs)\n",
    "\n",
    "    def __getitem__(self, idx):\n",
    "        arr = self.imgs[idx]\n",
    "        return torch.tensor(arr[:-1], dtype=torch.float32), torch.tensor(arr[-1], dtype=torch.int64)"
   ]
  },
  {
   "cell_type": "code",
   "execution_count": 3,
   "id": "0415ddc2-0869-4f4d-b108-fe2674fb2b37",
   "metadata": {},
   "outputs": [],
   "source": [
    "class GestureClassifier(nn.Module):\n",
    "    def __init__(self, num_classes=14):\n",
    "        super(GestureClassifier, self).__init__()\n",
    "\n",
    "        # Fully connected layers\n",
    "        self.fc1 = nn.Linear(42, 128)  # 21 * 2\n",
    "        self.fc2 = nn.Linear(128, 64)\n",
    "        self.fc3 = nn.Linear(64, num_classes)  # 14 classes for the gestures\n",
    "\n",
    "    def forward(self, x):\n",
    "        # x = x.view(-1, 21 * 2)\n",
    "        x = F.relu(self.fc1(x))\n",
    "        x = F.relu(self.fc2(x))\n",
    "        x = self.fc3(x)\n",
    "        return x"
   ]
  },
  {
   "cell_type": "code",
   "execution_count": 4,
   "id": "f3dc87bb-d852-40ea-9b22-150ffaacfce2",
   "metadata": {},
   "outputs": [
    {
     "data": {
      "text/plain": [
       "(918, 43)"
      ]
     },
     "execution_count": 4,
     "metadata": {},
     "output_type": "execute_result"
    }
   ],
   "source": [
    "data = np.load(\"processed.npy\")\n",
    "data.shape"
   ]
  },
  {
   "cell_type": "code",
   "execution_count": 5,
   "id": "bbd97e71-a278-4c8b-9bfe-1df8d3596313",
   "metadata": {},
   "outputs": [
    {
     "data": {
      "text/plain": [
       "((826, 43), (92, 43))"
      ]
     },
     "execution_count": 5,
     "metadata": {},
     "output_type": "execute_result"
    }
   ],
   "source": [
    "train_data, test_data = train_test_split(data, test_size=0.1, random_state=42)\n",
    "train_data.shape, test_data.shape"
   ]
  },
  {
   "cell_type": "code",
   "execution_count": 6,
   "id": "8f99f0c4-fb43-48db-b329-6a8d0db91de9",
   "metadata": {},
   "outputs": [
    {
     "data": {
      "text/plain": [
       "(array([ 8.,  5.,  5.,  5.,  5., 10.,  5.,  6.,  6.,  7.,  8.,  9.,  8.,\n",
       "         5.]),\n",
       " array([ 0.        ,  0.92857143,  1.85714286,  2.78571429,  3.71428571,\n",
       "         4.64285714,  5.57142857,  6.5       ,  7.42857143,  8.35714286,\n",
       "         9.28571429, 10.21428571, 11.14285714, 12.07142857, 13.        ]),\n",
       " <BarContainer object of 14 artists>)"
      ]
     },
     "execution_count": 6,
     "metadata": {},
     "output_type": "execute_result"
    },
    {
     "data": {
      "image/png": "[encoded data removed]",
      "text/plain": [
       "<Figure size 640x480 with 2 Axes>"
      ]
     },
     "metadata": {},
     "output_type": "display_data"
    }
   ],
   "source": [
    "fix, ax = plt.subplots(2)\n",
    "\n",
    "ax[0].set_title(\"train_labels\")\n",
    "ax[0].hist([arr[-1] for arr in train_data], bins=14)\n",
    "\n",
    "ax[1].set_title(\"test_labels\")\n",
    "ax[1].hist([arr[-1] for arr in test_data], bins=14)"
   ]
  },
  {
   "cell_type": "code",
   "execution_count": 7,
   "id": "82cc7059-d9c2-4e16-8ffa-a5b9dc8e184a",
   "metadata": {},
   "outputs": [],
   "source": [
    "BATCH_SIZE = 8\n",
    "# Create the dataset and dataloader\n",
    "train_dataset = HandLandmarksDataset(train_data)\n",
    "train_loader = DataLoader(train_dataset, batch_size=BATCH_SIZE, shuffle=True)\n",
    "\n",
    "test_dataset = HandLandmarksDataset(test_data)\n",
    "test_loader = DataLoader(test_dataset, batch_size=BATCH_SIZE, shuffle=True)\n",
    "\n",
    "# Load the model and define the loss and optimizer\n",
    "model = GestureClassifier()\n",
    "# device = torch.device(\"cuda\" if torch.cuda.is_available() else \"cpu\")\n",
    "device = torch.device(\"cpu\")\n",
    "criterion = nn.CrossEntropyLoss()\n",
    "optimizer = optim.Adam(model.parameters(), lr=0.001)"
   ]
  },
  {
   "cell_type": "code",
   "execution_count": 8,
   "id": "04360c1c-b17c-46f1-9734-c7efb524153b",
   "metadata": {},
   "outputs": [
    {
     "data": {
      "text/plain": [
       "(tensor([ 0.0000,  0.0000,  0.1723, -0.0576,  0.3348, -0.2590,  0.4425, -0.4545,\n",
       "          0.5449, -0.5635,  0.2280, -0.5501,  0.2593, -0.6714,  0.2212, -0.4619,\n",
       "          0.1871, -0.3378,  0.1087, -0.5744,  0.1330, -0.6580,  0.1142, -0.4073,\n",
       "          0.1036, -0.3183, -0.0070, -0.5612,  0.0019, -0.6583,  0.0158, -0.4363,\n",
       "          0.0265, -0.3289, -0.1170, -0.5246, -0.1560, -0.7294, -0.1811, -0.8455,\n",
       "         -0.2042, -1.0000]),\n",
       " tensor(9))"
      ]
     },
     "execution_count": 8,
     "metadata": {},
     "output_type": "execute_result"
    }
   ],
   "source": [
    "train_dataset[100]"
   ]
  },
  {
   "cell_type": "code",
   "execution_count": 9,
   "id": "6fdb25fb-97b6-4a1c-935d-8d0c1339d0b4",
   "metadata": {},
   "outputs": [],
   "source": [
    "def train(\n",
    "    model, train_loader, test_loader, criterion, optimizer, num_epochs=10, batch_size=32, device=torch.device(\"cpu\")\n",
    "):\n",
    "    # Train the model\n",
    "    train_predicted = []\n",
    "    train_labels = []\n",
    "    for epoch in tqdm(range(num_epochs), desc=\"Epochs\"):\n",
    "        # Set the model to training mode\n",
    "        model.train()\n",
    "\n",
    "        # Initialize running loss and accuracy\n",
    "        running_loss = 0.0\n",
    "        running_accuracy = 0.0\n",
    "\n",
    "        # Train on the batches in the training set\n",
    "        pbar = tqdm(train_loader, desc=f\"Train Epoch {epoch+1}/{num_epochs}\")\n",
    "        for i, (inputs, labels) in enumerate(pbar):\n",
    "            # Send the inputs and labels to the device\n",
    "            inputs = inputs.to(device)\n",
    "            labels = labels.to(device)\n",
    "\n",
    "            # Zero the gradients\n",
    "            optimizer.zero_grad()\n",
    "\n",
    "            # Forward pass and backward pass\n",
    "            outputs = model(inputs)\n",
    "            loss = criterion(outputs, labels)\n",
    "            loss.backward()\n",
    "            optimizer.step()\n",
    "\n",
    "            # Update the running loss and accuracy\n",
    "            running_loss += loss.item() * inputs.size(0)\n",
    "            _, predicted = torch.max(outputs.data, 1)\n",
    "            running_accuracy += torch.sum(predicted == labels).item()\n",
    "\n",
    "            train_predicted.extend(predicted.tolist())\n",
    "            train_labels.extend(labels.tolist())\n",
    "\n",
    "        # Compute the average loss and accuracy for the epoch\n",
    "        epoch_loss = running_loss / len(train_dataset)\n",
    "        epoch_accuracy = running_accuracy / len(train_dataset)\n",
    "        epoch_f1 = f1_score(train_labels, train_predicted, average=\"macro\")\n",
    "\n",
    "        # Print the training loss and accuracy for the epoch\n",
    "        print(f\"Train Epoch {epoch+1}: Loss={epoch_loss:.4f}, Accuracy={epoch_accuracy:.4f}, F1={epoch_f1:.4f}\")\n",
    "\n",
    "        # Set the model to evaluation mode\n",
    "        model.eval()\n",
    "\n",
    "        # Initialize test loss and accuracy\n",
    "        test_loss = 0.0\n",
    "        test_accuracy = 0.0\n",
    "\n",
    "        # Evaluate on the batches in the test set\n",
    "        with torch.no_grad():\n",
    "            pbar = tqdm(test_loader, desc=f\"Test Epoch {epoch+1}/{num_epochs}\")\n",
    "\n",
    "            test_predicted = []\n",
    "            test_labels = []\n",
    "            for i, (inputs, labels) in enumerate(pbar):\n",
    "                # Send the inputs and labels to the device\n",
    "                inputs = inputs.to(device)\n",
    "                labels = labels.to(device)\n",
    "\n",
    "                # Forward pass\n",
    "                outputs = model(inputs)\n",
    "\n",
    "                # Compute the loss and accuracy\n",
    "                loss = criterion(outputs, labels)\n",
    "                test_loss += loss.item() * inputs.size(0)\n",
    "                _, predicted = torch.max(outputs.data, 1)\n",
    "                test_accuracy += torch.sum(predicted == labels).item()\n",
    "\n",
    "                test_predicted.extend(predicted.tolist())\n",
    "                test_labels.extend(labels.tolist())\n",
    "\n",
    "        # Compute the average test loss and accuracy for the epoch\n",
    "        test_loss /= len(test_dataset)\n",
    "        test_accuracy /= len(test_dataset)\n",
    "        test_f1 = f1_score(test_labels, test_predicted, average=\"macro\")\n",
    "\n",
    "        # Print the test loss and accuracy for the epoch\n",
    "        print(f\"Test Epoch {epoch+1}: Loss={test_loss:.4f}, Accuracy={test_accuracy:.4f}, F1={test_f1:.4f}\")"
   ]
  },
  {
   "cell_type": "code",
   "execution_count": 14,
   "id": "0ba22dca-bdc4-4e5e-a75d-65fc79b82d2c",
   "metadata": {},
   "outputs": [
    {
     "data": {
      "application/json": {
       "ascii": false,
       "bar_format": null,
       "colour": null,
       "elapsed": 0.011449098587036133,
       "initial": 0,
       "n": 0,
       "ncols": null,
       "nrows": 24,
       "postfix": null,
       "prefix": "Epochs",
       "rate": null,
       "total": 7,
       "unit": "it",
       "unit_divisor": 1000,
       "unit_scale": false
      },
      "application/vnd.jupyter.widget-view+json": {
       "model_id": "8b376fd3d45d44669579fe53e9fc09ea",
       "version_major": 2,
       "version_minor": 0
      },
      "text/plain": [
       "Epochs:   0%|          | 0/7 [00:00<?, ?it/s]"
      ]
     },
     "metadata": {},
     "output_type": "display_data"
    },
    {
     "data": {
      "application/json": {
       "ascii": false,
       "bar_format": null,
       "colour": null,
       "elapsed": 0.011601448059082031,
       "initial": 0,
       "n": 0,
       "ncols": null,
       "nrows": 24,
       "postfix": null,
       "prefix": "Train Epoch 1/7",
       "rate": null,
       "total": 104,
       "unit": "it",
       "unit_divisor": 1000,
       "unit_scale": false
      },
      "application/vnd.jupyter.widget-view+json": {
       "model_id": "5800f5be29554df1a124a7ae834bab07",
       "version_major": 2,
       "version_minor": 0
      },
      "text/plain": [
       "Train Epoch 1/7:   0%|          | 0/104 [00:00<?, ?it/s]"
      ]
     },
     "metadata": {},
     "output_type": "display_data"
    },
    {
     "name": "stdout",
     "output_type": "stream",
     "text": [
      "Train Epoch 1: Loss=0.2595, Accuracy=0.9467, F1=0.9467\n"
     ]
    },
    {
     "data": {
      "application/json": {
       "ascii": false,
       "bar_format": null,
       "colour": null,
       "elapsed": 0.017927885055541992,
       "initial": 0,
       "n": 0,
       "ncols": null,
       "nrows": 24,
       "postfix": null,
       "prefix": "Test Epoch 1/7",
       "rate": null,
       "total": 12,
       "unit": "it",
       "unit_divisor": 1000,
       "unit_scale": false
      },
      "application/vnd.jupyter.widget-view+json": {
       "model_id": "ea910aadfe6d4fdd8f4af4e418fc8a59",
       "version_major": 2,
       "version_minor": 0
      },
      "text/plain": [
       "Test Epoch 1/7:   0%|          | 0/12 [00:00<?, ?it/s]"
      ]
     },
     "metadata": {},
     "output_type": "display_data"
    },
    {
     "name": "stdout",
     "output_type": "stream",
     "text": [
      "Test Epoch 1: Loss=0.2845, Accuracy=0.9348, F1=0.9361\n"
     ]
    },
    {
     "data": {
      "application/json": {
       "ascii": false,
       "bar_format": null,
       "colour": null,
       "elapsed": 0.014084577560424805,
       "initial": 0,
       "n": 0,
       "ncols": null,
       "nrows": 24,
       "postfix": null,
       "prefix": "Train Epoch 2/7",
       "rate": null,
       "total": 104,
       "unit": "it",
       "unit_divisor": 1000,
       "unit_scale": false
      },
      "application/vnd.jupyter.widget-view+json": {
       "model_id": "8756ebada1c5450eb3404dbc0e3e0b26",
       "version_major": 2,
       "version_minor": 0
      },
      "text/plain": [
       "Train Epoch 2/7:   0%|          | 0/104 [00:00<?, ?it/s]"
      ]
     },
     "metadata": {},
     "output_type": "display_data"
    },
    {
     "name": "stdout",
     "output_type": "stream",
     "text": [
      "Train Epoch 2: Loss=0.2511, Accuracy=0.9298, F1=0.9382\n"
     ]
    },
    {
     "data": {
      "application/json": {
       "ascii": false,
       "bar_format": null,
       "colour": null,
       "elapsed": 0.018810272216796875,
       "initial": 0,
       "n": 0,
       "ncols": null,
       "nrows": 24,
       "postfix": null,
       "prefix": "Test Epoch 2/7",
       "rate": null,
       "total": 12,
       "unit": "it",
       "unit_divisor": 1000,
       "unit_scale": false
      },
      "application/vnd.jupyter.widget-view+json": {
       "model_id": "41a380bebd564e3a8076b68485949268",
       "version_major": 2,
       "version_minor": 0
      },
      "text/plain": [
       "Test Epoch 2/7:   0%|          | 0/12 [00:00<?, ?it/s]"
      ]
     },
     "metadata": {},
     "output_type": "display_data"
    },
    {
     "name": "stdout",
     "output_type": "stream",
     "text": [
      "Test Epoch 2: Loss=0.2968, Accuracy=0.9022, F1=0.9019\n"
     ]
    },
    {
     "data": {
      "application/json": {
       "ascii": false,
       "bar_format": null,
       "colour": null,
       "elapsed": 0.011921882629394531,
       "initial": 0,
       "n": 0,
       "ncols": null,
       "nrows": 24,
       "postfix": null,
       "prefix": "Train Epoch 3/7",
       "rate": null,
       "total": 104,
       "unit": "it",
       "unit_divisor": 1000,
       "unit_scale": false
      },
      "application/vnd.jupyter.widget-view+json": {
       "model_id": "fdcdf94032704c2a9c905c59395bcaad",
       "version_major": 2,
       "version_minor": 0
      },
      "text/plain": [
       "Train Epoch 3/7:   0%|          | 0/104 [00:00<?, ?it/s]"
      ]
     },
     "metadata": {},
     "output_type": "display_data"
    },
    {
     "name": "stdout",
     "output_type": "stream",
     "text": [
      "Train Epoch 3: Loss=0.2232, Accuracy=0.9467, F1=0.9411\n"
     ]
    },
    {
     "data": {
      "application/json": {
       "ascii": false,
       "bar_format": null,
       "colour": null,
       "elapsed": 0.012235641479492188,
       "initial": 0,
       "n": 0,
       "ncols": null,
       "nrows": 24,
       "postfix": null,
       "prefix": "Test Epoch 3/7",
       "rate": null,
       "total": 12,
       "unit": "it",
       "unit_divisor": 1000,
       "unit_scale": false
      },
      "application/vnd.jupyter.widget-view+json": {
       "model_id": "e0d40360e04744b2931a034e0c681e6d",
       "version_major": 2,
       "version_minor": 0
      },
      "text/plain": [
       "Test Epoch 3/7:   0%|          | 0/12 [00:00<?, ?it/s]"
      ]
     },
     "metadata": {},
     "output_type": "display_data"
    },
    {
     "name": "stdout",
     "output_type": "stream",
     "text": [
      "Test Epoch 3: Loss=0.2328, Accuracy=0.9565, F1=0.9505\n"
     ]
    },
    {
     "data": {
      "application/json": {
       "ascii": false,
       "bar_format": null,
       "colour": null,
       "elapsed": 0.011815786361694336,
       "initial": 0,
       "n": 0,
       "ncols": null,
       "nrows": 24,
       "postfix": null,
       "prefix": "Train Epoch 4/7",
       "rate": null,
       "total": 104,
       "unit": "it",
       "unit_divisor": 1000,
       "unit_scale": false
      },
      "application/vnd.jupyter.widget-view+json": {
       "model_id": "e96fb1139c8a4ffea119617a5e2a5cb1",
       "version_major": 2,
       "version_minor": 0
      },
      "text/plain": [
       "Train Epoch 4/7:   0%|          | 0/104 [00:00<?, ?it/s]"
      ]
     },
     "metadata": {},
     "output_type": "display_data"
    },
    {
     "name": "stdout",
     "output_type": "stream",
     "text": [
      "Train Epoch 4: Loss=0.2113, Accuracy=0.9467, F1=0.9425\n"
     ]
    },
    {
     "data": {
      "application/json": {
       "ascii": false,
       "bar_format": null,
       "colour": null,
       "elapsed": 0.012762784957885742,
       "initial": 0,
       "n": 0,
       "ncols": null,
       "nrows": 24,
       "postfix": null,
       "prefix": "Test Epoch 4/7",
       "rate": null,
       "total": 12,
       "unit": "it",
       "unit_divisor": 1000,
       "unit_scale": false
      },
      "application/vnd.jupyter.widget-view+json": {
       "model_id": "1bc6231626174d328cd3a9b52e9f1cca",
       "version_major": 2,
       "version_minor": 0
      },
      "text/plain": [
       "Test Epoch 4/7:   0%|          | 0/12 [00:00<?, ?it/s]"
      ]
     },
     "metadata": {},
     "output_type": "display_data"
    },
    {
     "name": "stdout",
     "output_type": "stream",
     "text": [
      "Test Epoch 4: Loss=0.2655, Accuracy=0.9457, F1=0.9453\n"
     ]
    },
    {
     "data": {
      "application/json": {
       "ascii": false,
       "bar_format": null,
       "colour": null,
       "elapsed": 0.01203298568725586,
       "initial": 0,
       "n": 0,
       "ncols": null,
       "nrows": 24,
       "postfix": null,
       "prefix": "Train Epoch 5/7",
       "rate": null,
       "total": 104,
       "unit": "it",
       "unit_divisor": 1000,
       "unit_scale": false
      },
      "application/vnd.jupyter.widget-view+json": {
       "model_id": "d2956bc40a9949c1a19f91b9a2e851e0",
       "version_major": 2,
       "version_minor": 0
      },
      "text/plain": [
       "Train Epoch 5/7:   0%|          | 0/104 [00:00<?, ?it/s]"
      ]
     },
     "metadata": {},
     "output_type": "display_data"
    },
    {
     "name": "stdout",
     "output_type": "stream",
     "text": [
      "Train Epoch 5: Loss=0.1939, Accuracy=0.9492, F1=0.9439\n"
     ]
    },
    {
     "data": {
      "application/json": {
       "ascii": false,
       "bar_format": null,
       "colour": null,
       "elapsed": 0.01755833625793457,
       "initial": 0,
       "n": 0,
       "ncols": null,
       "nrows": 24,
       "postfix": null,
       "prefix": "Test Epoch 5/7",
       "rate": null,
       "total": 12,
       "unit": "it",
       "unit_divisor": 1000,
       "unit_scale": false
      },
      "application/vnd.jupyter.widget-view+json": {
       "model_id": "c11734bb43cb4bdb8c5c226faaf6d521",
       "version_major": 2,
       "version_minor": 0
      },
      "text/plain": [
       "Test Epoch 5/7:   0%|          | 0/12 [00:00<?, ?it/s]"
      ]
     },
     "metadata": {},
     "output_type": "display_data"
    },
    {
     "name": "stdout",
     "output_type": "stream",
     "text": [
      "Test Epoch 5: Loss=0.3328, Accuracy=0.8913, F1=0.8954\n"
     ]
    },
    {
     "data": {
      "application/json": {
       "ascii": false,
       "bar_format": null,
       "colour": null,
       "elapsed": 0.013501405715942383,
       "initial": 0,
       "n": 0,
       "ncols": null,
       "nrows": 24,
       "postfix": null,
       "prefix": "Train Epoch 6/7",
       "rate": null,
       "total": 104,
       "unit": "it",
       "unit_divisor": 1000,
       "unit_scale": false
      },
      "application/vnd.jupyter.widget-view+json": {
       "model_id": "fe2cc49b77b24ab08a97fb486ac857ce",
       "version_major": 2,
       "version_minor": 0
      },
      "text/plain": [
       "Train Epoch 6/7:   0%|          | 0/104 [00:00<?, ?it/s]"
      ]
     },
     "metadata": {},
     "output_type": "display_data"
    },
    {
     "name": "stdout",
     "output_type": "stream",
     "text": [
      "Train Epoch 6: Loss=0.1953, Accuracy=0.9552, F1=0.9458\n"
     ]
    },
    {
     "data": {
      "application/json": {
       "ascii": false,
       "bar_format": null,
       "colour": null,
       "elapsed": 0.01107478141784668,
       "initial": 0,
       "n": 0,
       "ncols": null,
       "nrows": 24,
       "postfix": null,
       "prefix": "Test Epoch 6/7",
       "rate": null,
       "total": 12,
       "unit": "it",
       "unit_divisor": 1000,
       "unit_scale": false
      },
      "application/vnd.jupyter.widget-view+json": {
       "model_id": "2509d051d29d4a5f90ee9111881fde9c",
       "version_major": 2,
       "version_minor": 0
      },
      "text/plain": [
       "Test Epoch 6/7:   0%|          | 0/12 [00:00<?, ?it/s]"
      ]
     },
     "metadata": {},
     "output_type": "display_data"
    },
    {
     "name": "stdout",
     "output_type": "stream",
     "text": [
      "Test Epoch 6: Loss=0.1978, Accuracy=0.9674, F1=0.9635\n"
     ]
    },
    {
     "data": {
      "application/json": {
       "ascii": false,
       "bar_format": null,
       "colour": null,
       "elapsed": 0.012849092483520508,
       "initial": 0,
       "n": 0,
       "ncols": null,
       "nrows": 24,
       "postfix": null,
       "prefix": "Train Epoch 7/7",
       "rate": null,
       "total": 104,
       "unit": "it",
       "unit_divisor": 1000,
       "unit_scale": false
      },
      "application/vnd.jupyter.widget-view+json": {
       "model_id": "e09af64fa2dd43449a348c2600886833",
       "version_major": 2,
       "version_minor": 0
      },
      "text/plain": [
       "Train Epoch 7/7:   0%|          | 0/104 [00:00<?, ?it/s]"
      ]
     },
     "metadata": {},
     "output_type": "display_data"
    },
    {
     "name": "stdout",
     "output_type": "stream",
     "text": [
      "Train Epoch 7: Loss=0.1927, Accuracy=0.9588, F1=0.9476\n"
     ]
    },
    {
     "data": {
      "application/json": {
       "ascii": false,
       "bar_format": null,
       "colour": null,
       "elapsed": 0.011194467544555664,
       "initial": 0,
       "n": 0,
       "ncols": null,
       "nrows": 24,
       "postfix": null,
       "prefix": "Test Epoch 7/7",
       "rate": null,
       "total": 12,
       "unit": "it",
       "unit_divisor": 1000,
       "unit_scale": false
      },
      "application/vnd.jupyter.widget-view+json": {
       "model_id": "50e9dcbe750f4826a962539ddad017f4",
       "version_major": 2,
       "version_minor": 0
      },
      "text/plain": [
       "Test Epoch 7/7:   0%|          | 0/12 [00:00<?, ?it/s]"
      ]
     },
     "metadata": {},
     "output_type": "display_data"
    },
    {
     "name": "stdout",
     "output_type": "stream",
     "text": [
      "Test Epoch 7: Loss=0.2765, Accuracy=0.9239, F1=0.9247\n"
     ]
    }
   ],
   "source": [
    "train(model, train_loader, test_loader, criterion, optimizer, num_epochs=7)"
   ]
  },
  {
   "cell_type": "code",
   "execution_count": 11,
   "id": "e514170f-354e-4e6d-add7-b087fa50b778",
   "metadata": {},
   "outputs": [],
   "source": [
    "torch.save(model, \"model.pth\")"
   ]
  },
  {
   "cell_type": "code",
   "execution_count": 12,
   "id": "f9504c15-e618-434a-81dd-c91684db444f",
   "metadata": {},
   "outputs": [
    {
     "name": "stderr",
     "output_type": "stream",
     "text": [
      "2023-04-15 19:37:21.614138: I tensorflow/core/util/port.cc:110] oneDNN custom operations are on. You may see slightly different numerical results due to floating-point round-off errors from different computation orders. To turn them off, set the environment variable `TF_ENABLE_ONEDNN_OPTS=0`.\n",
      "2023-04-15 19:37:21.672424: I tensorflow/core/platform/cpu_feature_guard.cc:182] This TensorFlow binary is optimized to use available CPU instructions in performance-critical operations.\n",
      "To enable the following instructions: AVX2 AVX512F AVX512_VNNI FMA, in other operations, rebuild TensorFlow with the appropriate compiler flags.\n",
      "2023-04-15 19:37:22.574125: W tensorflow/compiler/tf2tensorrt/utils/py_utils.cc:38] TF-TRT Warning: Could not find TensorRT\n",
      "/home/samoed/.pyenv/versions/3.10.4/lib/python3.10/site-packages/tensorflow_addons/utils/tfa_eol_msg.py:23: UserWarning: \n",
      "\n",
      "TensorFlow Addons (TFA) has ended development and introduction of new features.\n",
      "TFA has entered a minimal maintenance and release mode until a planned end of life in May 2024.\n",
      "Please modify downstream libraries to take dependencies from other repositories in our TensorFlow community (e.g. Keras, Keras-CV, and Keras-NLP). \n",
      "\n",
      "For more information see: https://github.com/tensorflow/addons/issues/2807 \n",
      "\n",
      "  warnings.warn(\n"
     ]
    }
   ],
   "source": [
    "import onnx\n",
    "import tensorflow as tf\n",
    "from onnx_tf.backend import prepare\n",
    "\n",
    "\n",
    "def pytorch_to_tensorflowlight(model: GestureClassifier, model_name: str = \"gesture\"):\n",
    "    dummy_input = torch.randn(1, 21 * 2)\n",
    "\n",
    "    input_names = [\"actual_input_1\"] + [\"learned_%d\" % i for i in range(6)]\n",
    "    output_names = [\"output1\"]\n",
    "\n",
    "    onnx_name = model_name + \".onnx\"\n",
    "\n",
    "    torch.onnx.export(model, dummy_input, onnx_name, verbose=True, input_names=input_names, output_names=output_names)\n",
    "\n",
    "    onnx_model = onnx.load(onnx_name)\n",
    "    tf_rep = prepare(onnx_model)\n",
    "\n",
    "    tf_rep.export_graph(model_name)\n",
    "\n",
    "    # Convert the model\n",
    "    converter = tf.lite.TFLiteConverter.from_saved_model(model_name)  # path to the SavedModel directory\n",
    "    tflite_model = converter.convert()\n",
    "\n",
    "    # Save the model.\n",
    "    with open(f\"{model_name}.tflite\", \"wb\") as f:\n",
    "        f.write(tflite_model)"
   ]
  },
  {
   "cell_type": "code",
   "execution_count": 13,
   "id": "136cba54-8ff9-4f28-b4f5-93c088d46a6a",
   "metadata": {},
   "outputs": [
    {
     "name": "stdout",
     "output_type": "stream",
     "text": [
      "Exported graph: graph(%actual_input_1 : Float(1, 42, strides=[42, 1], requires_grad=0, device=cpu),\n",
      "      %learned_0 : Float(128, 42, strides=[42, 1], requires_grad=1, device=cpu),\n",
      "      %learned_1 : Float(128, strides=[1], requires_grad=1, device=cpu),\n",
      "      %learned_2 : Float(64, 128, strides=[128, 1], requires_grad=1, device=cpu),\n",
      "      %learned_3 : Float(64, strides=[1], requires_grad=1, device=cpu),\n",
      "      %learned_4 : Float(14, 64, strides=[64, 1], requires_grad=1, device=cpu),\n",
      "      %learned_5 : Float(14, strides=[1], requires_grad=1, device=cpu)):\n",
      "  %/fc1/Gemm_output_0 : Float(1, 128, strides=[128, 1], requires_grad=1, device=cpu) = onnx::Gemm[alpha=1., beta=1., transB=1, onnx_name=\"/fc1/Gemm\"](%actual_input_1, %learned_0, %learned_1), scope: __main__.GestureClassifier::/torch.nn.modules.linear.Linear::fc1 # /home/samoed/.pyenv/versions/3.10.4/lib/python3.10/site-packages/torch/nn/modules/linear.py:114:0\n",
      "  %/Relu_output_0 : Float(1, 128, strides=[128, 1], requires_grad=1, device=cpu) = onnx::Relu[onnx_name=\"/Relu\"](%/fc1/Gemm_output_0), scope: __main__.GestureClassifier:: # /home/samoed/.pyenv/versions/3.10.4/lib/python3.10/site-packages/torch/nn/functional.py:1453:0\n",
      "  %/fc2/Gemm_output_0 : Float(1, 64, strides=[64, 1], requires_grad=1, device=cpu) = onnx::Gemm[alpha=1., beta=1., transB=1, onnx_name=\"/fc2/Gemm\"](%/Relu_output_0, %learned_2, %learned_3), scope: __main__.GestureClassifier::/torch.nn.modules.linear.Linear::fc2 # /home/samoed/.pyenv/versions/3.10.4/lib/python3.10/site-packages/torch/nn/modules/linear.py:114:0\n",
      "  %/Relu_1_output_0 : Float(1, 64, strides=[64, 1], requires_grad=1, device=cpu) = onnx::Relu[onnx_name=\"/Relu_1\"](%/fc2/Gemm_output_0), scope: __main__.GestureClassifier:: # /home/samoed/.pyenv/versions/3.10.4/lib/python3.10/site-packages/torch/nn/functional.py:1453:0\n",
      "  %output1 : Float(1, 14, strides=[14, 1], requires_grad=1, device=cpu) = onnx::Gemm[alpha=1., beta=1., transB=1, onnx_name=\"/fc3/Gemm\"](%/Relu_1_output_0, %learned_4, %learned_5), scope: __main__.GestureClassifier::/torch.nn.modules.linear.Linear::fc3 # /home/samoed/.pyenv/versions/3.10.4/lib/python3.10/site-packages/torch/nn/modules/linear.py:114:0\n",
      "  return (%output1)\n",
      "\n"
     ]
    },
    {
     "name": "stderr",
     "output_type": "stream",
     "text": [
      "2023-04-15 19:37:23.672927: I tensorflow/compiler/xla/stream_executor/cuda/cuda_gpu_executor.cc:996] successful NUMA node read from SysFS had negative value (-1), but there must be at least one NUMA node, so returning NUMA node zero. See more at https://github.com/torvalds/linux/blob/v6.0/Documentation/ABI/testing/sysfs-bus-pci#L344-L355\n",
      "2023-04-15 19:37:23.770643: W tensorflow/core/common_runtime/gpu/gpu_device.cc:1956] Cannot dlopen some GPU libraries. Please make sure the missing libraries mentioned above are installed properly if you would like to use GPU. Follow the guide at https://www.tensorflow.org/install/gpu for how to download and setup the required libraries for your platform.\n",
      "Skipping registering GPU devices...\n",
      "WARNING:absl:Found untraced functions such as gen_tensor_dict while saving (showing 1 of 1). These functions will not be directly callable after loading.\n"
     ]
    },
    {
     "name": "stdout",
     "output_type": "stream",
     "text": [
      "INFO:tensorflow:Assets written to: gesture/assets\n"
     ]
    },
    {
     "name": "stderr",
     "output_type": "stream",
     "text": [
      "INFO:tensorflow:Assets written to: gesture/assets\n",
      "2023-04-15 19:37:25.126065: W tensorflow/compiler/mlir/lite/python/tf_tfl_flatbuffer_helpers.cc:364] Ignored output_format.\n",
      "2023-04-15 19:37:25.126093: W tensorflow/compiler/mlir/lite/python/tf_tfl_flatbuffer_helpers.cc:367] Ignored drop_control_dependency.\n",
      "2023-04-15 19:37:25.126997: I tensorflow/cc/saved_model/reader.cc:45] Reading SavedModel from: gesture\n",
      "2023-04-15 19:37:25.127371: I tensorflow/cc/saved_model/reader.cc:89] Reading meta graph with tags { serve }\n",
      "2023-04-15 19:37:25.127382: I tensorflow/cc/saved_model/reader.cc:130] Reading SavedModel debug info (if present) from: gesture\n",
      "2023-04-15 19:37:25.128351: I tensorflow/compiler/mlir/mlir_graph_optimization_pass.cc:353] MLIR V1 optimization pass is not enabled\n",
      "2023-04-15 19:37:25.128645: I tensorflow/cc/saved_model/loader.cc:231] Restoring SavedModel bundle.\n",
      "2023-04-15 19:37:25.158174: I tensorflow/cc/saved_model/loader.cc:215] Running initialization op on SavedModel bundle at path: gesture\n",
      "2023-04-15 19:37:25.161988: I tensorflow/cc/saved_model/loader.cc:314] SavedModel load for tags { serve }; Status: success: OK. Took 34994 microseconds.\n",
      "2023-04-15 19:37:25.178162: I tensorflow/compiler/mlir/tensorflow/utils/dump_mlir_util.cc:269] disabling MLIR crash reproducer, set env var `MLIR_CRASH_REPRODUCER_DIRECTORY` to enable.\n",
      "2023-04-15 19:37:25.222210: I tensorflow/compiler/mlir/lite/flatbuffer_export.cc:2116] Estimated count of arithmetic ops: 0.029 M  ops, equivalently 0.015 M  MACs\n"
     ]
    }
   ],
   "source": [
    "pytorch_to_tensorflowlight(model)"
   ]
  }
 ],
 "metadata": {
  "kernelspec": {
   "display_name": "Python 3 (ipykernel)",
   "language": "python",
   "name": "python3"
  },
  "language_info": {
   "codemirror_mode": {
    "name": "ipython",
    "version": 3
   },
   "file_extension": ".py",
   "mimetype": "text/x-python",
   "name": "python",
   "nbconvert_exporter": "python",
   "pygments_lexer": "ipython3",
   "version": "3.10.4"
  },
  "widgets": {
   "application/vnd.jupyter.widget-state+json": {
    "state": {
     "007dd610b2194b3abf453ee91772e155": {
      "model_module": "@jupyter-widgets/controls",
      "model_module_version": "2.0.0",
      "model_name": "HTMLStyleModel",
      "state": {
       "description_width": "",
       "font_size": null,
       "text_color": null
      }
     },
     "00f0ca0af4424b47b280a8b0585fe8f9": {
      "model_module": "@jupyter-widgets/controls",
      "model_module_version": "2.0.0",
      "model_name": "FloatProgressModel",
      "state": {
       "bar_style": "success",
       "layout": "IPY_MODEL_fbeba3c6db374e9e8a98ed71d5ab0c93",
       "max": 104,
       "style": "IPY_MODEL_b6224d15474e467a8995c529fb30669c",
       "value": 104
      }
     },
     "00f4a3ac196b4117b868670f038abb1b": {
      "model_module": "@jupyter-widgets/controls",
      "model_module_version": "2.0.0",
      "model_name": "HTMLStyleModel",
      "state": {
       "description_width": "",
       "font_size": null,
       "text_color": null
      }
     },
     "01faf693cea94884a915d45381c7b4fc": {
      "model_module": "@jupyter-widgets/base",
      "model_module_version": "2.0.0",
      "model_name": "LayoutModel",
      "state": {}
     },
     "02093e772aa341bea691a58b65d66110": {
      "model_module": "@jupyter-widgets/base",
      "model_module_version": "2.0.0",
      "model_name": "LayoutModel",
      "state": {}
     },
     "03563400bf0b4b7bad3826b58d1495d2": {
      "model_module": "@jupyter-widgets/base",
      "model_module_version": "2.0.0",
      "model_name": "LayoutModel",
      "state": {}
     },
     "03c0c66093dc463ca47b06784ec38346": {
      "model_module": "@jupyter-widgets/controls",
      "model_module_version": "2.0.0",
      "model_name": "HTMLStyleModel",
      "state": {
       "description_width": "",
       "font_size": null,
       "text_color": null
      }
     },
     "049cd2e8ac0a42c29cfc76206114fcf8": {
      "model_module": "@jupyter-widgets/controls",
      "model_module_version": "2.0.0",
      "model_name": "HTMLStyleModel",
      "state": {
       "description_width": "",
       "font_size": null,
       "text_color": null
      }
     },
     "067edf2030344e339746f6a12b64e133": {
      "model_module": "@jupyter-widgets/base",
      "model_module_version": "2.0.0",
      "model_name": "LayoutModel",
      "state": {}
     },
     "075ea5458bfb41bbbcfa506b5b7af2e9": {
      "model_module": "@jupyter-widgets/controls",
      "model_module_version": "2.0.0",
      "model_name": "HTMLModel",
      "state": {
       "layout": "IPY_MODEL_01faf693cea94884a915d45381c7b4fc",
       "style": "IPY_MODEL_26b7e686fe0940d7ac3e36ea8d5bff86",
       "value": " 104/104 [00:00&lt;00:00, 1169.46it/s]"
      }
     },
     "078a269948944344b84d64e0b385f5a7": {
      "model_module": "@jupyter-widgets/base",
      "model_module_version": "2.0.0",
      "model_name": "LayoutModel",
      "state": {}
     },
     "07e10a45cc4248cb89c24e750b3b694e": {
      "model_module": "@jupyter-widgets/controls",
      "model_module_version": "2.0.0",
      "model_name": "ProgressStyleModel",
      "state": {
       "description_width": ""
      }
     },
     "0938e7571c52439ba4eeed6956ec18a8": {
      "model_module": "@jupyter-widgets/base",
      "model_module_version": "2.0.0",
      "model_name": "LayoutModel",
      "state": {}
     },
     "095ee5ea3a424241a5122b7676d5b097": {
      "model_module": "@jupyter-widgets/controls",
      "model_module_version": "2.0.0",
      "model_name": "HTMLStyleModel",
      "state": {
       "description_width": "",
       "font_size": null,
       "text_color": null
      }
     },
     "096d4db2f71e4ec1807ae6aca13999d1": {
      "model_module": "@jupyter-widgets/controls",
      "model_module_version": "2.0.0",
      "model_name": "ProgressStyleModel",
      "state": {
       "description_width": ""
      }
     },
     "09bbef1594f84b4fa2894f322c36c941": {
      "model_module": "@jupyter-widgets/controls",
      "model_module_version": "2.0.0",
      "model_name": "HTMLModel",
      "state": {
       "layout": "IPY_MODEL_e883d47146394a9a91921a276de217ac",
       "style": "IPY_MODEL_0b60020f15ba4deea40d4d13328714c4",
       "value": " 104/104 [00:00&lt;00:00, 516.64it/s]"
      }
     },
     "09e7ec0c8b6b48eab33efa76da40f71d": {
      "model_module": "@jupyter-widgets/base",
      "model_module_version": "2.0.0",
      "model_name": "LayoutModel",
      "state": {}
     },
     "0a90c83bb40546d79dc7ded68c9ab28b": {
      "model_module": "@jupyter-widgets/controls",
      "model_module_version": "2.0.0",
      "model_name": "HTMLModel",
      "state": {
       "layout": "IPY_MODEL_0938e7571c52439ba4eeed6956ec18a8",
       "style": "IPY_MODEL_aaa7a1bb03664a888063284e1598afc6",
       "value": " 12/12 [00:00&lt;00:00, 633.49it/s]"
      }
     },
     "0b60020f15ba4deea40d4d13328714c4": {
      "model_module": "@jupyter-widgets/controls",
      "model_module_version": "2.0.0",
      "model_name": "HTMLStyleModel",
      "state": {
       "description_width": "",
       "font_size": null,
       "text_color": null
      }
     },
     "0b6f47533caa4518a44721de1af0ced3": {
      "model_module": "@jupyter-widgets/controls",
      "model_module_version": "2.0.0",
      "model_name": "HBoxModel",
      "state": {
       "children": [
        "IPY_MODEL_6e52403de5e343b9b175b905cd59e1e5",
        "IPY_MODEL_74a7ea73d2a84f8da2b9e683974ac5f6",
        "IPY_MODEL_e85cbf718f45410abac09afd22867b4c"
       ],
       "layout": "IPY_MODEL_e79b016a553e46eeb77f7c8d1f9ab9d9"
      }
     },
     "0b734a1a481e4ce9bc0b84f6254c688f": {
      "model_module": "@jupyter-widgets/controls",
      "model_module_version": "2.0.0",
      "model_name": "HTMLModel",
      "state": {
       "layout": "IPY_MODEL_f50735011e2c48b583dc198ad96a236a",
       "style": "IPY_MODEL_9eaa6bcfc58a49938002e95b6cb3fb3e",
       "value": " 104/104 [00:00&lt;00:00, 555.50it/s]"
      }
     },
     "0bd5e76eff8947abbe6546613bb81c6f": {
      "model_module": "@jupyter-widgets/base",
      "model_module_version": "2.0.0",
      "model_name": "LayoutModel",
      "state": {}
     },
     "0c13555d1c8046ee9df7b458de489d36": {
      "model_module": "@jupyter-widgets/controls",
      "model_module_version": "2.0.0",
      "model_name": "FloatProgressModel",
      "state": {
       "bar_style": "success",
       "layout": "IPY_MODEL_fc88de9984944c06b7e5bf008cf38593",
       "max": 12,
       "style": "IPY_MODEL_94751b795478426eb4665c840e6eda5c",
       "value": 12
      }
     },
     "0c174eeb877a48cca731634c48e87a73": {
      "model_module": "@jupyter-widgets/controls",
      "model_module_version": "2.0.0",
      "model_name": "HTMLModel",
      "state": {
       "layout": "IPY_MODEL_12a8520e965e48edae6c8fa25f48eaaa",
       "style": "IPY_MODEL_4b4b46d9c60a469c932015efe96ed923",
       "value": "Epochs: 100%"
      }
     },
     "0c51919d45de44f2ae950982ffbd7f0b": {
      "model_module": "@jupyter-widgets/base",
      "model_module_version": "2.0.0",
      "model_name": "LayoutModel",
      "state": {}
     },
     "0c65f13e0cea42b090715e9e77b60cda": {
      "model_module": "@jupyter-widgets/controls",
      "model_module_version": "2.0.0",
      "model_name": "HTMLStyleModel",
      "state": {
       "description_width": "",
       "font_size": null,
       "text_color": null
      }
     },
     "0ce18db64ec14564ba41b31d66c3d7db": {
      "model_module": "@jupyter-widgets/controls",
      "model_module_version": "2.0.0",
      "model_name": "HBoxModel",
      "state": {
       "children": [
        "IPY_MODEL_fb2aee3ea27b4465898e914171f51043",
        "IPY_MODEL_13d8747a0d18447ab9fda08163c72a74",
        "IPY_MODEL_b8e1985c3bd047a1941f85b538f4d72e"
       ],
       "layout": "IPY_MODEL_a9530d9786894abba6db740dff4e38a1"
      }
     },
     "0d42bc9f13b04e4f87ed01fbb2658802": {
      "model_module": "@jupyter-widgets/controls",
      "model_module_version": "2.0.0",
      "model_name": "HTMLStyleModel",
      "state": {
       "description_width": "",
       "font_size": null,
       "text_color": null
      }
     },
     "0f7f07064a8040eb98e4f6fb0abbf7be": {
      "model_module": "@jupyter-widgets/controls",
      "model_module_version": "2.0.0",
      "model_name": "HTMLStyleModel",
      "state": {
       "description_width": "",
       "font_size": null,
       "text_color": null
      }
     },
     "0fe9fe0a092847bb88fc4cc981e807ca": {
      "model_module": "@jupyter-widgets/base",
      "model_module_version": "2.0.0",
      "model_name": "LayoutModel",
      "state": {}
     },
     "1025a0fc1dcf438e993902e1baffe807": {
      "model_module": "@jupyter-widgets/base",
      "model_module_version": "2.0.0",
      "model_name": "LayoutModel",
      "state": {}
     },
     "124fa0548e0c40418e335de3e074125f": {
      "model_module": "@jupyter-widgets/controls",
      "model_module_version": "2.0.0",
      "model_name": "ProgressStyleModel",
      "state": {
       "description_width": ""
      }
     },
     "128ab8ff277c4781a20283d5dd7da3f4": {
      "model_module": "@jupyter-widgets/base",
      "model_module_version": "2.0.0",
      "model_name": "LayoutModel",
      "state": {}
     },
     "12903ef9c6834fc4ab0bf4507256c619": {
      "model_module": "@jupyter-widgets/base",
      "model_module_version": "2.0.0",
      "model_name": "LayoutModel",
      "state": {}
     },
     "12a8520e965e48edae6c8fa25f48eaaa": {
      "model_module": "@jupyter-widgets/base",
      "model_module_version": "2.0.0",
      "model_name": "LayoutModel",
      "state": {}
     },
     "12ae4260152b44f1907711a0f9ed8991": {
      "model_module": "@jupyter-widgets/controls",
      "model_module_version": "2.0.0",
      "model_name": "HTMLModel",
      "state": {
       "layout": "IPY_MODEL_f29c9a5d5c9945b3af5a9272ca5e938f",
       "style": "IPY_MODEL_a5931c7b40134e68b7f25aafe8517c7b",
       "value": "Test Epoch 6/7: 100%"
      }
     },
     "13d8747a0d18447ab9fda08163c72a74": {
      "model_module": "@jupyter-widgets/controls",
      "model_module_version": "2.0.0",
      "model_name": "FloatProgressModel",
      "state": {
       "bar_style": "success",
       "layout": "IPY_MODEL_a85c7c53521644f497b4792e218bf1dd",
       "max": 12,
       "style": "IPY_MODEL_fdff0ad19afc4e37ae75fe8e2294c40e",
       "value": 12
      }
     },
     "13f9cbd7c4d6463b98b38b7b300f3a2a": {
      "model_module": "@jupyter-widgets/controls",
      "model_module_version": "2.0.0",
      "model_name": "HBoxModel",
      "state": {
       "children": [
        "IPY_MODEL_efd6c61cc5654bf6b7d3f8c2278ddd02",
        "IPY_MODEL_836b5f1c705c4a458a374e3d8e65d3b4",
        "IPY_MODEL_1c592be68e6947b78fd0d663b013ec99"
       ],
       "layout": "IPY_MODEL_8cb9b6bd6e64442bb8ded96e1014ed29"
      }
     },
     "14bb7872c12042eb84afafe3cc2cd957": {
      "model_module": "@jupyter-widgets/controls",
      "model_module_version": "2.0.0",
      "model_name": "HBoxModel",
      "state": {
       "children": [
        "IPY_MODEL_4e37cb99e05f48e08652c015bb17e478",
        "IPY_MODEL_0c13555d1c8046ee9df7b458de489d36",
        "IPY_MODEL_43f65dd39a63402a866ca23c0f3c8c23"
       ],
       "layout": "IPY_MODEL_6f2022fe444f4cc3b78bcda999718c17"
      }
     },
     "151a9389525a4d9d9c1f6d7f64cdc0eb": {
      "model_module": "@jupyter-widgets/controls",
      "model_module_version": "2.0.0",
      "model_name": "HTMLStyleModel",
      "state": {
       "description_width": "",
       "font_size": null,
       "text_color": null
      }
     },
     "1726eef0f97848d8be7e42893b82e197": {
      "model_module": "@jupyter-widgets/controls",
      "model_module_version": "2.0.0",
      "model_name": "FloatProgressModel",
      "state": {
       "bar_style": "success",
       "layout": "IPY_MODEL_0bd5e76eff8947abbe6546613bb81c6f",
       "max": 12,
       "style": "IPY_MODEL_07e10a45cc4248cb89c24e750b3b694e",
       "value": 12
      }
     },
     "17895c5e2c57444ab03e62551cda7477": {
      "model_module": "@jupyter-widgets/base",
      "model_module_version": "2.0.0",
      "model_name": "LayoutModel",
      "state": {}
     },
     "17ba812543bd4186a5a97ea698405a6d": {
      "model_module": "@jupyter-widgets/controls",
      "model_module_version": "2.0.0",
      "model_name": "HTMLModel",
      "state": {
       "layout": "IPY_MODEL_55e6134ea86447c7941b7e87cdec82f6",
       "style": "IPY_MODEL_b366be24074e4c9fbcac8c3ec7d585eb",
       "value": "Train Epoch 4/7: 100%"
      }
     },
     "17f6af07916f4f41888a18e27d09ebed": {
      "model_module": "@jupyter-widgets/controls",
      "model_module_version": "2.0.0",
      "model_name": "HTMLModel",
      "state": {
       "layout": "IPY_MODEL_98169fa0a33e4d709c72872d4e1fd4bc",
       "style": "IPY_MODEL_3a5313342ea8482886178e29fa2c3ee3",
       "value": "Train Epoch 2/10: 100%"
      }
     },
     "1847043e6a7f4515b2a16131ae7f750e": {
      "model_module": "@jupyter-widgets/controls",
      "model_module_version": "2.0.0",
      "model_name": "FloatProgressModel",
      "state": {
       "bar_style": "success",
       "layout": "IPY_MODEL_067edf2030344e339746f6a12b64e133",
       "max": 104,
       "style": "IPY_MODEL_a5fd22a04333488c9ef0d4534d3c9743",
       "value": 104
      }
     },
     "19b32a87ba974c6a9642cf638f8d2796": {
      "model_module": "@jupyter-widgets/controls",
      "model_module_version": "2.0.0",
      "model_name": "HTMLStyleModel",
      "state": {
       "description_width": "",
       "font_size": null,
       "text_color": null
      }
     },
     "19dd988e95f14417b8f6baea27658313": {
      "model_module": "@jupyter-widgets/controls",
      "model_module_version": "2.0.0",
      "model_name": "ProgressStyleModel",
      "state": {
       "description_width": ""
      }
     },
     "1b13eee898644faca494bcdc7607b1f8": {
      "model_module": "@jupyter-widgets/controls",
      "model_module_version": "2.0.0",
      "model_name": "HTMLStyleModel",
      "state": {
       "description_width": "",
       "font_size": null,
       "text_color": null
      }
     },
     "1b3aae6610d5482a85ac774ecf8fe609": {
      "model_module": "@jupyter-widgets/controls",
      "model_module_version": "2.0.0",
      "model_name": "HTMLStyleModel",
      "state": {
       "description_width": "",
       "font_size": null,
       "text_color": null
      }
     },
     "1b529366e5d14032b94360b655ba1ed4": {
      "model_module": "@jupyter-widgets/controls",
      "model_module_version": "2.0.0",
      "model_name": "HTMLModel",
      "state": {
       "layout": "IPY_MODEL_5341b4b601cb4a81a365c8dd09356f45",
       "style": "IPY_MODEL_82516a9d0435434ea343023552f14732",
       "value": " 10/10 [00:02&lt;00:00,  4.00it/s]"
      }
     },
     "1bc6231626174d328cd3a9b52e9f1cca": {
      "model_module": "@jupyter-widgets/controls",
      "model_module_version": "2.0.0",
      "model_name": "HBoxModel",
      "state": {
       "children": [
        "IPY_MODEL_3fe9cf8386f64e21beb92f1413d36be3",
        "IPY_MODEL_1726eef0f97848d8be7e42893b82e197",
        "IPY_MODEL_c19c0781cc384d3f9e960a66842b369d"
       ],
       "layout": "IPY_MODEL_a58df3a71ae74528bd035b93213bb750"
      }
     },
     "1bc760e61f7b451baa797725bfcf132e": {
      "model_module": "@jupyter-widgets/controls",
      "model_module_version": "2.0.0",
      "model_name": "ProgressStyleModel",
      "state": {
       "description_width": ""
      }
     },
     "1beeea25782c4fc8b456c8d8a1475310": {
      "model_module": "@jupyter-widgets/controls",
      "model_module_version": "2.0.0",
      "model_name": "FloatProgressModel",
      "state": {
       "bar_style": "success",
       "layout": "IPY_MODEL_6eb70df6423a4d93ac870df654156f9a",
       "max": 104,
       "style": "IPY_MODEL_c85073ccda3542a882b85c882d3797a9",
       "value": 104
      }
     },
     "1c592be68e6947b78fd0d663b013ec99": {
      "model_module": "@jupyter-widgets/controls",
      "model_module_version": "2.0.0",
      "model_name": "HTMLModel",
      "state": {
       "layout": "IPY_MODEL_f78e8e7aa1a04ba991fdf1195293d46a",
       "style": "IPY_MODEL_1b3aae6610d5482a85ac774ecf8fe609",
       "value": " 12/12 [00:00&lt;00:00, 272.85it/s]"
      }
     },
     "1c79d325450c4cc399be9c2a89ab0d1e": {
      "model_module": "@jupyter-widgets/controls",
      "model_module_version": "2.0.0",
      "model_name": "HTMLModel",
      "state": {
       "layout": "IPY_MODEL_a3e8e6dd1509455cbb03f7ef67270770",
       "style": "IPY_MODEL_28c3389dd5464460a166b7093b6a6468",
       "value": " 12/12 [00:00&lt;00:00, 363.81it/s]"
      }
     },
     "1d79b21c28ca4fd6bb8072dea1bd42af": {
      "model_module": "@jupyter-widgets/controls",
      "model_module_version": "2.0.0",
      "model_name": "HTMLStyleModel",
      "state": {
       "description_width": "",
       "font_size": null,
       "text_color": null
      }
     },
     "1db04f4732f64b5098fb31b08a03d15f": {
      "model_module": "@jupyter-widgets/base",
      "model_module_version": "2.0.0",
      "model_name": "LayoutModel",
      "state": {}
     },
     "1dc27756b1cd4d6785779b638c7edaa6": {
      "model_module": "@jupyter-widgets/base",
      "model_module_version": "2.0.0",
      "model_name": "LayoutModel",
      "state": {}
     },
     "20287cb1c8ca47bfa6fd5cd4e2e99b07": {
      "model_module": "@jupyter-widgets/base",
      "model_module_version": "2.0.0",
      "model_name": "LayoutModel",
      "state": {}
     },
     "21ba954d48394344898f17a35a80b427": {
      "model_module": "@jupyter-widgets/controls",
      "model_module_version": "2.0.0",
      "model_name": "HTMLModel",
      "state": {
       "layout": "IPY_MODEL_9d78bc3826c04bbb8a1d7a4c43f4028a",
       "style": "IPY_MODEL_0c65f13e0cea42b090715e9e77b60cda",
       "value": "Test Epoch 3/7: 100%"
      }
     },
     "21c3d645f7e84087bf1cca3d7fd714e4": {
      "model_module": "@jupyter-widgets/controls",
      "model_module_version": "2.0.0",
      "model_name": "HTMLStyleModel",
      "state": {
       "description_width": "",
       "font_size": null,
       "text_color": null
      }
     },
     "2384c3636205491b9eaecce287ac3c5f": {
      "model_module": "@jupyter-widgets/base",
      "model_module_version": "2.0.0",
      "model_name": "LayoutModel",
      "state": {}
     },
     "23fc9a09dcf542eb84f8b94bdc6f9904": {
      "model_module": "@jupyter-widgets/controls",
      "model_module_version": "2.0.0",
      "model_name": "HTMLModel",
      "state": {
       "layout": "IPY_MODEL_dd441a8c8a8e42709f5ca9082a54f5d1",
       "style": "IPY_MODEL_00f4a3ac196b4117b868670f038abb1b",
       "value": "Train Epoch 3/10: 100%"
      }
     },
     "244844befc544914844b086fa02aa25d": {
      "model_module": "@jupyter-widgets/controls",
      "model_module_version": "2.0.0",
      "model_name": "ProgressStyleModel",
      "state": {
       "description_width": ""
      }
     },
     "2509d051d29d4a5f90ee9111881fde9c": {
      "model_module": "@jupyter-widgets/controls",
      "model_module_version": "2.0.0",
      "model_name": "HBoxModel",
      "state": {
       "children": [
        "IPY_MODEL_12ae4260152b44f1907711a0f9ed8991",
        "IPY_MODEL_a12ceb87d0d4414c942bdcd0926e0ce5",
        "IPY_MODEL_5dd7fa7af18146d09a14b572e80d7247"
       ],
       "layout": "IPY_MODEL_33b50f61339b4bb598687f01ac75d1a8"
      }
     },
     "26410cceb7664da1ac9fe8bd22772aac": {
      "model_module": "@jupyter-widgets/controls",
      "model_module_version": "2.0.0",
      "model_name": "HTMLModel",
      "state": {
       "layout": "IPY_MODEL_3fd2ef761bcd46ef811f46c5eed6b32b",
       "style": "IPY_MODEL_d06ba4cd7dc847f598726369b532e7a8",
       "value": " 104/104 [00:00&lt;00:00, 528.75it/s]"
      }
     },
     "26a3db9ee839494388ffaa2b0748f830": {
      "model_module": "@jupyter-widgets/controls",
      "model_module_version": "2.0.0",
      "model_name": "FloatProgressModel",
      "state": {
       "bar_style": "success",
       "layout": "IPY_MODEL_c34b4ae9dc6044db961a6b9ad0c84003",
       "max": 12,
       "style": "IPY_MODEL_6ae04ba949ac4d26ac183b7a1bb622db",
       "value": 12
      }
     },
     "26b7e686fe0940d7ac3e36ea8d5bff86": {
      "model_module": "@jupyter-widgets/controls",
      "model_module_version": "2.0.0",
      "model_name": "HTMLStyleModel",
      "state": {
       "description_width": "",
       "font_size": null,
       "text_color": null
      }
     },
     "281c5d575a5844b0a904ae01fc88580d": {
      "model_module": "@jupyter-widgets/base",
      "model_module_version": "2.0.0",
      "model_name": "LayoutModel",
      "state": {}
     },
     "28c3389dd5464460a166b7093b6a6468": {
      "model_module": "@jupyter-widgets/controls",
      "model_module_version": "2.0.0",
      "model_name": "HTMLStyleModel",
      "state": {
       "description_width": "",
       "font_size": null,
       "text_color": null
      }
     },
     "2967ecd39cbf4e44bda66822b046fbee": {
      "model_module": "@jupyter-widgets/controls",
      "model_module_version": "2.0.0",
      "model_name": "HTMLStyleModel",
      "state": {
       "description_width": "",
       "font_size": null,
       "text_color": null
      }
     },
     "2a46c033d1124e07a2ce3aad7107b642": {
      "model_module": "@jupyter-widgets/base",
      "model_module_version": "2.0.0",
      "model_name": "LayoutModel",
      "state": {}
     },
     "2d27ce6d4b2447c8820d18d145d580cb": {
      "model_module": "@jupyter-widgets/controls",
      "model_module_version": "2.0.0",
      "model_name": "HTMLModel",
      "state": {
       "layout": "IPY_MODEL_bc03c58a60494374b78e774244448e17",
       "style": "IPY_MODEL_dd4d9ce61ba54240898ea0b95ee9b49c",
       "value": " 104/104 [00:00&lt;00:00, 1068.04it/s]"
      }
     },
     "2d51388884314fe9bae9e3170bdef08e": {
      "model_module": "@jupyter-widgets/controls",
      "model_module_version": "2.0.0",
      "model_name": "HTMLModel",
      "state": {
       "layout": "IPY_MODEL_9df4f3ce92c146b9b20ff4d5380b5e3b",
       "style": "IPY_MODEL_03c0c66093dc463ca47b06784ec38346",
       "value": "Train Epoch 8/10: 100%"
      }
     },
     "2e877240507e4c93851fcba339d30789": {
      "model_module": "@jupyter-widgets/controls",
      "model_module_version": "2.0.0",
      "model_name": "HTMLStyleModel",
      "state": {
       "description_width": "",
       "font_size": null,
       "text_color": null
      }
     },
     "303c5c26b130431a896435d0f01bdf16": {
      "model_module": "@jupyter-widgets/controls",
      "model_module_version": "2.0.0",
      "model_name": "HBoxModel",
      "state": {
       "children": [
        "IPY_MODEL_552357b2efc64da2a15c64c6ca4e4586",
        "IPY_MODEL_81a715ebc99b40f58caa2eda6484f7eb",
        "IPY_MODEL_ab3accef0cbf4eb3a299968ba8bf561f"
       ],
       "layout": "IPY_MODEL_551547cab9b04687890ae83d31864e50"
      }
     },
     "3045e98cf890459e9d306c0a61bb1e7d": {
      "model_module": "@jupyter-widgets/controls",
      "model_module_version": "2.0.0",
      "model_name": "HTMLStyleModel",
      "state": {
       "description_width": "",
       "font_size": null,
       "text_color": null
      }
     },
     "3244ff690f304414a1109b6ec3f24c15": {
      "model_module": "@jupyter-widgets/base",
      "model_module_version": "2.0.0",
      "model_name": "LayoutModel",
      "state": {}
     },
     "328a2f58dfd547b79cb238cc1bb67dcc": {
      "model_module": "@jupyter-widgets/base",
      "model_module_version": "2.0.0",
      "model_name": "LayoutModel",
      "state": {}
     },
     "32c72d3c1d5b4874b8e53f887050c441": {
      "model_module": "@jupyter-widgets/controls",
      "model_module_version": "2.0.0",
      "model_name": "FloatProgressModel",
      "state": {
       "bar_style": "success",
       "layout": "IPY_MODEL_44641a4a5d9d43d6bac08d7f1677bd34",
       "max": 12,
       "style": "IPY_MODEL_c95e4aa1ed4f419791128648c1da0a1c",
       "value": 12
      }
     },
     "33a945421e0f4ac4aa944c3824ff3ce9": {
      "model_module": "@jupyter-widgets/controls",
      "model_module_version": "2.0.0",
      "model_name": "HBoxModel",
      "state": {
       "children": [
        "IPY_MODEL_660fa600363041df8d159d2fde555750",
        "IPY_MODEL_720b4b9c4887467086045eb04e224fa6",
        "IPY_MODEL_961850846d4f4c43aade2d2b416c7bfb"
       ],
       "layout": "IPY_MODEL_e586e40430f849d6a1b62576f9793b6a"
      }
     },
     "33b50f61339b4bb598687f01ac75d1a8": {
      "model_module": "@jupyter-widgets/base",
      "model_module_version": "2.0.0",
      "model_name": "LayoutModel",
      "state": {}
     },
     "34cb7c5b9c3e482fa0a9999df9753b67": {
      "model_module": "@jupyter-widgets/controls",
      "model_module_version": "2.0.0",
      "model_name": "ProgressStyleModel",
      "state": {
       "description_width": ""
      }
     },
     "361809c824414e7da9422641bf99516e": {
      "model_module": "@jupyter-widgets/base",
      "model_module_version": "2.0.0",
      "model_name": "LayoutModel",
      "state": {}
     },
     "3675066ef9a340a3bbd22072dd48f989": {
      "model_module": "@jupyter-widgets/base",
      "model_module_version": "2.0.0",
      "model_name": "LayoutModel",
      "state": {}
     },
     "36c7ed469bbc4875a622464655c74d03": {
      "model_module": "@jupyter-widgets/controls",
      "model_module_version": "2.0.0",
      "model_name": "HTMLStyleModel",
      "state": {
       "description_width": "",
       "font_size": null,
       "text_color": null
      }
     },
     "379e3e41f2234281ab02929ef60b11af": {
      "model_module": "@jupyter-widgets/base",
      "model_module_version": "2.0.0",
      "model_name": "LayoutModel",
      "state": {}
     },
     "37ca76778b5e44a6b121b7bee211a108": {
      "model_module": "@jupyter-widgets/base",
      "model_module_version": "2.0.0",
      "model_name": "LayoutModel",
      "state": {}
     },
     "38006295d97b4f57ac57f5c37fc349d3": {
      "model_module": "@jupyter-widgets/controls",
      "model_module_version": "2.0.0",
      "model_name": "HBoxModel",
      "state": {
       "children": [
        "IPY_MODEL_d0d14735575843ad98140ad1be7a2965",
        "IPY_MODEL_733952b91402458b8077c7ecf7e60bec",
        "IPY_MODEL_e599794d870541f49b801aeacd181668"
       ],
       "layout": "IPY_MODEL_9bec5ca35e264c489894d4789d4ee8cd"
      }
     },
     "3842368ac2fa487e860f70a6ac402b1d": {
      "model_module": "@jupyter-widgets/controls",
      "model_module_version": "2.0.0",
      "model_name": "HTMLStyleModel",
      "state": {
       "description_width": "",
       "font_size": null,
       "text_color": null
      }
     },
     "396671d867cb410b91759ac83b849960": {
      "model_module": "@jupyter-widgets/controls",
      "model_module_version": "2.0.0",
      "model_name": "FloatProgressModel",
      "state": {
       "bar_style": "success",
       "layout": "IPY_MODEL_2a46c033d1124e07a2ce3aad7107b642",
       "max": 104,
       "style": "IPY_MODEL_e0d9e7b80ad140fb8edbe2a97dd80720",
       "value": 104
      }
     },
     "397171ce8af849e79bb8b5d2a764fed9": {
      "model_module": "@jupyter-widgets/base",
      "model_module_version": "2.0.0",
      "model_name": "LayoutModel",
      "state": {}
     },
     "39c36e5d26f1429c8c9231675aae56e3": {
      "model_module": "@jupyter-widgets/controls",
      "model_module_version": "2.0.0",
      "model_name": "HTMLStyleModel",
      "state": {
       "description_width": "",
       "font_size": null,
       "text_color": null
      }
     },
     "3a5313342ea8482886178e29fa2c3ee3": {
      "model_module": "@jupyter-widgets/controls",
      "model_module_version": "2.0.0",
      "model_name": "HTMLStyleModel",
      "state": {
       "description_width": "",
       "font_size": null,
       "text_color": null
      }
     },
     "3bca923374ff4cdb99ea4a9c5800ddeb": {
      "model_module": "@jupyter-widgets/controls",
      "model_module_version": "2.0.0",
      "model_name": "HTMLModel",
      "state": {
       "layout": "IPY_MODEL_479ca58bc105421c86195bd56e6e2759",
       "style": "IPY_MODEL_21c3d645f7e84087bf1cca3d7fd714e4",
       "value": " 104/104 [00:00&lt;00:00, 1077.90it/s]"
      }
     },
     "3bfc78a0dab54d33ad9d61a081252ae1": {
      "model_module": "@jupyter-widgets/base",
      "model_module_version": "2.0.0",
      "model_name": "LayoutModel",
      "state": {}
     },
     "3cd14067d8a14673b7f36a36e39d638d": {
      "model_module": "@jupyter-widgets/controls",
      "model_module_version": "2.0.0",
      "model_name": "HBoxModel",
      "state": {
       "children": [
        "IPY_MODEL_4f8c93ffeb8e4166b7fa2b297e34d624",
        "IPY_MODEL_940d03bf81b649dfae54fed208783ded",
        "IPY_MODEL_ee1f025b7ffe48b1865d961137a1e5d2"
       ],
       "layout": "IPY_MODEL_9467501f9f604fe88be234e2c1a1b92a"
      }
     },
     "3d18f4ecbedd4b72ae6c8c0f70014aaa": {
      "model_module": "@jupyter-widgets/controls",
      "model_module_version": "2.0.0",
      "model_name": "HTMLStyleModel",
      "state": {
       "description_width": "",
       "font_size": null,
       "text_color": null
      }
     },
     "3d4c75a420754a8c874cad495b461aa8": {
      "model_module": "@jupyter-widgets/base",
      "model_module_version": "2.0.0",
      "model_name": "LayoutModel",
      "state": {}
     },
     "3f5c0b2233814fd882fb821d9772b66a": {
      "model_module": "@jupyter-widgets/controls",
      "model_module_version": "2.0.0",
      "model_name": "HTMLStyleModel",
      "state": {
       "description_width": "",
       "font_size": null,
       "text_color": null
      }
     },
     "3fd2ef761bcd46ef811f46c5eed6b32b": {
      "model_module": "@jupyter-widgets/base",
      "model_module_version": "2.0.0",
      "model_name": "LayoutModel",
      "state": {}
     },
     "3fe9cf8386f64e21beb92f1413d36be3": {
      "model_module": "@jupyter-widgets/controls",
      "model_module_version": "2.0.0",
      "model_name": "HTMLModel",
      "state": {
       "layout": "IPY_MODEL_e35d4b0eb37940cba51454b82c8f8554",
       "style": "IPY_MODEL_3045e98cf890459e9d306c0a61bb1e7d",
       "value": "Test Epoch 4/7: 100%"
      }
     },
     "4138251e9b084a31ba5f3c968eda8dff": {
      "model_module": "@jupyter-widgets/controls",
      "model_module_version": "2.0.0",
      "model_name": "FloatProgressModel",
      "state": {
       "bar_style": "success",
       "layout": "IPY_MODEL_6410122440e44cb99e621c9c2dce59fa",
       "max": 104,
       "style": "IPY_MODEL_6b8ba7ecd6c14689b04974db483de443",
       "value": 104
      }
     },
     "41a380bebd564e3a8076b68485949268": {
      "model_module": "@jupyter-widgets/controls",
      "model_module_version": "2.0.0",
      "model_name": "HBoxModel",
      "state": {
       "children": [
        "IPY_MODEL_b9ceaedeeb804e6cb3340450c188356d",
        "IPY_MODEL_32c72d3c1d5b4874b8e53f887050c441",
        "IPY_MODEL_f714aa9ddaf04a39b7baa125ec770320"
       ],
       "layout": "IPY_MODEL_17895c5e2c57444ab03e62551cda7477"
      }
     },
     "420dbd9628534e31ac585f3943c4c34e": {
      "model_module": "@jupyter-widgets/base",
      "model_module_version": "2.0.0",
      "model_name": "LayoutModel",
      "state": {}
     },
     "425cc4a0f91646919ba7a4381cce6ad9": {
      "model_module": "@jupyter-widgets/controls",
      "model_module_version": "2.0.0",
      "model_name": "HTMLStyleModel",
      "state": {
       "description_width": "",
       "font_size": null,
       "text_color": null
      }
     },
     "434731c853c24eba961d8cb8e5d5570f": {
      "model_module": "@jupyter-widgets/base",
      "model_module_version": "2.0.0",
      "model_name": "LayoutModel",
      "state": {}
     },
     "4384af09c2d34b349046fac515ef6cc4": {
      "model_module": "@jupyter-widgets/controls",
      "model_module_version": "2.0.0",
      "model_name": "ProgressStyleModel",
      "state": {
       "description_width": ""
      }
     },
     "43f65dd39a63402a866ca23c0f3c8c23": {
      "model_module": "@jupyter-widgets/controls",
      "model_module_version": "2.0.0",
      "model_name": "HTMLModel",
      "state": {
       "layout": "IPY_MODEL_6b127a7273cd42a78d12406e8981cb71",
       "style": "IPY_MODEL_5f5c3c967c314d9dbeccb393c8223a46",
       "value": " 12/12 [00:00&lt;00:00, 291.09it/s]"
      }
     },
     "44243816bac7495bb77662d2b8c95126": {
      "model_module": "@jupyter-widgets/controls",
      "model_module_version": "2.0.0",
      "model_name": "HBoxModel",
      "state": {
       "children": [
        "IPY_MODEL_17f6af07916f4f41888a18e27d09ebed",
        "IPY_MODEL_9459d47edfbb4d48aa138d25c49c87c6",
        "IPY_MODEL_8131bf96782c4f18a69a5c8e3a0ac9a3"
       ],
       "layout": "IPY_MODEL_7e14d3941f1146d79831239c322ad642"
      }
     },
     "4433c0de9fe248f39eac540bdeaf9e2c": {
      "model_module": "@jupyter-widgets/base",
      "model_module_version": "2.0.0",
      "model_name": "LayoutModel",
      "state": {}
     },
     "44641a4a5d9d43d6bac08d7f1677bd34": {
      "model_module": "@jupyter-widgets/base",
      "model_module_version": "2.0.0",
      "model_name": "LayoutModel",
      "state": {}
     },
     "4501c24715c34cd0ae573ff164843b5d": {
      "model_module": "@jupyter-widgets/controls",
      "model_module_version": "2.0.0",
      "model_name": "HBoxModel",
      "state": {
       "children": [
        "IPY_MODEL_5bf2cab9b43f449d9bec1d488097b75c",
        "IPY_MODEL_c7f245ed3c9f4c2f9f91f94308e0ce74",
        "IPY_MODEL_dc0b04d174294a758c5b03a8e55a381e"
       ],
       "layout": "IPY_MODEL_20287cb1c8ca47bfa6fd5cd4e2e99b07"
      }
     },
     "459522b3bd3a4213be4b395af0d2689c": {
      "model_module": "@jupyter-widgets/controls",
      "model_module_version": "2.0.0",
      "model_name": "HTMLModel",
      "state": {
       "layout": "IPY_MODEL_0fe9fe0a092847bb88fc4cc981e807ca",
       "style": "IPY_MODEL_55898da6ce34410cb567a2697663b2c8",
       "value": "Test Epoch 9/10: 100%"
      }
     },
     "46d24e97530a4a169a1da2a485304b6a": {
      "model_module": "@jupyter-widgets/controls",
      "model_module_version": "2.0.0",
      "model_name": "ProgressStyleModel",
      "state": {
       "description_width": ""
      }
     },
     "479ca58bc105421c86195bd56e6e2759": {
      "model_module": "@jupyter-widgets/base",
      "model_module_version": "2.0.0",
      "model_name": "LayoutModel",
      "state": {}
     },
     "491706bc443b4819a4c7e5b2423fb7dd": {
      "model_module": "@jupyter-widgets/controls",
      "model_module_version": "2.0.0",
      "model_name": "HTMLStyleModel",
      "state": {
       "description_width": "",
       "font_size": null,
       "text_color": null
      }
     },
     "499eb4bcfa1b492e9a7b2557c2e28c51": {
      "model_module": "@jupyter-widgets/base",
      "model_module_version": "2.0.0",
      "model_name": "LayoutModel",
      "state": {}
     },
     "4a62c1caa7ee4b5485ddcf8d0bcd0773": {
      "model_module": "@jupyter-widgets/controls",
      "model_module_version": "2.0.0",
      "model_name": "FloatProgressModel",
      "state": {
       "bar_style": "success",
       "layout": "IPY_MODEL_536b794a9e9d4f589a3b625072d9ce5e",
       "max": 12,
       "style": "IPY_MODEL_1bc760e61f7b451baa797725bfcf132e",
       "value": 12
      }
     },
     "4ae321560820436e9da60440e266aeb4": {
      "model_module": "@jupyter-widgets/base",
      "model_module_version": "2.0.0",
      "model_name": "LayoutModel",
      "state": {}
     },
     "4b278251a9dd4ff9854b992f24c4f536": {
      "model_module": "@jupyter-widgets/controls",
      "model_module_version": "2.0.0",
      "model_name": "HTMLModel",
      "state": {
       "layout": "IPY_MODEL_bd8ce90ce8d44ca1b7d92fd68325afa5",
       "style": "IPY_MODEL_36c7ed469bbc4875a622464655c74d03",
       "value": "Train Epoch 3/7: 100%"
      }
     },
     "4b4b46d9c60a469c932015efe96ed923": {
      "model_module": "@jupyter-widgets/controls",
      "model_module_version": "2.0.0",
      "model_name": "HTMLStyleModel",
      "state": {
       "description_width": "",
       "font_size": null,
       "text_color": null
      }
     },
     "4b6a957098fb49328e7fd6877415e670": {
      "model_module": "@jupyter-widgets/base",
      "model_module_version": "2.0.0",
      "model_name": "LayoutModel",
      "state": {}
     },
     "4bb12f482c5749b791bbe557f9683de4": {
      "model_module": "@jupyter-widgets/controls",
      "model_module_version": "2.0.0",
      "model_name": "HTMLStyleModel",
      "state": {
       "description_width": "",
       "font_size": null,
       "text_color": null
      }
     },
     "4c3eaf654d3e4937a539aa14560d83ce": {
      "model_module": "@jupyter-widgets/controls",
      "model_module_version": "2.0.0",
      "model_name": "FloatProgressModel",
      "state": {
       "bar_style": "success",
       "layout": "IPY_MODEL_4b6a957098fb49328e7fd6877415e670",
       "max": 10,
       "style": "IPY_MODEL_096d4db2f71e4ec1807ae6aca13999d1",
       "value": 10
      }
     },
     "4e37cb99e05f48e08652c015bb17e478": {
      "model_module": "@jupyter-widgets/controls",
      "model_module_version": "2.0.0",
      "model_name": "HTMLModel",
      "state": {
       "layout": "IPY_MODEL_f6f4ff0d7fb241b3aa30d1999dff0f13",
       "style": "IPY_MODEL_7f7e6280e9a94bdcbad4078d6650066c",
       "value": "Test Epoch 7/10: 100%"
      }
     },
     "4f79e706c58a492cbe05130dfbfd8238": {
      "model_module": "@jupyter-widgets/base",
      "model_module_version": "2.0.0",
      "model_name": "LayoutModel",
      "state": {}
     },
     "4f8c93ffeb8e4166b7fa2b297e34d624": {
      "model_module": "@jupyter-widgets/controls",
      "model_module_version": "2.0.0",
      "model_name": "HTMLModel",
      "state": {
       "layout": "IPY_MODEL_60bb0ea70de74dd5a2f3dd3e74c914ed",
       "style": "IPY_MODEL_83f91fbecc1749ca98e7b96ef159e66d",
       "value": "Test Epoch 10/10: 100%"
      }
     },
     "4f99e87e484f4de8811714abbd232def": {
      "model_module": "@jupyter-widgets/controls",
      "model_module_version": "2.0.0",
      "model_name": "HTMLModel",
      "state": {
       "layout": "IPY_MODEL_76a1faed3cb5423c9cae5e2749bb90e2",
       "style": "IPY_MODEL_2967ecd39cbf4e44bda66822b046fbee",
       "value": " 104/104 [00:00&lt;00:00, 993.87it/s]"
      }
     },
     "502b31673a8f4cb2810cc7ce42353d05": {
      "model_module": "@jupyter-widgets/base",
      "model_module_version": "2.0.0",
      "model_name": "LayoutModel",
      "state": {}
     },
     "50e9dcbe750f4826a962539ddad017f4": {
      "model_module": "@jupyter-widgets/controls",
      "model_module_version": "2.0.0",
      "model_name": "HBoxModel",
      "state": {
       "children": [
        "IPY_MODEL_c3d7180078db46669a71d996fa9973c7",
        "IPY_MODEL_65cc1e688cca442e9b8fc63648624c30",
        "IPY_MODEL_b487198a34954050a30dd71858f80d29"
       ],
       "layout": "IPY_MODEL_ae7752bca3744a0fbf60b8f751f064bc"
      }
     },
     "5119dddce1c94dc58fae70db9192f01f": {
      "model_module": "@jupyter-widgets/base",
      "model_module_version": "2.0.0",
      "model_name": "LayoutModel",
      "state": {}
     },
     "517c31bab46541168324aca57ac7a625": {
      "model_module": "@jupyter-widgets/base",
      "model_module_version": "2.0.0",
      "model_name": "LayoutModel",
      "state": {}
     },
     "5341b4b601cb4a81a365c8dd09356f45": {
      "model_module": "@jupyter-widgets/base",
      "model_module_version": "2.0.0",
      "model_name": "LayoutModel",
      "state": {}
     },
     "536b794a9e9d4f589a3b625072d9ce5e": {
      "model_module": "@jupyter-widgets/base",
      "model_module_version": "2.0.0",
      "model_name": "LayoutModel",
      "state": {}
     },
     "538306a5b42043a7b0f5608c3ec9edf9": {
      "model_module": "@jupyter-widgets/controls",
      "model_module_version": "2.0.0",
      "model_name": "HTMLStyleModel",
      "state": {
       "description_width": "",
       "font_size": null,
       "text_color": null
      }
     },
     "54a96f9521134418bbd926311eb45520": {
      "model_module": "@jupyter-widgets/base",
      "model_module_version": "2.0.0",
      "model_name": "LayoutModel",
      "state": {}
     },
     "551547cab9b04687890ae83d31864e50": {
      "model_module": "@jupyter-widgets/base",
      "model_module_version": "2.0.0",
      "model_name": "LayoutModel",
      "state": {}
     },
     "552357b2efc64da2a15c64c6ca4e4586": {
      "model_module": "@jupyter-widgets/controls",
      "model_module_version": "2.0.0",
      "model_name": "HTMLModel",
      "state": {
       "layout": "IPY_MODEL_9067db548f9142d7854078fbfb97b06a",
       "style": "IPY_MODEL_007dd610b2194b3abf453ee91772e155",
       "value": "Test Epoch 6/10: 100%"
      }
     },
     "55898da6ce34410cb567a2697663b2c8": {
      "model_module": "@jupyter-widgets/controls",
      "model_module_version": "2.0.0",
      "model_name": "HTMLStyleModel",
      "state": {
       "description_width": "",
       "font_size": null,
       "text_color": null
      }
     },
     "55e6134ea86447c7941b7e87cdec82f6": {
      "model_module": "@jupyter-widgets/base",
      "model_module_version": "2.0.0",
      "model_name": "LayoutModel",
      "state": {}
     },
     "566244dba708425396a852bcb203e358": {
      "model_module": "@jupyter-widgets/base",
      "model_module_version": "2.0.0",
      "model_name": "LayoutModel",
      "state": {}
     },
     "56b5e3bce2524c848e5d131a5f14e9ab": {
      "model_module": "@jupyter-widgets/controls",
      "model_module_version": "2.0.0",
      "model_name": "HTMLStyleModel",
      "state": {
       "description_width": "",
       "font_size": null,
       "text_color": null
      }
     },
     "56fc7f51c0324d89abd09b963d1c92e5": {
      "model_module": "@jupyter-widgets/controls",
      "model_module_version": "2.0.0",
      "model_name": "ProgressStyleModel",
      "state": {
       "description_width": ""
      }
     },
     "57719ceaf7944c30abd3cc86743ed0bc": {
      "model_module": "@jupyter-widgets/base",
      "model_module_version": "2.0.0",
      "model_name": "LayoutModel",
      "state": {}
     },
     "57d1676cb9cc4d8d9a52b65856e5de65": {
      "model_module": "@jupyter-widgets/controls",
      "model_module_version": "2.0.0",
      "model_name": "HTMLModel",
      "state": {
       "layout": "IPY_MODEL_0c51919d45de44f2ae950982ffbd7f0b",
       "style": "IPY_MODEL_94832972fa7f4ca4bd3d61139b2e9370",
       "value": "Train Epoch 5/10: 100%"
      }
     },
     "5800f5be29554df1a124a7ae834bab07": {
      "model_module": "@jupyter-widgets/controls",
      "model_module_version": "2.0.0",
      "model_name": "HBoxModel",
      "state": {
       "children": [
        "IPY_MODEL_760f46aa3cb149a69f2e79be62101648",
        "IPY_MODEL_b67ddf4bcb364f3dad766840509a3084",
        "IPY_MODEL_4f99e87e484f4de8811714abbd232def"
       ],
       "layout": "IPY_MODEL_2384c3636205491b9eaecce287ac3c5f"
      }
     },
     "5b04b9b65f3742b19cd467c8c83f403b": {
      "model_module": "@jupyter-widgets/controls",
      "model_module_version": "2.0.0",
      "model_name": "HTMLModel",
      "state": {
       "layout": "IPY_MODEL_dbd8420581154a87856dbe4e99b262fb",
       "style": "IPY_MODEL_19b32a87ba974c6a9642cf638f8d2796",
       "value": "Test Epoch 3/10: 100%"
      }
     },
     "5b36d5f3a2b6476fa38d20c88744d5ea": {
      "model_module": "@jupyter-widgets/base",
      "model_module_version": "2.0.0",
      "model_name": "LayoutModel",
      "state": {}
     },
     "5b3fa3da185548c099e3f29463f6a530": {
      "model_module": "@jupyter-widgets/base",
      "model_module_version": "2.0.0",
      "model_name": "LayoutModel",
      "state": {}
     },
     "5bf2cab9b43f449d9bec1d488097b75c": {
      "model_module": "@jupyter-widgets/controls",
      "model_module_version": "2.0.0",
      "model_name": "HTMLModel",
      "state": {
       "layout": "IPY_MODEL_d19f4b3a95344b6e98a5b8d180419167",
       "style": "IPY_MODEL_9d5d461f16d54c188ffb41c901b37738",
       "value": "Test Epoch 2/10: 100%"
      }
     },
     "5bff02c23b1e4450986ad1999d8d58e5": {
      "model_module": "@jupyter-widgets/controls",
      "model_module_version": "2.0.0",
      "model_name": "FloatProgressModel",
      "state": {
       "bar_style": "success",
       "layout": "IPY_MODEL_8c0040b77a1344d8ae942962d5d33989",
       "max": 104,
       "style": "IPY_MODEL_b7bd02ffe5a843aa83e439ee0a279758",
       "value": 104
      }
     },
     "5cc8c34689fb4393b1f1c5b5dd1b7770": {
      "model_module": "@jupyter-widgets/controls",
      "model_module_version": "2.0.0",
      "model_name": "HTMLModel",
      "state": {
       "layout": "IPY_MODEL_128ab8ff277c4781a20283d5dd7da3f4",
       "style": "IPY_MODEL_c772e7c651fc446f9234cad71ca66559",
       "value": "Train Epoch 4/10: 100%"
      }
     },
     "5dd7fa7af18146d09a14b572e80d7247": {
      "model_module": "@jupyter-widgets/controls",
      "model_module_version": "2.0.0",
      "model_name": "HTMLModel",
      "state": {
       "layout": "IPY_MODEL_668243008931434e852d38dac1bb0278",
       "style": "IPY_MODEL_1b13eee898644faca494bcdc7607b1f8",
       "value": " 12/12 [00:00&lt;00:00, 646.60it/s]"
      }
     },
     "5f5c3c967c314d9dbeccb393c8223a46": {
      "model_module": "@jupyter-widgets/controls",
      "model_module_version": "2.0.0",
      "model_name": "HTMLStyleModel",
      "state": {
       "description_width": "",
       "font_size": null,
       "text_color": null
      }
     },
     "5fff51acfee94b2584de0d68778315f0": {
      "model_module": "@jupyter-widgets/base",
      "model_module_version": "2.0.0",
      "model_name": "LayoutModel",
      "state": {}
     },
     "60bb0ea70de74dd5a2f3dd3e74c914ed": {
      "model_module": "@jupyter-widgets/base",
      "model_module_version": "2.0.0",
      "model_name": "LayoutModel",
      "state": {}
     },
     "628da5e0ade14daf9ca81bbe30170867": {
      "model_module": "@jupyter-widgets/controls",
      "model_module_version": "2.0.0",
      "model_name": "HTMLStyleModel",
      "state": {
       "description_width": "",
       "font_size": null,
       "text_color": null
      }
     },
     "62f5024ff26649eba6b507cb8a4dc1cf": {
      "model_module": "@jupyter-widgets/base",
      "model_module_version": "2.0.0",
      "model_name": "LayoutModel",
      "state": {}
     },
     "635b4d2c54fe4e5fbb9d833054cfb076": {
      "model_module": "@jupyter-widgets/controls",
      "model_module_version": "2.0.0",
      "model_name": "HTMLModel",
      "state": {
       "layout": "IPY_MODEL_7cb50d3839a5440b9f4a57cd6dec04df",
       "style": "IPY_MODEL_da5640b5c3204794ae325c123450a135",
       "value": " 7/7 [00:00&lt;00:00,  7.45it/s]"
      }
     },
     "63cc0057954d47188ae622c6ba0a8da9": {
      "model_module": "@jupyter-widgets/base",
      "model_module_version": "2.0.0",
      "model_name": "LayoutModel",
      "state": {}
     },
     "6410122440e44cb99e621c9c2dce59fa": {
      "model_module": "@jupyter-widgets/base",
      "model_module_version": "2.0.0",
      "model_name": "LayoutModel",
      "state": {}
     },
     "656c1799a97f47909ed4d161d4238f71": {
      "model_module": "@jupyter-widgets/controls",
      "model_module_version": "2.0.0",
      "model_name": "FloatProgressModel",
      "state": {
       "bar_style": "success",
       "layout": "IPY_MODEL_420dbd9628534e31ac585f3943c4c34e",
       "max": 104,
       "style": "IPY_MODEL_d52bdb62c20b4a2e8185ccb14284fdea",
       "value": 104
      }
     },
     "65cc1e688cca442e9b8fc63648624c30": {
      "model_module": "@jupyter-widgets/controls",
      "model_module_version": "2.0.0",
      "model_name": "FloatProgressModel",
      "state": {
       "bar_style": "success",
       "layout": "IPY_MODEL_3244ff690f304414a1109b6ec3f24c15",
       "max": 12,
       "style": "IPY_MODEL_af06a8b193d34864999de195f4934b5b",
       "value": 12
      }
     },
     "660fa600363041df8d159d2fde555750": {
      "model_module": "@jupyter-widgets/controls",
      "model_module_version": "2.0.0",
      "model_name": "HTMLModel",
      "state": {
       "layout": "IPY_MODEL_566244dba708425396a852bcb203e358",
       "style": "IPY_MODEL_538306a5b42043a7b0f5608c3ec9edf9",
       "value": "Train Epoch 7/10: 100%"
      }
     },
     "6638d3c7b02248b5b74fe143339135a4": {
      "model_module": "@jupyter-widgets/controls",
      "model_module_version": "2.0.0",
      "model_name": "ProgressStyleModel",
      "state": {
       "description_width": ""
      }
     },
     "668243008931434e852d38dac1bb0278": {
      "model_module": "@jupyter-widgets/base",
      "model_module_version": "2.0.0",
      "model_name": "LayoutModel",
      "state": {}
     },
     "6720ca7bc42f40469a40094dbb542293": {
      "model_module": "@jupyter-widgets/controls",
      "model_module_version": "2.0.0",
      "model_name": "HTMLModel",
      "state": {
       "layout": "IPY_MODEL_c227b9df24b042c6a2fd78dbdf518a8b",
       "style": "IPY_MODEL_4bb12f482c5749b791bbe557f9683de4",
       "value": "Train Epoch 5/7: 100%"
      }
     },
     "68e159f0e24c469db4c79cee0c883cce": {
      "model_module": "@jupyter-widgets/base",
      "model_module_version": "2.0.0",
      "model_name": "LayoutModel",
      "state": {}
     },
     "6924c384332741fd80b3e39c3801e3a6": {
      "model_module": "@jupyter-widgets/base",
      "model_module_version": "2.0.0",
      "model_name": "LayoutModel",
      "state": {}
     },
     "6a832346d24345f88b3145731c43e141": {
      "model_module": "@jupyter-widgets/controls",
      "model_module_version": "2.0.0",
      "model_name": "ProgressStyleModel",
      "state": {
       "description_width": ""
      }
     },
     "6ae04ba949ac4d26ac183b7a1bb622db": {
      "model_module": "@jupyter-widgets/controls",
      "model_module_version": "2.0.0",
      "model_name": "ProgressStyleModel",
      "state": {
       "description_width": ""
      }
     },
     "6b0d476ae78648159ee5dff65df1b297": {
      "model_module": "@jupyter-widgets/base",
      "model_module_version": "2.0.0",
      "model_name": "LayoutModel",
      "state": {}
     },
     "6b127a7273cd42a78d12406e8981cb71": {
      "model_module": "@jupyter-widgets/base",
      "model_module_version": "2.0.0",
      "model_name": "LayoutModel",
      "state": {}
     },
     "6b8ba7ecd6c14689b04974db483de443": {
      "model_module": "@jupyter-widgets/controls",
      "model_module_version": "2.0.0",
      "model_name": "ProgressStyleModel",
      "state": {
       "description_width": ""
      }
     },
     "6b9040285f3648df8fdd3661c2fd8398": {
      "model_module": "@jupyter-widgets/controls",
      "model_module_version": "2.0.0",
      "model_name": "HTMLStyleModel",
      "state": {
       "description_width": "",
       "font_size": null,
       "text_color": null
      }
     },
     "6d7b83d9392244ac85ca89b4353c902d": {
      "model_module": "@jupyter-widgets/base",
      "model_module_version": "2.0.0",
      "model_name": "LayoutModel",
      "state": {}
     },
     "6e52403de5e343b9b175b905cd59e1e5": {
      "model_module": "@jupyter-widgets/controls",
      "model_module_version": "2.0.0",
      "model_name": "HTMLModel",
      "state": {
       "layout": "IPY_MODEL_733c8fe963c74116b0981b70a3ab1a47",
       "style": "IPY_MODEL_151a9389525a4d9d9c1f6d7f64cdc0eb",
       "value": "Test Epoch 1/10: 100%"
      }
     },
     "6eb70df6423a4d93ac870df654156f9a": {
      "model_module": "@jupyter-widgets/base",
      "model_module_version": "2.0.0",
      "model_name": "LayoutModel",
      "state": {}
     },
     "6f2022fe444f4cc3b78bcda999718c17": {
      "model_module": "@jupyter-widgets/base",
      "model_module_version": "2.0.0",
      "model_name": "LayoutModel",
      "state": {}
     },
     "70b333305e834badbab8541724a3db31": {
      "model_module": "@jupyter-widgets/controls",
      "model_module_version": "2.0.0",
      "model_name": "ProgressStyleModel",
      "state": {
       "description_width": ""
      }
     },
     "720b4b9c4887467086045eb04e224fa6": {
      "model_module": "@jupyter-widgets/controls",
      "model_module_version": "2.0.0",
      "model_name": "FloatProgressModel",
      "state": {
       "bar_style": "success",
       "layout": "IPY_MODEL_09e7ec0c8b6b48eab33efa76da40f71d",
       "max": 104,
       "style": "IPY_MODEL_878121dbb6be44378247f73f500a237c",
       "value": 104
      }
     },
     "72a987fb06494d918c7e099e80e3f22d": {
      "model_module": "@jupyter-widgets/controls",
      "model_module_version": "2.0.0",
      "model_name": "ProgressStyleModel",
      "state": {
       "description_width": ""
      }
     },
     "72b43529db354603aa28fdee34a022e5": {
      "model_module": "@jupyter-widgets/controls",
      "model_module_version": "2.0.0",
      "model_name": "HTMLStyleModel",
      "state": {
       "description_width": "",
       "font_size": null,
       "text_color": null
      }
     },
     "72ef25f380f94c9395185019a3fd63e9": {
      "model_module": "@jupyter-widgets/controls",
      "model_module_version": "2.0.0",
      "model_name": "HTMLModel",
      "state": {
       "layout": "IPY_MODEL_daca9442c8a04dec8bd1f0b8a2ec2d6d",
       "style": "IPY_MODEL_de220097f6c4427ea277d68578682241",
       "value": " 104/104 [00:00&lt;00:00, 414.88it/s]"
      }
     },
     "733952b91402458b8077c7ecf7e60bec": {
      "model_module": "@jupyter-widgets/controls",
      "model_module_version": "2.0.0",
      "model_name": "FloatProgressModel",
      "state": {
       "bar_style": "success",
       "layout": "IPY_MODEL_3bfc78a0dab54d33ad9d61a081252ae1",
       "max": 104,
       "style": "IPY_MODEL_124fa0548e0c40418e335de3e074125f",
       "value": 104
      }
     },
     "733c8fe963c74116b0981b70a3ab1a47": {
      "model_module": "@jupyter-widgets/base",
      "model_module_version": "2.0.0",
      "model_name": "LayoutModel",
      "state": {}
     },
     "73b32cb6a2b5442f91d78706739a17ee": {
      "model_module": "@jupyter-widgets/controls",
      "model_module_version": "2.0.0",
      "model_name": "HTMLStyleModel",
      "state": {
       "description_width": "",
       "font_size": null,
       "text_color": null
      }
     },
     "749756b7bbe34fa5af402efec4930da6": {
      "model_module": "@jupyter-widgets/base",
      "model_module_version": "2.0.0",
      "model_name": "LayoutModel",
      "state": {}
     },
     "74a7ea73d2a84f8da2b9e683974ac5f6": {
      "model_module": "@jupyter-widgets/controls",
      "model_module_version": "2.0.0",
      "model_name": "FloatProgressModel",
      "state": {
       "bar_style": "success",
       "layout": "IPY_MODEL_df1099bf54c642dc8dd5cdb546ae7f47",
       "max": 12,
       "style": "IPY_MODEL_34cb7c5b9c3e482fa0a9999df9753b67",
       "value": 12
      }
     },
     "74b569a77ba24268ac4827eb04c873fb": {
      "model_module": "@jupyter-widgets/controls",
      "model_module_version": "2.0.0",
      "model_name": "ProgressStyleModel",
      "state": {
       "description_width": ""
      }
     },
     "751be394bbb440ee8334e241325c7142": {
      "model_module": "@jupyter-widgets/base",
      "model_module_version": "2.0.0",
      "model_name": "LayoutModel",
      "state": {}
     },
     "751c00c564b64780bba2ea4ed9e27578": {
      "model_module": "@jupyter-widgets/controls",
      "model_module_version": "2.0.0",
      "model_name": "HBoxModel",
      "state": {
       "children": [
        "IPY_MODEL_23fc9a09dcf542eb84f8b94bdc6f9904",
        "IPY_MODEL_769dc378a6bd4fbda6bfe4ee9aa6564c",
        "IPY_MODEL_b95856d703e9408c92989cf01342451e"
       ],
       "layout": "IPY_MODEL_54a96f9521134418bbd926311eb45520"
      }
     },
     "760f46aa3cb149a69f2e79be62101648": {
      "model_module": "@jupyter-widgets/controls",
      "model_module_version": "2.0.0",
      "model_name": "HTMLModel",
      "state": {
       "layout": "IPY_MODEL_c8be5b78bfab4ba69838e756de0aa8c6",
       "style": "IPY_MODEL_1d79b21c28ca4fd6bb8072dea1bd42af",
       "value": "Train Epoch 1/7: 100%"
      }
     },
     "769dc378a6bd4fbda6bfe4ee9aa6564c": {
      "model_module": "@jupyter-widgets/controls",
      "model_module_version": "2.0.0",
      "model_name": "FloatProgressModel",
      "state": {
       "bar_style": "success",
       "layout": "IPY_MODEL_8ef7c9c50a444ce4accc611109ef8d3a",
       "max": 104,
       "style": "IPY_MODEL_a4192c560bb047a086f28ed1618fec1c",
       "value": 104
      }
     },
     "76a1faed3cb5423c9cae5e2749bb90e2": {
      "model_module": "@jupyter-widgets/base",
      "model_module_version": "2.0.0",
      "model_name": "LayoutModel",
      "state": {}
     },
     "77800dec9b4b4cbdb168dc81db9021a3": {
      "model_module": "@jupyter-widgets/controls",
      "model_module_version": "2.0.0",
      "model_name": "ProgressStyleModel",
      "state": {
       "description_width": ""
      }
     },
     "781ba2d0c3a14765adaeb2ab778899dc": {
      "model_module": "@jupyter-widgets/controls",
      "model_module_version": "2.0.0",
      "model_name": "HTMLModel",
      "state": {
       "layout": "IPY_MODEL_d0db1aa5d7854acab166ea00f0fa2c02",
       "style": "IPY_MODEL_9136fd3b667541d9985d840b8232fe17",
       "value": "Test Epoch 5/10: 100%"
      }
     },
     "7cb50d3839a5440b9f4a57cd6dec04df": {
      "model_module": "@jupyter-widgets/base",
      "model_module_version": "2.0.0",
      "model_name": "LayoutModel",
      "state": {}
     },
     "7d63966e900145f2b49a47611e22b6ed": {
      "model_module": "@jupyter-widgets/base",
      "model_module_version": "2.0.0",
      "model_name": "LayoutModel",
      "state": {}
     },
     "7e14d3941f1146d79831239c322ad642": {
      "model_module": "@jupyter-widgets/base",
      "model_module_version": "2.0.0",
      "model_name": "LayoutModel",
      "state": {}
     },
     "7f7e6280e9a94bdcbad4078d6650066c": {
      "model_module": "@jupyter-widgets/controls",
      "model_module_version": "2.0.0",
      "model_name": "HTMLStyleModel",
      "state": {
       "description_width": "",
       "font_size": null,
       "text_color": null
      }
     },
     "80f0e97b5be846ee9e39099dba5388fb": {
      "model_module": "@jupyter-widgets/controls",
      "model_module_version": "2.0.0",
      "model_name": "HTMLStyleModel",
      "state": {
       "description_width": "",
       "font_size": null,
       "text_color": null
      }
     },
     "8131bf96782c4f18a69a5c8e3a0ac9a3": {
      "model_module": "@jupyter-widgets/controls",
      "model_module_version": "2.0.0",
      "model_name": "HTMLModel",
      "state": {
       "layout": "IPY_MODEL_3d4c75a420754a8c874cad495b461aa8",
       "style": "IPY_MODEL_ca899cb9f9b94d7184a2e0a270ce4b47",
       "value": " 104/104 [00:00&lt;00:00, 1023.96it/s]"
      }
     },
     "81a715ebc99b40f58caa2eda6484f7eb": {
      "model_module": "@jupyter-widgets/controls",
      "model_module_version": "2.0.0",
      "model_name": "FloatProgressModel",
      "state": {
       "bar_style": "success",
       "layout": "IPY_MODEL_12903ef9c6834fc4ab0bf4507256c619",
       "max": 12,
       "style": "IPY_MODEL_72a987fb06494d918c7e099e80e3f22d",
       "value": 12
      }
     },
     "81e45d2aa0224cf4b993a185ded8aaba": {
      "model_module": "@jupyter-widgets/base",
      "model_module_version": "2.0.0",
      "model_name": "LayoutModel",
      "state": {}
     },
     "82516a9d0435434ea343023552f14732": {
      "model_module": "@jupyter-widgets/controls",
      "model_module_version": "2.0.0",
      "model_name": "HTMLStyleModel",
      "state": {
       "description_width": "",
       "font_size": null,
       "text_color": null
      }
     },
     "836b5f1c705c4a458a374e3d8e65d3b4": {
      "model_module": "@jupyter-widgets/controls",
      "model_module_version": "2.0.0",
      "model_name": "FloatProgressModel",
      "state": {
       "bar_style": "success",
       "layout": "IPY_MODEL_9de843a342a94779ad89e3398ec794a0",
       "max": 12,
       "style": "IPY_MODEL_e9b4d89877864922b264ef527d79cf90",
       "value": 12
      }
     },
     "83f91fbecc1749ca98e7b96ef159e66d": {
      "model_module": "@jupyter-widgets/controls",
      "model_module_version": "2.0.0",
      "model_name": "HTMLStyleModel",
      "state": {
       "description_width": "",
       "font_size": null,
       "text_color": null
      }
     },
     "84834fce55fd47c0ad59fd3f2a2c8248": {
      "model_module": "@jupyter-widgets/controls",
      "model_module_version": "2.0.0",
      "model_name": "FloatProgressModel",
      "state": {
       "bar_style": "success",
       "layout": "IPY_MODEL_8fcf477d59c847709c7c00f2823da9c5",
       "max": 104,
       "style": "IPY_MODEL_6638d3c7b02248b5b74fe143339135a4",
       "value": 104
      }
     },
     "84ba04577cf14be98f42cb7df4b44a73": {
      "model_module": "@jupyter-widgets/controls",
      "model_module_version": "2.0.0",
      "model_name": "HBoxModel",
      "state": {
       "children": [
        "IPY_MODEL_e8f9b8746a814124a33a41c80874e0ae",
        "IPY_MODEL_4c3eaf654d3e4937a539aa14560d83ce",
        "IPY_MODEL_1b529366e5d14032b94360b655ba1ed4"
       ],
       "layout": "IPY_MODEL_078a269948944344b84d64e0b385f5a7"
      }
     },
     "869532ab659c4069b5f5a22424991fd2": {
      "model_module": "@jupyter-widgets/controls",
      "model_module_version": "2.0.0",
      "model_name": "HBoxModel",
      "state": {
       "children": [
        "IPY_MODEL_5b04b9b65f3742b19cd467c8c83f403b",
        "IPY_MODEL_d34ff7fb2fd44c71918194dc785f5eb2",
        "IPY_MODEL_d0998d0daab0473a99bc733c0225f5de"
       ],
       "layout": "IPY_MODEL_5b3fa3da185548c099e3f29463f6a530"
      }
     },
     "8756ebada1c5450eb3404dbc0e3e0b26": {
      "model_module": "@jupyter-widgets/controls",
      "model_module_version": "2.0.0",
      "model_name": "HBoxModel",
      "state": {
       "children": [
        "IPY_MODEL_c51b230a29994a0eb6b1dbc9dadefc80",
        "IPY_MODEL_d95452ae1802442699823b0a57cadbe3",
        "IPY_MODEL_3bca923374ff4cdb99ea4a9c5800ddeb"
       ],
       "layout": "IPY_MODEL_a0c4289f70204def87b03b21640c8a2c"
      }
     },
     "878121dbb6be44378247f73f500a237c": {
      "model_module": "@jupyter-widgets/controls",
      "model_module_version": "2.0.0",
      "model_name": "ProgressStyleModel",
      "state": {
       "description_width": ""
      }
     },
     "89b69a5b01e44630b680f5dbde379231": {
      "model_module": "@jupyter-widgets/controls",
      "model_module_version": "2.0.0",
      "model_name": "HTMLModel",
      "state": {
       "layout": "IPY_MODEL_4f79e706c58a492cbe05130dfbfd8238",
       "style": "IPY_MODEL_628da5e0ade14daf9ca81bbe30170867",
       "value": " 104/104 [00:00&lt;00:00, 975.92it/s]"
      }
     },
     "8b2c0d7c3b6e4fc5a5c067e18454dccf": {
      "model_module": "@jupyter-widgets/controls",
      "model_module_version": "2.0.0",
      "model_name": "HTMLStyleModel",
      "state": {
       "description_width": "",
       "font_size": null,
       "text_color": null
      }
     },
     "8b376fd3d45d44669579fe53e9fc09ea": {
      "model_module": "@jupyter-widgets/controls",
      "model_module_version": "2.0.0",
      "model_name": "HBoxModel",
      "state": {
       "children": [
        "IPY_MODEL_0c174eeb877a48cca731634c48e87a73",
        "IPY_MODEL_aecbf0f8d69541a68aecf2e4100a24a6",
        "IPY_MODEL_635b4d2c54fe4e5fbb9d833054cfb076"
       ],
       "layout": "IPY_MODEL_951ac255793b4dc784348cd1c18073ce"
      }
     },
     "8b457124fa2b4c0da7e2378815b60435": {
      "model_module": "@jupyter-widgets/base",
      "model_module_version": "2.0.0",
      "model_name": "LayoutModel",
      "state": {}
     },
     "8ba8c96e8766498fa5127ab91be811a7": {
      "model_module": "@jupyter-widgets/controls",
      "model_module_version": "2.0.0",
      "model_name": "HTMLStyleModel",
      "state": {
       "description_width": "",
       "font_size": null,
       "text_color": null
      }
     },
     "8c0040b77a1344d8ae942962d5d33989": {
      "model_module": "@jupyter-widgets/base",
      "model_module_version": "2.0.0",
      "model_name": "LayoutModel",
      "state": {}
     },
     "8cb9b6bd6e64442bb8ded96e1014ed29": {
      "model_module": "@jupyter-widgets/base",
      "model_module_version": "2.0.0",
      "model_name": "LayoutModel",
      "state": {}
     },
     "8d33a840596940b584c98eea9db6863c": {
      "model_module": "@jupyter-widgets/controls",
      "model_module_version": "2.0.0",
      "model_name": "HTMLModel",
      "state": {
       "layout": "IPY_MODEL_281c5d575a5844b0a904ae01fc88580d",
       "style": "IPY_MODEL_0f7f07064a8040eb98e4f6fb0abbf7be",
       "value": "Train Epoch 7/7: 100%"
      }
     },
     "8de3df1e2fd1489eaf889140c49f6c23": {
      "model_module": "@jupyter-widgets/base",
      "model_module_version": "2.0.0",
      "model_name": "LayoutModel",
      "state": {}
     },
     "8ef7c9c50a444ce4accc611109ef8d3a": {
      "model_module": "@jupyter-widgets/base",
      "model_module_version": "2.0.0",
      "model_name": "LayoutModel",
      "state": {}
     },
     "8f537679806a47e29e4bbfb45fc43eb4": {
      "model_module": "@jupyter-widgets/base",
      "model_module_version": "2.0.0",
      "model_name": "LayoutModel",
      "state": {}
     },
     "8fcf477d59c847709c7c00f2823da9c5": {
      "model_module": "@jupyter-widgets/base",
      "model_module_version": "2.0.0",
      "model_name": "LayoutModel",
      "state": {}
     },
     "9067db548f9142d7854078fbfb97b06a": {
      "model_module": "@jupyter-widgets/base",
      "model_module_version": "2.0.0",
      "model_name": "LayoutModel",
      "state": {}
     },
     "9069d9e9e0a04d4ca072e1a459b8a0c1": {
      "model_module": "@jupyter-widgets/controls",
      "model_module_version": "2.0.0",
      "model_name": "HTMLModel",
      "state": {
       "layout": "IPY_MODEL_a7a236f7fc0e4aa8af921d63a7d504ed",
       "style": "IPY_MODEL_f93f2b50c2c043e28907d430ff7dc0e3",
       "value": " 104/104 [00:00&lt;00:00, 1092.84it/s]"
      }
     },
     "90b99ab986724bd6af1515176ba07184": {
      "model_module": "@jupyter-widgets/controls",
      "model_module_version": "2.0.0",
      "model_name": "HTMLStyleModel",
      "state": {
       "description_width": "",
       "font_size": null,
       "text_color": null
      }
     },
     "9136fd3b667541d9985d840b8232fe17": {
      "model_module": "@jupyter-widgets/controls",
      "model_module_version": "2.0.0",
      "model_name": "HTMLStyleModel",
      "state": {
       "description_width": "",
       "font_size": null,
       "text_color": null
      }
     },
     "92302abcde39446cad1dd606021cd7f8": {
      "model_module": "@jupyter-widgets/base",
      "model_module_version": "2.0.0",
      "model_name": "LayoutModel",
      "state": {}
     },
     "940d03bf81b649dfae54fed208783ded": {
      "model_module": "@jupyter-widgets/controls",
      "model_module_version": "2.0.0",
      "model_name": "FloatProgressModel",
      "state": {
       "bar_style": "success",
       "layout": "IPY_MODEL_499eb4bcfa1b492e9a7b2557c2e28c51",
       "max": 12,
       "style": "IPY_MODEL_bb1fc43dc4774a9ababe32b8168688cb",
       "value": 12
      }
     },
     "9459d47edfbb4d48aa138d25c49c87c6": {
      "model_module": "@jupyter-widgets/controls",
      "model_module_version": "2.0.0",
      "model_name": "FloatProgressModel",
      "state": {
       "bar_style": "success",
       "layout": "IPY_MODEL_7d63966e900145f2b49a47611e22b6ed",
       "max": 104,
       "style": "IPY_MODEL_19dd988e95f14417b8f6baea27658313",
       "value": 104
      }
     },
     "9467501f9f604fe88be234e2c1a1b92a": {
      "model_module": "@jupyter-widgets/base",
      "model_module_version": "2.0.0",
      "model_name": "LayoutModel",
      "state": {}
     },
     "94751b795478426eb4665c840e6eda5c": {
      "model_module": "@jupyter-widgets/controls",
      "model_module_version": "2.0.0",
      "model_name": "ProgressStyleModel",
      "state": {
       "description_width": ""
      }
     },
     "947d7305b7e14e32b859f55af3c73d88": {
      "model_module": "@jupyter-widgets/base",
      "model_module_version": "2.0.0",
      "model_name": "LayoutModel",
      "state": {}
     },
     "94832972fa7f4ca4bd3d61139b2e9370": {
      "model_module": "@jupyter-widgets/controls",
      "model_module_version": "2.0.0",
      "model_name": "HTMLStyleModel",
      "state": {
       "description_width": "",
       "font_size": null,
       "text_color": null
      }
     },
     "94a067a4381f4ebdba2696560b0c7502": {
      "model_module": "@jupyter-widgets/base",
      "model_module_version": "2.0.0",
      "model_name": "LayoutModel",
      "state": {}
     },
     "951ac255793b4dc784348cd1c18073ce": {
      "model_module": "@jupyter-widgets/base",
      "model_module_version": "2.0.0",
      "model_name": "LayoutModel",
      "state": {}
     },
     "95db42289126488eb0eb5f8e63a8a982": {
      "model_module": "@jupyter-widgets/base",
      "model_module_version": "2.0.0",
      "model_name": "LayoutModel",
      "state": {}
     },
     "961850846d4f4c43aade2d2b416c7bfb": {
      "model_module": "@jupyter-widgets/controls",
      "model_module_version": "2.0.0",
      "model_name": "HTMLModel",
      "state": {
       "layout": "IPY_MODEL_947d7305b7e14e32b859f55af3c73d88",
       "style": "IPY_MODEL_b193f97f5f1f44ac9fec324929ebb29d",
       "value": " 104/104 [00:00&lt;00:00, 429.39it/s]"
      }
     },
     "98169fa0a33e4d709c72872d4e1fd4bc": {
      "model_module": "@jupyter-widgets/base",
      "model_module_version": "2.0.0",
      "model_name": "LayoutModel",
      "state": {}
     },
     "9892c519ff6044118a806af922243a66": {
      "model_module": "@jupyter-widgets/base",
      "model_module_version": "2.0.0",
      "model_name": "LayoutModel",
      "state": {}
     },
     "9bec5ca35e264c489894d4789d4ee8cd": {
      "model_module": "@jupyter-widgets/base",
      "model_module_version": "2.0.0",
      "model_name": "LayoutModel",
      "state": {}
     },
     "9d5d461f16d54c188ffb41c901b37738": {
      "model_module": "@jupyter-widgets/controls",
      "model_module_version": "2.0.0",
      "model_name": "HTMLStyleModel",
      "state": {
       "description_width": "",
       "font_size": null,
       "text_color": null
      }
     },
     "9d78bc3826c04bbb8a1d7a4c43f4028a": {
      "model_module": "@jupyter-widgets/base",
      "model_module_version": "2.0.0",
      "model_name": "LayoutModel",
      "state": {}
     },
     "9de843a342a94779ad89e3398ec794a0": {
      "model_module": "@jupyter-widgets/base",
      "model_module_version": "2.0.0",
      "model_name": "LayoutModel",
      "state": {}
     },
     "9df4f3ce92c146b9b20ff4d5380b5e3b": {
      "model_module": "@jupyter-widgets/base",
      "model_module_version": "2.0.0",
      "model_name": "LayoutModel",
      "state": {}
     },
     "9eaa6bcfc58a49938002e95b6cb3fb3e": {
      "model_module": "@jupyter-widgets/controls",
      "model_module_version": "2.0.0",
      "model_name": "HTMLStyleModel",
      "state": {
       "description_width": "",
       "font_size": null,
       "text_color": null
      }
     },
     "9ee3af07a406467e8e03addacca18a77": {
      "model_module": "@jupyter-widgets/base",
      "model_module_version": "2.0.0",
      "model_name": "LayoutModel",
      "state": {}
     },
     "9f7814ce2e9d4a18b40cc86abb32738c": {
      "model_module": "@jupyter-widgets/controls",
      "model_module_version": "2.0.0",
      "model_name": "HTMLModel",
      "state": {
       "layout": "IPY_MODEL_379e3e41f2234281ab02929ef60b11af",
       "style": "IPY_MODEL_3d18f4ecbedd4b72ae6c8c0f70014aaa",
       "value": " 12/12 [00:00&lt;00:00, 302.68it/s]"
      }
     },
     "a0a1a29ee74b44de9166e3fcf3e04b21": {
      "model_module": "@jupyter-widgets/controls",
      "model_module_version": "2.0.0",
      "model_name": "ProgressStyleModel",
      "state": {
       "description_width": ""
      }
     },
     "a0c4289f70204def87b03b21640c8a2c": {
      "model_module": "@jupyter-widgets/base",
      "model_module_version": "2.0.0",
      "model_name": "LayoutModel",
      "state": {}
     },
     "a12ceb87d0d4414c942bdcd0926e0ce5": {
      "model_module": "@jupyter-widgets/controls",
      "model_module_version": "2.0.0",
      "model_name": "FloatProgressModel",
      "state": {
       "bar_style": "success",
       "layout": "IPY_MODEL_8f537679806a47e29e4bbfb45fc43eb4",
       "max": 12,
       "style": "IPY_MODEL_b8e2c02a4fc8426aa7efa8d3e3242b5a",
       "value": 12
      }
     },
     "a19f7be8988448b58781292476b06c78": {
      "model_module": "@jupyter-widgets/base",
      "model_module_version": "2.0.0",
      "model_name": "LayoutModel",
      "state": {}
     },
     "a3ae0b3909b74c58b9fa1da7013aff42": {
      "model_module": "@jupyter-widgets/controls",
      "model_module_version": "2.0.0",
      "model_name": "HTMLModel",
      "state": {
       "layout": "IPY_MODEL_b6af1007bc4d4ce28d6c5523570543a7",
       "style": "IPY_MODEL_d8d45daba8b04545b9027530952f89cb",
       "value": "Train Epoch 1/10: 100%"
      }
     },
     "a3e8e6dd1509455cbb03f7ef67270770": {
      "model_module": "@jupyter-widgets/base",
      "model_module_version": "2.0.0",
      "model_name": "LayoutModel",
      "state": {}
     },
     "a4192c560bb047a086f28ed1618fec1c": {
      "model_module": "@jupyter-widgets/controls",
      "model_module_version": "2.0.0",
      "model_name": "ProgressStyleModel",
      "state": {
       "description_width": ""
      }
     },
     "a58df3a71ae74528bd035b93213bb750": {
      "model_module": "@jupyter-widgets/base",
      "model_module_version": "2.0.0",
      "model_name": "LayoutModel",
      "state": {}
     },
     "a5931c7b40134e68b7f25aafe8517c7b": {
      "model_module": "@jupyter-widgets/controls",
      "model_module_version": "2.0.0",
      "model_name": "HTMLStyleModel",
      "state": {
       "description_width": "",
       "font_size": null,
       "text_color": null
      }
     },
     "a5fd22a04333488c9ef0d4534d3c9743": {
      "model_module": "@jupyter-widgets/controls",
      "model_module_version": "2.0.0",
      "model_name": "ProgressStyleModel",
      "state": {
       "description_width": ""
      }
     },
     "a6492c8c8e3947bfb16e68321db2d4ad": {
      "model_module": "@jupyter-widgets/controls",
      "model_module_version": "2.0.0",
      "model_name": "HBoxModel",
      "state": {
       "children": [
        "IPY_MODEL_bb2f9c8ef706422cba22f817f8fd866b",
        "IPY_MODEL_84834fce55fd47c0ad59fd3f2a2c8248",
        "IPY_MODEL_ad4afd333a33419badf1a68a8c31bf72"
       ],
       "layout": "IPY_MODEL_e70dc848510841f68244ab391cf4d6cb"
      }
     },
     "a64b4ca5c12741a09cc3f41906571b62": {
      "model_module": "@jupyter-widgets/controls",
      "model_module_version": "2.0.0",
      "model_name": "HTMLModel",
      "state": {
       "layout": "IPY_MODEL_397171ce8af849e79bb8b5d2a764fed9",
       "style": "IPY_MODEL_2e877240507e4c93851fcba339d30789",
       "value": "Train Epoch 6/10: 100%"
      }
     },
     "a74a86f9d24b4667901c2a7eb11c90fe": {
      "model_module": "@jupyter-widgets/controls",
      "model_module_version": "2.0.0",
      "model_name": "HTMLStyleModel",
      "state": {
       "description_width": "",
       "font_size": null,
       "text_color": null
      }
     },
     "a7a236f7fc0e4aa8af921d63a7d504ed": {
      "model_module": "@jupyter-widgets/base",
      "model_module_version": "2.0.0",
      "model_name": "LayoutModel",
      "state": {}
     },
     "a85c7c53521644f497b4792e218bf1dd": {
      "model_module": "@jupyter-widgets/base",
      "model_module_version": "2.0.0",
      "model_name": "LayoutModel",
      "state": {}
     },
     "a86817fa20e94ddd8977d6481d42c258": {
      "model_module": "@jupyter-widgets/base",
      "model_module_version": "2.0.0",
      "model_name": "LayoutModel",
      "state": {}
     },
     "a897316970c34a5784235940db2e1b72": {
      "model_module": "@jupyter-widgets/controls",
      "model_module_version": "2.0.0",
      "model_name": "HTMLModel",
      "state": {
       "layout": "IPY_MODEL_502b31673a8f4cb2810cc7ce42353d05",
       "style": "IPY_MODEL_b61a4d67d3534c79917e3b1d852dfc39",
       "value": " 104/104 [00:00&lt;00:00, 968.45it/s]"
      }
     },
     "a914697ec76c4f2cbb537856be7e0cd8": {
      "model_module": "@jupyter-widgets/controls",
      "model_module_version": "2.0.0",
      "model_name": "HTMLStyleModel",
      "state": {
       "description_width": "",
       "font_size": null,
       "text_color": null
      }
     },
     "a9530d9786894abba6db740dff4e38a1": {
      "model_module": "@jupyter-widgets/base",
      "model_module_version": "2.0.0",
      "model_name": "LayoutModel",
      "state": {}
     },
     "aaa7a1bb03664a888063284e1598afc6": {
      "model_module": "@jupyter-widgets/controls",
      "model_module_version": "2.0.0",
      "model_name": "HTMLStyleModel",
      "state": {
       "description_width": "",
       "font_size": null,
       "text_color": null
      }
     },
     "aaa91c6d5550498393bb339c94e6d1bd": {
      "model_module": "@jupyter-widgets/base",
      "model_module_version": "2.0.0",
      "model_name": "LayoutModel",
      "state": {}
     },
     "ab3accef0cbf4eb3a299968ba8bf561f": {
      "model_module": "@jupyter-widgets/controls",
      "model_module_version": "2.0.0",
      "model_name": "HTMLModel",
      "state": {
       "layout": "IPY_MODEL_6b0d476ae78648159ee5dff65df1b297",
       "style": "IPY_MODEL_72b43529db354603aa28fdee34a022e5",
       "value": " 12/12 [00:00&lt;00:00, 250.83it/s]"
      }
     },
     "ad4afd333a33419badf1a68a8c31bf72": {
      "model_module": "@jupyter-widgets/controls",
      "model_module_version": "2.0.0",
      "model_name": "HTMLModel",
      "state": {
       "layout": "IPY_MODEL_749756b7bbe34fa5af402efec4930da6",
       "style": "IPY_MODEL_ddd164b331cf49f486a9c5d2bc8531da",
       "value": " 104/104 [00:00&lt;00:00, 534.45it/s]"
      }
     },
     "ad775913f7d545a4a53670c0c177d895": {
      "model_module": "@jupyter-widgets/base",
      "model_module_version": "2.0.0",
      "model_name": "LayoutModel",
      "state": {}
     },
     "ae7752bca3744a0fbf60b8f751f064bc": {
      "model_module": "@jupyter-widgets/base",
      "model_module_version": "2.0.0",
      "model_name": "LayoutModel",
      "state": {}
     },
     "aecbf0f8d69541a68aecf2e4100a24a6": {
      "model_module": "@jupyter-widgets/controls",
      "model_module_version": "2.0.0",
      "model_name": "FloatProgressModel",
      "state": {
       "bar_style": "success",
       "layout": "IPY_MODEL_c94d68366b7147a49b6ee20fe1736284",
       "max": 7,
       "style": "IPY_MODEL_244844befc544914844b086fa02aa25d",
       "value": 7
      }
     },
     "af06a8b193d34864999de195f4934b5b": {
      "model_module": "@jupyter-widgets/controls",
      "model_module_version": "2.0.0",
      "model_name": "ProgressStyleModel",
      "state": {
       "description_width": ""
      }
     },
     "afcefc18bfd949c486eda9f8e5826a64": {
      "model_module": "@jupyter-widgets/controls",
      "model_module_version": "2.0.0",
      "model_name": "HTMLStyleModel",
      "state": {
       "description_width": "",
       "font_size": null,
       "text_color": null
      }
     },
     "b16e4edcd5f249a8b28655ff2bd53cad": {
      "model_module": "@jupyter-widgets/base",
      "model_module_version": "2.0.0",
      "model_name": "LayoutModel",
      "state": {}
     },
     "b193f97f5f1f44ac9fec324929ebb29d": {
      "model_module": "@jupyter-widgets/controls",
      "model_module_version": "2.0.0",
      "model_name": "HTMLStyleModel",
      "state": {
       "description_width": "",
       "font_size": null,
       "text_color": null
      }
     },
     "b276b19d61984214b0835b35763c2f27": {
      "model_module": "@jupyter-widgets/controls",
      "model_module_version": "2.0.0",
      "model_name": "HBoxModel",
      "state": {
       "children": [
        "IPY_MODEL_a64b4ca5c12741a09cc3f41906571b62",
        "IPY_MODEL_d68bf401721a4112910a3349c35abae8",
        "IPY_MODEL_09bbef1594f84b4fa2894f322c36c941"
       ],
       "layout": "IPY_MODEL_d0a772e714294845be61d7299214d88c"
      }
     },
     "b2b45f6d64b04abeaefea8c7b9252a3b": {
      "model_module": "@jupyter-widgets/controls",
      "model_module_version": "2.0.0",
      "model_name": "HTMLStyleModel",
      "state": {
       "description_width": "",
       "font_size": null,
       "text_color": null
      }
     },
     "b366be24074e4c9fbcac8c3ec7d585eb": {
      "model_module": "@jupyter-widgets/controls",
      "model_module_version": "2.0.0",
      "model_name": "HTMLStyleModel",
      "state": {
       "description_width": "",
       "font_size": null,
       "text_color": null
      }
     },
     "b45a54f1371a4437ad0ea1e50f1d09ed": {
      "model_module": "@jupyter-widgets/base",
      "model_module_version": "2.0.0",
      "model_name": "LayoutModel",
      "state": {}
     },
     "b464c9a14ef6476caed8701a36085291": {
      "model_module": "@jupyter-widgets/controls",
      "model_module_version": "2.0.0",
      "model_name": "FloatProgressModel",
      "state": {
       "bar_style": "success",
       "layout": "IPY_MODEL_5b36d5f3a2b6476fa38d20c88744d5ea",
       "max": 12,
       "style": "IPY_MODEL_46d24e97530a4a169a1da2a485304b6a",
       "value": 12
      }
     },
     "b487198a34954050a30dd71858f80d29": {
      "model_module": "@jupyter-widgets/controls",
      "model_module_version": "2.0.0",
      "model_name": "HTMLModel",
      "state": {
       "layout": "IPY_MODEL_df6e962cfd5144aea5f097e243ce0532",
       "style": "IPY_MODEL_425cc4a0f91646919ba7a4381cce6ad9",
       "value": " 12/12 [00:00&lt;00:00, 671.70it/s]"
      }
     },
     "b4ecdcd4339e4c1688bdb41adbd7730a": {
      "model_module": "@jupyter-widgets/base",
      "model_module_version": "2.0.0",
      "model_name": "LayoutModel",
      "state": {}
     },
     "b61a4d67d3534c79917e3b1d852dfc39": {
      "model_module": "@jupyter-widgets/controls",
      "model_module_version": "2.0.0",
      "model_name": "HTMLStyleModel",
      "state": {
       "description_width": "",
       "font_size": null,
       "text_color": null
      }
     },
     "b6224d15474e467a8995c529fb30669c": {
      "model_module": "@jupyter-widgets/controls",
      "model_module_version": "2.0.0",
      "model_name": "ProgressStyleModel",
      "state": {
       "description_width": ""
      }
     },
     "b67ddf4bcb364f3dad766840509a3084": {
      "model_module": "@jupyter-widgets/controls",
      "model_module_version": "2.0.0",
      "model_name": "FloatProgressModel",
      "state": {
       "bar_style": "success",
       "layout": "IPY_MODEL_fc014996c88646f1a800307f9754a55b",
       "max": 104,
       "style": "IPY_MODEL_77800dec9b4b4cbdb168dc81db9021a3",
       "value": 104
      }
     },
     "b6af1007bc4d4ce28d6c5523570543a7": {
      "model_module": "@jupyter-widgets/base",
      "model_module_version": "2.0.0",
      "model_name": "LayoutModel",
      "state": {}
     },
     "b7bd02ffe5a843aa83e439ee0a279758": {
      "model_module": "@jupyter-widgets/controls",
      "model_module_version": "2.0.0",
      "model_name": "ProgressStyleModel",
      "state": {
       "description_width": ""
      }
     },
     "b8e1985c3bd047a1941f85b538f4d72e": {
      "model_module": "@jupyter-widgets/controls",
      "model_module_version": "2.0.0",
      "model_name": "HTMLModel",
      "state": {
       "layout": "IPY_MODEL_37ca76778b5e44a6b121b7bee211a108",
       "style": "IPY_MODEL_80f0e97b5be846ee9e39099dba5388fb",
       "value": " 12/12 [00:00&lt;00:00, 413.71it/s]"
      }
     },
     "b8e2c02a4fc8426aa7efa8d3e3242b5a": {
      "model_module": "@jupyter-widgets/controls",
      "model_module_version": "2.0.0",
      "model_name": "ProgressStyleModel",
      "state": {
       "description_width": ""
      }
     },
     "b95856d703e9408c92989cf01342451e": {
      "model_module": "@jupyter-widgets/controls",
      "model_module_version": "2.0.0",
      "model_name": "HTMLModel",
      "state": {
       "layout": "IPY_MODEL_8de3df1e2fd1489eaf889140c49f6c23",
       "style": "IPY_MODEL_8ba8c96e8766498fa5127ab91be811a7",
       "value": " 104/104 [00:00&lt;00:00, 825.96it/s]"
      }
     },
     "b9a4ddbbeeaf48ee94b4f9a35b5b0a09": {
      "model_module": "@jupyter-widgets/controls",
      "model_module_version": "2.0.0",
      "model_name": "HTMLModel",
      "state": {
       "layout": "IPY_MODEL_6924c384332741fd80b3e39c3801e3a6",
       "style": "IPY_MODEL_56b5e3bce2524c848e5d131a5f14e9ab",
       "value": "Test Epoch 1/7: 100%"
      }
     },
     "b9ceaedeeb804e6cb3340450c188356d": {
      "model_module": "@jupyter-widgets/controls",
      "model_module_version": "2.0.0",
      "model_name": "HTMLModel",
      "state": {
       "layout": "IPY_MODEL_6d7b83d9392244ac85ca89b4353c902d",
       "style": "IPY_MODEL_6b9040285f3648df8fdd3661c2fd8398",
       "value": "Test Epoch 2/7: 100%"
      }
     },
     "baf654171c2e41d7850842596f9fa726": {
      "model_module": "@jupyter-widgets/controls",
      "model_module_version": "2.0.0",
      "model_name": "FloatProgressModel",
      "state": {
       "bar_style": "success",
       "layout": "IPY_MODEL_cd7737a1845e4cfda4ebddd6824f255b",
       "max": 104,
       "style": "IPY_MODEL_bebd22a5095d4f5b87359119128f8bc3",
       "value": 104
      }
     },
     "bb1fc43dc4774a9ababe32b8168688cb": {
      "model_module": "@jupyter-widgets/controls",
      "model_module_version": "2.0.0",
      "model_name": "ProgressStyleModel",
      "state": {
       "description_width": ""
      }
     },
     "bb2f9c8ef706422cba22f817f8fd866b": {
      "model_module": "@jupyter-widgets/controls",
      "model_module_version": "2.0.0",
      "model_name": "HTMLModel",
      "state": {
       "layout": "IPY_MODEL_63cc0057954d47188ae622c6ba0a8da9",
       "style": "IPY_MODEL_73b32cb6a2b5442f91d78706739a17ee",
       "value": "Train Epoch 10/10: 100%"
      }
     },
     "bb5e8b86badb4d658ed572333132b993": {
      "model_module": "@jupyter-widgets/controls",
      "model_module_version": "2.0.0",
      "model_name": "HBoxModel",
      "state": {
       "children": [
        "IPY_MODEL_a3ae0b3909b74c58b9fa1da7013aff42",
        "IPY_MODEL_1847043e6a7f4515b2a16131ae7f750e",
        "IPY_MODEL_f23de550eb1e4eb1a3aae1f81bb19482"
       ],
       "layout": "IPY_MODEL_361809c824414e7da9422641bf99516e"
      }
     },
     "bc03c58a60494374b78e774244448e17": {
      "model_module": "@jupyter-widgets/base",
      "model_module_version": "2.0.0",
      "model_name": "LayoutModel",
      "state": {}
     },
     "bd4d0e227bf54aee93623f352ee9036e": {
      "model_module": "@jupyter-widgets/controls",
      "model_module_version": "2.0.0",
      "model_name": "HTMLModel",
      "state": {
       "layout": "IPY_MODEL_8b457124fa2b4c0da7e2378815b60435",
       "style": "IPY_MODEL_8b2c0d7c3b6e4fc5a5c067e18454dccf",
       "value": " 12/12 [00:00&lt;00:00, 495.43it/s]"
      }
     },
     "bd8ce90ce8d44ca1b7d92fd68325afa5": {
      "model_module": "@jupyter-widgets/base",
      "model_module_version": "2.0.0",
      "model_name": "LayoutModel",
      "state": {}
     },
     "bebd22a5095d4f5b87359119128f8bc3": {
      "model_module": "@jupyter-widgets/controls",
      "model_module_version": "2.0.0",
      "model_name": "ProgressStyleModel",
      "state": {
       "description_width": ""
      }
     },
     "bf91fe950c434a45b95af7c847d2657a": {
      "model_module": "@jupyter-widgets/base",
      "model_module_version": "2.0.0",
      "model_name": "LayoutModel",
      "state": {}
     },
     "c11734bb43cb4bdb8c5c226faaf6d521": {
      "model_module": "@jupyter-widgets/controls",
      "model_module_version": "2.0.0",
      "model_name": "HBoxModel",
      "state": {
       "children": [
        "IPY_MODEL_fe7f2066e7654ec0b8ef3ff70649af8e",
        "IPY_MODEL_f9cb59cc1ed94743b90e33bcbfc6c877",
        "IPY_MODEL_e6466058d1254570bcbf6252a71ead76"
       ],
       "layout": "IPY_MODEL_95db42289126488eb0eb5f8e63a8a982"
      }
     },
     "c19c0781cc384d3f9e960a66842b369d": {
      "model_module": "@jupyter-widgets/controls",
      "model_module_version": "2.0.0",
      "model_name": "HTMLModel",
      "state": {
       "layout": "IPY_MODEL_edcbd42b66ef4541a624f445228cbef2",
       "style": "IPY_MODEL_b2b45f6d64b04abeaefea8c7b9252a3b",
       "value": " 12/12 [00:00&lt;00:00, 557.28it/s]"
      }
     },
     "c227b9df24b042c6a2fd78dbdf518a8b": {
      "model_module": "@jupyter-widgets/base",
      "model_module_version": "2.0.0",
      "model_name": "LayoutModel",
      "state": {}
     },
     "c34b4ae9dc6044db961a6b9ad0c84003": {
      "model_module": "@jupyter-widgets/base",
      "model_module_version": "2.0.0",
      "model_name": "LayoutModel",
      "state": {}
     },
     "c3d7180078db46669a71d996fa9973c7": {
      "model_module": "@jupyter-widgets/controls",
      "model_module_version": "2.0.0",
      "model_name": "HTMLModel",
      "state": {
       "layout": "IPY_MODEL_ad775913f7d545a4a53670c0c177d895",
       "style": "IPY_MODEL_fefe4de179e048ddac2534984126185b",
       "value": "Test Epoch 7/7: 100%"
      }
     },
     "c51b230a29994a0eb6b1dbc9dadefc80": {
      "model_module": "@jupyter-widgets/controls",
      "model_module_version": "2.0.0",
      "model_name": "HTMLModel",
      "state": {
       "layout": "IPY_MODEL_c81ceee5a6bd4fe0b091fbd1b070fd69",
       "style": "IPY_MODEL_39c36e5d26f1429c8c9231675aae56e3",
       "value": "Train Epoch 2/7: 100%"
      }
     },
     "c708033ea4314c93a755d7d9e1138c9c": {
      "model_module": "@jupyter-widgets/controls",
      "model_module_version": "2.0.0",
      "model_name": "HBoxModel",
      "state": {
       "children": [
        "IPY_MODEL_2d51388884314fe9bae9e3170bdef08e",
        "IPY_MODEL_1beeea25782c4fc8b456c8d8a1475310",
        "IPY_MODEL_72ef25f380f94c9395185019a3fd63e9"
       ],
       "layout": "IPY_MODEL_94a067a4381f4ebdba2696560b0c7502"
      }
     },
     "c772e7c651fc446f9234cad71ca66559": {
      "model_module": "@jupyter-widgets/controls",
      "model_module_version": "2.0.0",
      "model_name": "HTMLStyleModel",
      "state": {
       "description_width": "",
       "font_size": null,
       "text_color": null
      }
     },
     "c7f245ed3c9f4c2f9f91f94308e0ce74": {
      "model_module": "@jupyter-widgets/controls",
      "model_module_version": "2.0.0",
      "model_name": "FloatProgressModel",
      "state": {
       "bar_style": "success",
       "layout": "IPY_MODEL_4ae321560820436e9da60440e266aeb4",
       "max": 12,
       "style": "IPY_MODEL_74b569a77ba24268ac4827eb04c873fb",
       "value": 12
      }
     },
     "c81ceee5a6bd4fe0b091fbd1b070fd69": {
      "model_module": "@jupyter-widgets/base",
      "model_module_version": "2.0.0",
      "model_name": "LayoutModel",
      "state": {}
     },
     "c85073ccda3542a882b85c882d3797a9": {
      "model_module": "@jupyter-widgets/controls",
      "model_module_version": "2.0.0",
      "model_name": "ProgressStyleModel",
      "state": {
       "description_width": ""
      }
     },
     "c8be5b78bfab4ba69838e756de0aa8c6": {
      "model_module": "@jupyter-widgets/base",
      "model_module_version": "2.0.0",
      "model_name": "LayoutModel",
      "state": {}
     },
     "c94d68366b7147a49b6ee20fe1736284": {
      "model_module": "@jupyter-widgets/base",
      "model_module_version": "2.0.0",
      "model_name": "LayoutModel",
      "state": {}
     },
     "c95e4aa1ed4f419791128648c1da0a1c": {
      "model_module": "@jupyter-widgets/controls",
      "model_module_version": "2.0.0",
      "model_name": "ProgressStyleModel",
      "state": {
       "description_width": ""
      }
     },
     "ca2d7a845de44937a3222eb9044c16e9": {
      "model_module": "@jupyter-widgets/controls",
      "model_module_version": "2.0.0",
      "model_name": "HBoxModel",
      "state": {
       "children": [
        "IPY_MODEL_781ba2d0c3a14765adaeb2ab778899dc",
        "IPY_MODEL_4a62c1caa7ee4b5485ddcf8d0bcd0773",
        "IPY_MODEL_1c79d325450c4cc399be9c2a89ab0d1e"
       ],
       "layout": "IPY_MODEL_68e159f0e24c469db4c79cee0c883cce"
      }
     },
     "ca899cb9f9b94d7184a2e0a270ce4b47": {
      "model_module": "@jupyter-widgets/controls",
      "model_module_version": "2.0.0",
      "model_name": "HTMLStyleModel",
      "state": {
       "description_width": "",
       "font_size": null,
       "text_color": null
      }
     },
     "cd7737a1845e4cfda4ebddd6824f255b": {
      "model_module": "@jupyter-widgets/base",
      "model_module_version": "2.0.0",
      "model_name": "LayoutModel",
      "state": {}
     },
     "d06ba4cd7dc847f598726369b532e7a8": {
      "model_module": "@jupyter-widgets/controls",
      "model_module_version": "2.0.0",
      "model_name": "HTMLStyleModel",
      "state": {
       "description_width": "",
       "font_size": null,
       "text_color": null
      }
     },
     "d0998d0daab0473a99bc733c0225f5de": {
      "model_module": "@jupyter-widgets/controls",
      "model_module_version": "2.0.0",
      "model_name": "HTMLModel",
      "state": {
       "layout": "IPY_MODEL_4433c0de9fe248f39eac540bdeaf9e2c",
       "style": "IPY_MODEL_d88daca3665f432daffe1ce522867eec",
       "value": " 12/12 [00:00&lt;00:00, 461.30it/s]"
      }
     },
     "d0a772e714294845be61d7299214d88c": {
      "model_module": "@jupyter-widgets/base",
      "model_module_version": "2.0.0",
      "model_name": "LayoutModel",
      "state": {}
     },
     "d0d14735575843ad98140ad1be7a2965": {
      "model_module": "@jupyter-widgets/controls",
      "model_module_version": "2.0.0",
      "model_name": "HTMLModel",
      "state": {
       "layout": "IPY_MODEL_aaa91c6d5550498393bb339c94e6d1bd",
       "style": "IPY_MODEL_d3fed95d9d35469caa16736307db9518",
       "value": "Train Epoch 9/10: 100%"
      }
     },
     "d0db1aa5d7854acab166ea00f0fa2c02": {
      "model_module": "@jupyter-widgets/base",
      "model_module_version": "2.0.0",
      "model_name": "LayoutModel",
      "state": {}
     },
     "d149cc7b07b94d3c93ba44571a1dc1cc": {
      "model_module": "@jupyter-widgets/controls",
      "model_module_version": "2.0.0",
      "model_name": "ProgressStyleModel",
      "state": {
       "description_width": ""
      }
     },
     "d15ad424cd144235865d1d109166e591": {
      "model_module": "@jupyter-widgets/base",
      "model_module_version": "2.0.0",
      "model_name": "LayoutModel",
      "state": {}
     },
     "d19f4b3a95344b6e98a5b8d180419167": {
      "model_module": "@jupyter-widgets/base",
      "model_module_version": "2.0.0",
      "model_name": "LayoutModel",
      "state": {}
     },
     "d261d30f982c48998a8daf4cb73d5dad": {
      "model_module": "@jupyter-widgets/controls",
      "model_module_version": "2.0.0",
      "model_name": "FloatProgressModel",
      "state": {
       "bar_style": "success",
       "layout": "IPY_MODEL_81e45d2aa0224cf4b993a185ded8aaba",
       "max": 104,
       "style": "IPY_MODEL_56fc7f51c0324d89abd09b963d1c92e5",
       "value": 104
      }
     },
     "d2956bc40a9949c1a19f91b9a2e851e0": {
      "model_module": "@jupyter-widgets/controls",
      "model_module_version": "2.0.0",
      "model_name": "HBoxModel",
      "state": {
       "children": [
        "IPY_MODEL_6720ca7bc42f40469a40094dbb542293",
        "IPY_MODEL_5bff02c23b1e4450986ad1999d8d58e5",
        "IPY_MODEL_89b69a5b01e44630b680f5dbde379231"
       ],
       "layout": "IPY_MODEL_328a2f58dfd547b79cb238cc1bb67dcc"
      }
     },
     "d34ff7fb2fd44c71918194dc785f5eb2": {
      "model_module": "@jupyter-widgets/controls",
      "model_module_version": "2.0.0",
      "model_name": "FloatProgressModel",
      "state": {
       "bar_style": "success",
       "layout": "IPY_MODEL_1db04f4732f64b5098fb31b08a03d15f",
       "max": 12,
       "style": "IPY_MODEL_6a832346d24345f88b3145731c43e141",
       "value": 12
      }
     },
     "d3fed95d9d35469caa16736307db9518": {
      "model_module": "@jupyter-widgets/controls",
      "model_module_version": "2.0.0",
      "model_name": "HTMLStyleModel",
      "state": {
       "description_width": "",
       "font_size": null,
       "text_color": null
      }
     },
     "d52bdb62c20b4a2e8185ccb14284fdea": {
      "model_module": "@jupyter-widgets/controls",
      "model_module_version": "2.0.0",
      "model_name": "ProgressStyleModel",
      "state": {
       "description_width": ""
      }
     },
     "d68bf401721a4112910a3349c35abae8": {
      "model_module": "@jupyter-widgets/controls",
      "model_module_version": "2.0.0",
      "model_name": "FloatProgressModel",
      "state": {
       "bar_style": "success",
       "layout": "IPY_MODEL_03563400bf0b4b7bad3826b58d1495d2",
       "max": 104,
       "style": "IPY_MODEL_4384af09c2d34b349046fac515ef6cc4",
       "value": 104
      }
     },
     "d88daca3665f432daffe1ce522867eec": {
      "model_module": "@jupyter-widgets/controls",
      "model_module_version": "2.0.0",
      "model_name": "HTMLStyleModel",
      "state": {
       "description_width": "",
       "font_size": null,
       "text_color": null
      }
     },
     "d8d45daba8b04545b9027530952f89cb": {
      "model_module": "@jupyter-widgets/controls",
      "model_module_version": "2.0.0",
      "model_name": "HTMLStyleModel",
      "state": {
       "description_width": "",
       "font_size": null,
       "text_color": null
      }
     },
     "d95452ae1802442699823b0a57cadbe3": {
      "model_module": "@jupyter-widgets/controls",
      "model_module_version": "2.0.0",
      "model_name": "FloatProgressModel",
      "state": {
       "bar_style": "success",
       "layout": "IPY_MODEL_b45a54f1371a4437ad0ea1e50f1d09ed",
       "max": 104,
       "style": "IPY_MODEL_70b333305e834badbab8541724a3db31",
       "value": 104
      }
     },
     "da5640b5c3204794ae325c123450a135": {
      "model_module": "@jupyter-widgets/controls",
      "model_module_version": "2.0.0",
      "model_name": "HTMLStyleModel",
      "state": {
       "description_width": "",
       "font_size": null,
       "text_color": null
      }
     },
     "daca9442c8a04dec8bd1f0b8a2ec2d6d": {
      "model_module": "@jupyter-widgets/base",
      "model_module_version": "2.0.0",
      "model_name": "LayoutModel",
      "state": {}
     },
     "dbd8420581154a87856dbe4e99b262fb": {
      "model_module": "@jupyter-widgets/base",
      "model_module_version": "2.0.0",
      "model_name": "LayoutModel",
      "state": {}
     },
     "dc0b04d174294a758c5b03a8e55a381e": {
      "model_module": "@jupyter-widgets/controls",
      "model_module_version": "2.0.0",
      "model_name": "HTMLModel",
      "state": {
       "layout": "IPY_MODEL_02093e772aa341bea691a58b65d66110",
       "style": "IPY_MODEL_0d42bc9f13b04e4f87ed01fbb2658802",
       "value": " 12/12 [00:00&lt;00:00, 560.61it/s]"
      }
     },
     "dd441a8c8a8e42709f5ca9082a54f5d1": {
      "model_module": "@jupyter-widgets/base",
      "model_module_version": "2.0.0",
      "model_name": "LayoutModel",
      "state": {}
     },
     "dd4d9ce61ba54240898ea0b95ee9b49c": {
      "model_module": "@jupyter-widgets/controls",
      "model_module_version": "2.0.0",
      "model_name": "HTMLStyleModel",
      "state": {
       "description_width": "",
       "font_size": null,
       "text_color": null
      }
     },
     "ddc6753c17ce4390895279c35d175382": {
      "model_module": "@jupyter-widgets/controls",
      "model_module_version": "2.0.0",
      "model_name": "FloatProgressModel",
      "state": {
       "bar_style": "success",
       "layout": "IPY_MODEL_f2be58201d5c4f3aa1c309b3f978797e",
       "max": 12,
       "style": "IPY_MODEL_d149cc7b07b94d3c93ba44571a1dc1cc",
       "value": 12
      }
     },
     "ddd164b331cf49f486a9c5d2bc8531da": {
      "model_module": "@jupyter-widgets/controls",
      "model_module_version": "2.0.0",
      "model_name": "HTMLStyleModel",
      "state": {
       "description_width": "",
       "font_size": null,
       "text_color": null
      }
     },
     "de220097f6c4427ea277d68578682241": {
      "model_module": "@jupyter-widgets/controls",
      "model_module_version": "2.0.0",
      "model_name": "HTMLStyleModel",
      "state": {
       "description_width": "",
       "font_size": null,
       "text_color": null
      }
     },
     "df1099bf54c642dc8dd5cdb546ae7f47": {
      "model_module": "@jupyter-widgets/base",
      "model_module_version": "2.0.0",
      "model_name": "LayoutModel",
      "state": {}
     },
     "df6e962cfd5144aea5f097e243ce0532": {
      "model_module": "@jupyter-widgets/base",
      "model_module_version": "2.0.0",
      "model_name": "LayoutModel",
      "state": {}
     },
     "e09af64fa2dd43449a348c2600886833": {
      "model_module": "@jupyter-widgets/controls",
      "model_module_version": "2.0.0",
      "model_name": "HBoxModel",
      "state": {
       "children": [
        "IPY_MODEL_8d33a840596940b584c98eea9db6863c",
        "IPY_MODEL_656c1799a97f47909ed4d161d4238f71",
        "IPY_MODEL_a897316970c34a5784235940db2e1b72"
       ],
       "layout": "IPY_MODEL_1dc27756b1cd4d6785779b638c7edaa6"
      }
     },
     "e0d40360e04744b2931a034e0c681e6d": {
      "model_module": "@jupyter-widgets/controls",
      "model_module_version": "2.0.0",
      "model_name": "HBoxModel",
      "state": {
       "children": [
        "IPY_MODEL_21ba954d48394344898f17a35a80b427",
        "IPY_MODEL_b464c9a14ef6476caed8701a36085291",
        "IPY_MODEL_0a90c83bb40546d79dc7ded68c9ab28b"
       ],
       "layout": "IPY_MODEL_3675066ef9a340a3bbd22072dd48f989"
      }
     },
     "e0d9e7b80ad140fb8edbe2a97dd80720": {
      "model_module": "@jupyter-widgets/controls",
      "model_module_version": "2.0.0",
      "model_name": "ProgressStyleModel",
      "state": {
       "description_width": ""
      }
     },
     "e35d4b0eb37940cba51454b82c8f8554": {
      "model_module": "@jupyter-widgets/base",
      "model_module_version": "2.0.0",
      "model_name": "LayoutModel",
      "state": {}
     },
     "e586e40430f849d6a1b62576f9793b6a": {
      "model_module": "@jupyter-widgets/base",
      "model_module_version": "2.0.0",
      "model_name": "LayoutModel",
      "state": {}
     },
     "e599794d870541f49b801aeacd181668": {
      "model_module": "@jupyter-widgets/controls",
      "model_module_version": "2.0.0",
      "model_name": "HTMLModel",
      "state": {
       "layout": "IPY_MODEL_62f5024ff26649eba6b507cb8a4dc1cf",
       "style": "IPY_MODEL_fbdbbbcaf1a04966a2eac1558943bdf6",
       "value": " 104/104 [00:00&lt;00:00, 433.40it/s]"
      }
     },
     "e6466058d1254570bcbf6252a71ead76": {
      "model_module": "@jupyter-widgets/controls",
      "model_module_version": "2.0.0",
      "model_name": "HTMLModel",
      "state": {
       "layout": "IPY_MODEL_434731c853c24eba961d8cb8e5d5570f",
       "style": "IPY_MODEL_90b99ab986724bd6af1515176ba07184",
       "value": " 12/12 [00:00&lt;00:00, 385.28it/s]"
      }
     },
     "e70dc848510841f68244ab391cf4d6cb": {
      "model_module": "@jupyter-widgets/base",
      "model_module_version": "2.0.0",
      "model_name": "LayoutModel",
      "state": {}
     },
     "e77142edfc6c42498631ed02bf3242b9": {
      "model_module": "@jupyter-widgets/controls",
      "model_module_version": "2.0.0",
      "model_name": "HTMLStyleModel",
      "state": {
       "description_width": "",
       "font_size": null,
       "text_color": null
      }
     },
     "e79b016a553e46eeb77f7c8d1f9ab9d9": {
      "model_module": "@jupyter-widgets/base",
      "model_module_version": "2.0.0",
      "model_name": "LayoutModel",
      "state": {}
     },
     "e7e83b9e327a4b7cb5d2f92fb757c8cc": {
      "model_module": "@jupyter-widgets/controls",
      "model_module_version": "2.0.0",
      "model_name": "HBoxModel",
      "state": {
       "children": [
        "IPY_MODEL_5cc8c34689fb4393b1f1c5b5dd1b7770",
        "IPY_MODEL_4138251e9b084a31ba5f3c968eda8dff",
        "IPY_MODEL_26410cceb7664da1ac9fe8bd22772aac"
       ],
       "layout": "IPY_MODEL_5119dddce1c94dc58fae70db9192f01f"
      }
     },
     "e85cbf718f45410abac09afd22867b4c": {
      "model_module": "@jupyter-widgets/controls",
      "model_module_version": "2.0.0",
      "model_name": "HTMLModel",
      "state": {
       "layout": "IPY_MODEL_a86817fa20e94ddd8977d6481d42c258",
       "style": "IPY_MODEL_491706bc443b4819a4c7e5b2423fb7dd",
       "value": " 12/12 [00:00&lt;00:00, 636.07it/s]"
      }
     },
     "e883d47146394a9a91921a276de217ac": {
      "model_module": "@jupyter-widgets/base",
      "model_module_version": "2.0.0",
      "model_name": "LayoutModel",
      "state": {}
     },
     "e8f9b8746a814124a33a41c80874e0ae": {
      "model_module": "@jupyter-widgets/controls",
      "model_module_version": "2.0.0",
      "model_name": "HTMLModel",
      "state": {
       "layout": "IPY_MODEL_57719ceaf7944c30abd3cc86743ed0bc",
       "style": "IPY_MODEL_a914697ec76c4f2cbb537856be7e0cd8",
       "value": "Epochs: 100%"
      }
     },
     "e96fb1139c8a4ffea119617a5e2a5cb1": {
      "model_module": "@jupyter-widgets/controls",
      "model_module_version": "2.0.0",
      "model_name": "HBoxModel",
      "state": {
       "children": [
        "IPY_MODEL_17ba812543bd4186a5a97ea698405a6d",
        "IPY_MODEL_396671d867cb410b91759ac83b849960",
        "IPY_MODEL_9069d9e9e0a04d4ca072e1a459b8a0c1"
       ],
       "layout": "IPY_MODEL_fa26d2061288406ca7aeac34e9a74c87"
      }
     },
     "e9b4d89877864922b264ef527d79cf90": {
      "model_module": "@jupyter-widgets/controls",
      "model_module_version": "2.0.0",
      "model_name": "ProgressStyleModel",
      "state": {
       "description_width": ""
      }
     },
     "ea910aadfe6d4fdd8f4af4e418fc8a59": {
      "model_module": "@jupyter-widgets/controls",
      "model_module_version": "2.0.0",
      "model_name": "HBoxModel",
      "state": {
       "children": [
        "IPY_MODEL_b9a4ddbbeeaf48ee94b4f9a35b5b0a09",
        "IPY_MODEL_ddc6753c17ce4390895279c35d175382",
        "IPY_MODEL_bd4d0e227bf54aee93623f352ee9036e"
       ],
       "layout": "IPY_MODEL_9892c519ff6044118a806af922243a66"
      }
     },
     "eb6ab7e40bbb4c32ab58908927bc4d75": {
      "model_module": "@jupyter-widgets/base",
      "model_module_version": "2.0.0",
      "model_name": "LayoutModel",
      "state": {}
     },
     "edcbd42b66ef4541a624f445228cbef2": {
      "model_module": "@jupyter-widgets/base",
      "model_module_version": "2.0.0",
      "model_name": "LayoutModel",
      "state": {}
     },
     "ee1f025b7ffe48b1865d961137a1e5d2": {
      "model_module": "@jupyter-widgets/controls",
      "model_module_version": "2.0.0",
      "model_name": "HTMLModel",
      "state": {
       "layout": "IPY_MODEL_1025a0fc1dcf438e993902e1baffe807",
       "style": "IPY_MODEL_049cd2e8ac0a42c29cfc76206114fcf8",
       "value": " 12/12 [00:00&lt;00:00, 340.90it/s]"
      }
     },
     "efd6c61cc5654bf6b7d3f8c2278ddd02": {
      "model_module": "@jupyter-widgets/controls",
      "model_module_version": "2.0.0",
      "model_name": "HTMLModel",
      "state": {
       "layout": "IPY_MODEL_bf91fe950c434a45b95af7c847d2657a",
       "style": "IPY_MODEL_095ee5ea3a424241a5122b7676d5b097",
       "value": "Test Epoch 8/10: 100%"
      }
     },
     "f23de550eb1e4eb1a3aae1f81bb19482": {
      "model_module": "@jupyter-widgets/controls",
      "model_module_version": "2.0.0",
      "model_name": "HTMLModel",
      "state": {
       "layout": "IPY_MODEL_b4ecdcd4339e4c1688bdb41adbd7730a",
       "style": "IPY_MODEL_afcefc18bfd949c486eda9f8e5826a64",
       "value": " 104/104 [00:00&lt;00:00, 567.79it/s]"
      }
     },
     "f29c9a5d5c9945b3af5a9272ca5e938f": {
      "model_module": "@jupyter-widgets/base",
      "model_module_version": "2.0.0",
      "model_name": "LayoutModel",
      "state": {}
     },
     "f2be58201d5c4f3aa1c309b3f978797e": {
      "model_module": "@jupyter-widgets/base",
      "model_module_version": "2.0.0",
      "model_name": "LayoutModel",
      "state": {}
     },
     "f50735011e2c48b583dc198ad96a236a": {
      "model_module": "@jupyter-widgets/base",
      "model_module_version": "2.0.0",
      "model_name": "LayoutModel",
      "state": {}
     },
     "f6f4ff0d7fb241b3aa30d1999dff0f13": {
      "model_module": "@jupyter-widgets/base",
      "model_module_version": "2.0.0",
      "model_name": "LayoutModel",
      "state": {}
     },
     "f714aa9ddaf04a39b7baa125ec770320": {
      "model_module": "@jupyter-widgets/controls",
      "model_module_version": "2.0.0",
      "model_name": "HTMLModel",
      "state": {
       "layout": "IPY_MODEL_9ee3af07a406467e8e03addacca18a77",
       "style": "IPY_MODEL_3f5c0b2233814fd882fb821d9772b66a",
       "value": " 12/12 [00:00&lt;00:00, 444.57it/s]"
      }
     },
     "f78e8e7aa1a04ba991fdf1195293d46a": {
      "model_module": "@jupyter-widgets/base",
      "model_module_version": "2.0.0",
      "model_name": "LayoutModel",
      "state": {}
     },
     "f7fb13e22e8b45d0bc84761df2da9a53": {
      "model_module": "@jupyter-widgets/controls",
      "model_module_version": "2.0.0",
      "model_name": "HBoxModel",
      "state": {
       "children": [
        "IPY_MODEL_459522b3bd3a4213be4b395af0d2689c",
        "IPY_MODEL_26a3db9ee839494388ffaa2b0748f830",
        "IPY_MODEL_9f7814ce2e9d4a18b40cc86abb32738c"
       ],
       "layout": "IPY_MODEL_751be394bbb440ee8334e241325c7142"
      }
     },
     "f93f2b50c2c043e28907d430ff7dc0e3": {
      "model_module": "@jupyter-widgets/controls",
      "model_module_version": "2.0.0",
      "model_name": "HTMLStyleModel",
      "state": {
       "description_width": "",
       "font_size": null,
       "text_color": null
      }
     },
     "f9cb59cc1ed94743b90e33bcbfc6c877": {
      "model_module": "@jupyter-widgets/controls",
      "model_module_version": "2.0.0",
      "model_name": "FloatProgressModel",
      "state": {
       "bar_style": "success",
       "layout": "IPY_MODEL_b16e4edcd5f249a8b28655ff2bd53cad",
       "max": 12,
       "style": "IPY_MODEL_a0a1a29ee74b44de9166e3fcf3e04b21",
       "value": 12
      }
     },
     "fa26d2061288406ca7aeac34e9a74c87": {
      "model_module": "@jupyter-widgets/base",
      "model_module_version": "2.0.0",
      "model_name": "LayoutModel",
      "state": {}
     },
     "fb2aee3ea27b4465898e914171f51043": {
      "model_module": "@jupyter-widgets/controls",
      "model_module_version": "2.0.0",
      "model_name": "HTMLModel",
      "state": {
       "layout": "IPY_MODEL_eb6ab7e40bbb4c32ab58908927bc4d75",
       "style": "IPY_MODEL_a74a86f9d24b4667901c2a7eb11c90fe",
       "value": "Test Epoch 4/10: 100%"
      }
     },
     "fbdbbbcaf1a04966a2eac1558943bdf6": {
      "model_module": "@jupyter-widgets/controls",
      "model_module_version": "2.0.0",
      "model_name": "HTMLStyleModel",
      "state": {
       "description_width": "",
       "font_size": null,
       "text_color": null
      }
     },
     "fbeba3c6db374e9e8a98ed71d5ab0c93": {
      "model_module": "@jupyter-widgets/base",
      "model_module_version": "2.0.0",
      "model_name": "LayoutModel",
      "state": {}
     },
     "fc014996c88646f1a800307f9754a55b": {
      "model_module": "@jupyter-widgets/base",
      "model_module_version": "2.0.0",
      "model_name": "LayoutModel",
      "state": {}
     },
     "fc88de9984944c06b7e5bf008cf38593": {
      "model_module": "@jupyter-widgets/base",
      "model_module_version": "2.0.0",
      "model_name": "LayoutModel",
      "state": {}
     },
     "fdcdf94032704c2a9c905c59395bcaad": {
      "model_module": "@jupyter-widgets/controls",
      "model_module_version": "2.0.0",
      "model_name": "HBoxModel",
      "state": {
       "children": [
        "IPY_MODEL_4b278251a9dd4ff9854b992f24c4f536",
        "IPY_MODEL_baf654171c2e41d7850842596f9fa726",
        "IPY_MODEL_075ea5458bfb41bbbcfa506b5b7af2e9"
       ],
       "layout": "IPY_MODEL_d15ad424cd144235865d1d109166e591"
      }
     },
     "fdff0ad19afc4e37ae75fe8e2294c40e": {
      "model_module": "@jupyter-widgets/controls",
      "model_module_version": "2.0.0",
      "model_name": "ProgressStyleModel",
      "state": {
       "description_width": ""
      }
     },
     "fe2cc49b77b24ab08a97fb486ac857ce": {
      "model_module": "@jupyter-widgets/controls",
      "model_module_version": "2.0.0",
      "model_name": "HBoxModel",
      "state": {
       "children": [
        "IPY_MODEL_febfc102622b413a9d39e80ff181c8e8",
        "IPY_MODEL_d261d30f982c48998a8daf4cb73d5dad",
        "IPY_MODEL_2d27ce6d4b2447c8820d18d145d580cb"
       ],
       "layout": "IPY_MODEL_517c31bab46541168324aca57ac7a625"
      }
     },
     "fe5b0e7538884cd2818fcafe906f11f7": {
      "model_module": "@jupyter-widgets/controls",
      "model_module_version": "2.0.0",
      "model_name": "HBoxModel",
      "state": {
       "children": [
        "IPY_MODEL_57d1676cb9cc4d8d9a52b65856e5de65",
        "IPY_MODEL_00f0ca0af4424b47b280a8b0585fe8f9",
        "IPY_MODEL_0b734a1a481e4ce9bc0b84f6254c688f"
       ],
       "layout": "IPY_MODEL_a19f7be8988448b58781292476b06c78"
      }
     },
     "fe7f2066e7654ec0b8ef3ff70649af8e": {
      "model_module": "@jupyter-widgets/controls",
      "model_module_version": "2.0.0",
      "model_name": "HTMLModel",
      "state": {
       "layout": "IPY_MODEL_5fff51acfee94b2584de0d68778315f0",
       "style": "IPY_MODEL_e77142edfc6c42498631ed02bf3242b9",
       "value": "Test Epoch 5/7: 100%"
      }
     },
     "febfc102622b413a9d39e80ff181c8e8": {
      "model_module": "@jupyter-widgets/controls",
      "model_module_version": "2.0.0",
      "model_name": "HTMLModel",
      "state": {
       "layout": "IPY_MODEL_92302abcde39446cad1dd606021cd7f8",
       "style": "IPY_MODEL_3842368ac2fa487e860f70a6ac402b1d",
       "value": "Train Epoch 6/7: 100%"
      }
     },
     "fefe4de179e048ddac2534984126185b": {
      "model_module": "@jupyter-widgets/controls",
      "model_module_version": "2.0.0",
      "model_name": "HTMLStyleModel",
      "state": {
       "description_width": "",
       "font_size": null,
       "text_color": null
      }
     }
    },
    "version_major": 2,
    "version_minor": 0
   }
  }
 },
 "nbformat": 4,
 "nbformat_minor": 5
}
