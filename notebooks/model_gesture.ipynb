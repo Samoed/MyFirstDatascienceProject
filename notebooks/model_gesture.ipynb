{
 "cells": [
  {
   "cell_type": "code",
   "execution_count": 1,
   "id": "097e1ea7-6844-408b-932b-0611dc4183f7",
   "metadata": {},
   "outputs": [
    {
     "name": "stderr",
     "output_type": "stream",
     "text": [
      "2023-04-08 00:48:08.749071: I tensorflow/core/util/port.cc:110] oneDNN custom operations are on. You may see slightly different numerical results due to floating-point round-off errors from different computation orders. To turn them off, set the environment variable `TF_ENABLE_ONEDNN_OPTS=0`.\n",
      "2023-04-08 00:48:08.752039: I tensorflow/tsl/cuda/cudart_stub.cc:28] Could not find cuda drivers on your machine, GPU will not be used.\n",
      "2023-04-08 00:48:08.821874: I tensorflow/tsl/cuda/cudart_stub.cc:28] Could not find cuda drivers on your machine, GPU will not be used.\n",
      "2023-04-08 00:48:08.823030: I tensorflow/core/platform/cpu_feature_guard.cc:182] This TensorFlow binary is optimized to use available CPU instructions in performance-critical operations.\n",
      "To enable the following instructions: AVX2 AVX512F AVX512_VNNI FMA, in other operations, rebuild TensorFlow with the appropriate compiler flags.\n",
      "2023-04-08 00:48:10.123227: W tensorflow/compiler/tf2tensorrt/utils/py_utils.cc:38] TF-TRT Warning: Could not find TensorRT\n"
     ]
    }
   ],
   "source": [
    "import os\n",
    "from typing import NamedTuple\n",
    "\n",
    "import albumentations\n",
    "import cv2\n",
    "import mediapipe as mp\n",
    "import numpy as np\n",
    "import torch\n",
    "import torch.nn.functional as F\n",
    "from matplotlib import pyplot as plt\n",
    "from sklearn.metrics import f1_score\n",
    "from sklearn.model_selection import train_test_split\n",
    "from torch import nn, optim\n",
    "from torch.utils.data import DataLoader, Dataset\n",
    "from tqdm.autonotebook import tqdm"
   ]
  },
  {
   "cell_type": "code",
   "execution_count": 2,
   "id": "2755b34b-f2f7-4b38-8e69-a15b9b714a2b",
   "metadata": {},
   "outputs": [],
   "source": [
    "mp_hands = mp.solutions.hands\n",
    "hands = mp_hands.Hands(\n",
    "    static_image_mode=True,\n",
    "    max_num_hands=1,\n",
    "    min_detection_confidence=0.3,\n",
    "    min_tracking_confidence=0.5,\n",
    ")\n",
    "mp_drawing = mp.solutions.drawing_utils\n",
    "\n",
    "mp_drawing_styles = mp.solutions.drawing_styles\n",
    "landmark_style = mp_drawing_styles.get_default_hand_landmarks_style()\n",
    "\n",
    "connection_style = mp_drawing_styles.get_default_hand_connections_style()"
   ]
  },
  {
   "cell_type": "code",
   "execution_count": 3,
   "id": "bdb7c58c-00d7-4ffa-9206-31d16e45473c",
   "metadata": {},
   "outputs": [
    {
     "name": "stderr",
     "output_type": "stream",
     "text": [
      "INFO: Created TensorFlow Lite XNNPACK delegate for CPU.\n"
     ]
    }
   ],
   "source": [
    "def dataset_files(dataset_dir: str = \"../dataset/\", class_size: int = 70) -> list[tuple[int, str]]:\n",
    "    files_dataset = []\n",
    "    for dir_label in sorted(os.listdir(dataset_dir)):\n",
    "        dir_label_path = dataset_dir + dir_label\n",
    "        if os.path.isfile(dir_label_path):\n",
    "            continue\n",
    "        dir_label_path += \"/\"\n",
    "        index = int(dir_label.split(\"_\")[0])\n",
    "        files = os.listdir(dir_label_path)\n",
    "        files_dataset.extend(\n",
    "            [(index, dir_label_path + img_path) for img_path in np.random.choice(files, size=class_size, replace=False)]\n",
    "        )\n",
    "    return files_dataset"
   ]
  },
  {
   "cell_type": "code",
   "execution_count": 4,
   "id": "2d10ea42-ea31-439f-ad23-d46c901387d2",
   "metadata": {},
   "outputs": [],
   "source": [
    "def test_images():\n",
    "    for key, value in files_dataest.items():\n",
    "        image = cv2.imread(value[0])\n",
    "        image = cv2.cvtColor(image, cv2.COLOR_BGR2RGB)\n",
    "        results = hands.process(image)\n",
    "        if results.multi_hand_landmarks:\n",
    "            for hand_landmarks in results.multi_hand_landmarks:\n",
    "\n",
    "                mp_drawing.draw_landmarks(\n",
    "                    image,\n",
    "                    hand_landmarks,\n",
    "                    mp_hands.HAND_CONNECTIONS,\n",
    "                    landmark_style,\n",
    "                    connection_style,\n",
    "                )\n",
    "        plt.imshow(image)\n",
    "        plt.title(key)\n",
    "        plt.show()"
   ]
  },
  {
   "cell_type": "code",
   "execution_count": 5,
   "id": "dda39477-189f-4589-bc6f-82098f632f89",
   "metadata": {},
   "outputs": [],
   "source": [
    "# transform = albumentations.Compose(\n",
    "#     [\n",
    "#         albumentations.Downscale(p=0.2),\n",
    "#         albumentations.RandomBrightness(p=0.2),\n",
    "#         albumentations.RandomBrightnessContrast(p=0.2),\n",
    "#         albumentations.pytorch.ToTensorV2(),\n",
    "#     ]\n",
    "# )\n",
    "# transformed = transform(image=image)"
   ]
  },
  {
   "cell_type": "code",
   "execution_count": 6,
   "id": "314c9608-6486-453a-a088-cfbdf4fcde14",
   "metadata": {},
   "outputs": [],
   "source": [
    "class HandLandmarksDataset(Dataset):\n",
    "    def __init__(self, imgs: list[tuple[int, str]]):\n",
    "        self.imgs = imgs\n",
    "        self.mp_hands = mp.solutions.hands.Hands()\n",
    "\n",
    "    def __len__(self):\n",
    "        return len(self.imgs)\n",
    "\n",
    "    def process_image(self, idx: int) -> tuple[NamedTuple, int]:\n",
    "        label, filename = self.imgs[idx]\n",
    "        image = cv2.imread(filename)\n",
    "        image = cv2.cvtColor(image, cv2.COLOR_BGR2RGB)\n",
    "\n",
    "        results = hands.process(image)\n",
    "        return results, label\n",
    "\n",
    "    def __getitem__(self, idx):\n",
    "        results, label = self.process_image(idx)\n",
    "\n",
    "        while results.multi_hand_landmarks is None:\n",
    "            idx = np.random.randint(len(self.imgs))\n",
    "            results, label = self.process_image(idx)\n",
    "\n",
    "        landmarks = results.multi_hand_landmarks[0].landmark\n",
    "\n",
    "        # Get the position of the wrist landmark (Landmark.WRIST)\n",
    "        wrist_position_x, wrist_position_y = (\n",
    "            landmarks[mp.solutions.hands.HandLandmark.WRIST].x,\n",
    "            landmarks[mp.solutions.hands.HandLandmark.WRIST].y,\n",
    "        )\n",
    "\n",
    "        # Normalize the landmarks relative to the wrist position\n",
    "        normalized_landmarks = []\n",
    "        for landmark in landmarks:\n",
    "            normalized_landmarks.append((landmark.x - wrist_position_x, landmark.y - wrist_position_y))  # landmark.z\n",
    "\n",
    "        # Convert the landmarks to a PyTorch tensor\n",
    "        normalized_landmarks = torch.flatten(torch.tensor(normalized_landmarks))\n",
    "\n",
    "        normalized_landmarks /= max(abs(normalized_landmarks))\n",
    "\n",
    "        # Return a tuple of the image and hand landmarks\n",
    "        return normalized_landmarks, label"
   ]
  },
  {
   "cell_type": "code",
   "execution_count": 7,
   "id": "0415ddc2-0869-4f4d-b108-fe2674fb2b37",
   "metadata": {},
   "outputs": [],
   "source": [
    "class GestureClassifier(nn.Module):\n",
    "    def __init__(self, num_classes=14):\n",
    "        super(GestureClassifier, self).__init__()\n",
    "\n",
    "        # Fully connected layers\n",
    "        self.fc1 = nn.Linear(42, 128)  # 21 * 2\n",
    "        self.fc2 = nn.Linear(128, 64)\n",
    "        self.fc3 = nn.Linear(64, num_classes)  # 14 classes for the gestures\n",
    "\n",
    "    def forward(self, x):\n",
    "        # x = x.view(-1, 21 * 2)\n",
    "        x = F.relu(self.fc1(x))\n",
    "        x = F.relu(self.fc2(x))\n",
    "        x = self.fc3(x)\n",
    "        return x"
   ]
  },
  {
   "cell_type": "code",
   "execution_count": 8,
   "id": "bbd97e71-a278-4c8b-9bfe-1df8d3596313",
   "metadata": {},
   "outputs": [],
   "source": [
    "train_data, test_data = train_test_split(dataset_files(), test_size=0.1, random_state=42)"
   ]
  },
  {
   "cell_type": "code",
   "execution_count": 9,
   "id": "82cc7059-d9c2-4e16-8ffa-a5b9dc8e184a",
   "metadata": {},
   "outputs": [],
   "source": [
    "# Create the dataset and dataloader\n",
    "train_dataset = HandLandmarksDataset(train_data)\n",
    "train_loader = DataLoader(train_dataset, batch_size=4, shuffle=True)\n",
    "\n",
    "test_dataset = HandLandmarksDataset(test_data)\n",
    "test_loader = DataLoader(test_dataset, batch_size=4, shuffle=True)\n",
    "\n",
    "# Load the model and define the loss and optimizer\n",
    "model = GestureClassifier()\n",
    "# device = torch.device(\"cuda\" if torch.cuda.is_available() else \"cpu\")\n",
    "device = torch.device(\"cpu\")\n",
    "criterion = nn.CrossEntropyLoss()\n",
    "optimizer = optim.Adam(model.parameters(), lr=0.001)"
   ]
  },
  {
   "cell_type": "code",
   "execution_count": 10,
   "id": "6fdb25fb-97b6-4a1c-935d-8d0c1339d0b4",
   "metadata": {},
   "outputs": [],
   "source": [
    "def train(\n",
    "    model, train_loader, test_loader, criterion, optimizer, num_epochs=10, batch_size=32, device=torch.device(\"cpu\")\n",
    "):\n",
    "    # Train the model\n",
    "    train_predicted = []\n",
    "    train_labels = []\n",
    "    for epoch in tqdm(range(num_epochs), desc=\"Epochs\"):\n",
    "        # Set the model to training mode\n",
    "        model.train()\n",
    "\n",
    "        # Initialize running loss and accuracy\n",
    "        running_loss = 0.0\n",
    "        running_accuracy = 0.0\n",
    "\n",
    "        # Train on the batches in the training set\n",
    "        pbar = tqdm(train_loader, desc=f\"Train Epoch {epoch+1}/{num_epochs}\")\n",
    "        for i, (inputs, labels) in enumerate(pbar):\n",
    "            # Send the inputs and labels to the device\n",
    "            inputs = inputs.to(device)\n",
    "            labels = labels.to(device)\n",
    "\n",
    "            # Zero the gradients\n",
    "            optimizer.zero_grad()\n",
    "\n",
    "            # Forward pass and backward pass\n",
    "            outputs = model(inputs)\n",
    "            loss = criterion(outputs, labels)\n",
    "            loss.backward()\n",
    "            optimizer.step()\n",
    "\n",
    "            # Update the running loss and accuracy\n",
    "            running_loss += loss.item() * inputs.size(0)\n",
    "            _, predicted = torch.max(outputs.data, 1)\n",
    "            running_accuracy += torch.sum(predicted == labels).item()\n",
    "\n",
    "            train_predicted.extend(predicted.tolist())\n",
    "            train_labels.extend(labels.tolist())\n",
    "\n",
    "        # Compute the average loss and accuracy for the epoch\n",
    "        epoch_loss = running_loss / len(train_dataset)\n",
    "        epoch_accuracy = running_accuracy / len(train_dataset)\n",
    "        epoch_f1 = f1_score(train_labels, train_predicted, average=\"macro\")\n",
    "\n",
    "        # Print the training loss and accuracy for the epoch\n",
    "        print(f\"Train Epoch {epoch+1}: Loss={epoch_loss:.4f}, Accuracy={epoch_accuracy:.4f}, F1={epoch_f1:.4f}\")\n",
    "\n",
    "        # Set the model to evaluation mode\n",
    "        model.eval()\n",
    "\n",
    "        # Initialize test loss and accuracy\n",
    "        test_loss = 0.0\n",
    "        test_accuracy = 0.0\n",
    "\n",
    "        # Evaluate on the batches in the test set\n",
    "        with torch.no_grad():\n",
    "            pbar = tqdm(test_loader, desc=f\"Test Epoch {epoch+1}/{num_epochs}\")\n",
    "\n",
    "            test_predicted = []\n",
    "            test_labels = []\n",
    "            for i, (inputs, labels) in enumerate(pbar):\n",
    "                # Send the inputs and labels to the device\n",
    "                inputs = inputs.to(device)\n",
    "                labels = labels.to(device)\n",
    "\n",
    "                # Forward pass\n",
    "                outputs = model(inputs)\n",
    "\n",
    "                # Compute the loss and accuracy\n",
    "                loss = criterion(outputs, labels)\n",
    "                test_loss += loss.item() * inputs.size(0)\n",
    "                _, predicted = torch.max(outputs.data, 1)\n",
    "                test_accuracy += torch.sum(predicted == labels).item()\n",
    "\n",
    "                test_predicted.extend(predicted.tolist())\n",
    "                test_labels.extend(labels.tolist())\n",
    "\n",
    "        # Compute the average test loss and accuracy for the epoch\n",
    "        test_loss /= len(test_dataset)\n",
    "        test_accuracy /= len(test_dataset)\n",
    "        test_f1 = f1_score(test_labels, test_predicted, average=\"macro\")\n",
    "\n",
    "        # Print the test loss and accuracy for the epoch\n",
    "        print(f\"Test Epoch {epoch+1}: Loss={test_loss:.4f}, Accuracy={test_accuracy:.4f}, F1={test_f1:.4f}\")"
   ]
  },
  {
   "cell_type": "code",
   "execution_count": 11,
   "id": "0ba22dca-bdc4-4e5e-a75d-65fc79b82d2c",
   "metadata": {},
   "outputs": [
    {
     "data": {
      "application/json": {
       "ascii": false,
       "bar_format": null,
       "colour": null,
       "elapsed": 0.05084633827209473,
       "initial": 0,
       "n": 0,
       "ncols": null,
       "nrows": 45,
       "postfix": null,
       "prefix": "Epochs",
       "rate": null,
       "total": 7,
       "unit": "it",
       "unit_divisor": 1000,
       "unit_scale": false
      },
      "application/vnd.jupyter.widget-view+json": {
       "model_id": "6247098cb6114c158caad4a118083886",
       "version_major": 2,
       "version_minor": 0
      },
      "text/plain": [
       "Epochs:   0%|          | 0/7 [00:00<?, ?it/s]"
      ]
     },
     "metadata": {},
     "output_type": "display_data"
    },
    {
     "data": {
      "application/json": {
       "ascii": false,
       "bar_format": null,
       "colour": null,
       "elapsed": 0.05313515663146973,
       "initial": 0,
       "n": 0,
       "ncols": null,
       "nrows": 45,
       "postfix": null,
       "prefix": "Train Epoch 1/7",
       "rate": null,
       "total": 221,
       "unit": "it",
       "unit_divisor": 1000,
       "unit_scale": false
      },
      "application/vnd.jupyter.widget-view+json": {
       "model_id": "706254ff84d2417c82685a122c273c0e",
       "version_major": 2,
       "version_minor": 0
      },
      "text/plain": [
       "Train Epoch 1/7:   0%|          | 0/221 [00:00<?, ?it/s]"
      ]
     },
     "metadata": {},
     "output_type": "display_data"
    },
    {
     "name": "stdout",
     "output_type": "stream",
     "text": [
      "Train Epoch 1: Loss=2.1144, Accuracy=0.3696, F1=0.3580\n"
     ]
    },
    {
     "data": {
      "application/json": {
       "ascii": false,
       "bar_format": null,
       "colour": null,
       "elapsed": 0.020472288131713867,
       "initial": 0,
       "n": 0,
       "ncols": null,
       "nrows": 45,
       "postfix": null,
       "prefix": "Test Epoch 1/7",
       "rate": null,
       "total": 25,
       "unit": "it",
       "unit_divisor": 1000,
       "unit_scale": false
      },
      "application/vnd.jupyter.widget-view+json": {
       "model_id": "7c1953fbc758425b9131ef0ca307ec33",
       "version_major": 2,
       "version_minor": 0
      },
      "text/plain": [
       "Test Epoch 1/7:   0%|          | 0/25 [00:00<?, ?it/s]"
      ]
     },
     "metadata": {},
     "output_type": "display_data"
    },
    {
     "name": "stdout",
     "output_type": "stream",
     "text": [
      "Test Epoch 1: Loss=1.5468, Accuracy=0.4388, F1=0.3696\n"
     ]
    },
    {
     "data": {
      "application/json": {
       "ascii": false,
       "bar_format": null,
       "colour": null,
       "elapsed": 0.02502608299255371,
       "initial": 0,
       "n": 0,
       "ncols": null,
       "nrows": 45,
       "postfix": null,
       "prefix": "Train Epoch 2/7",
       "rate": null,
       "total": 221,
       "unit": "it",
       "unit_divisor": 1000,
       "unit_scale": false
      },
      "application/vnd.jupyter.widget-view+json": {
       "model_id": "0ebde546784c49ae82381582dc4c236d",
       "version_major": 2,
       "version_minor": 0
      },
      "text/plain": [
       "Train Epoch 2/7:   0%|          | 0/221 [00:00<?, ?it/s]"
      ]
     },
     "metadata": {},
     "output_type": "display_data"
    },
    {
     "name": "stdout",
     "output_type": "stream",
     "text": [
      "Train Epoch 2: Loss=1.0534, Accuracy=0.6905, F1=0.5317\n"
     ]
    },
    {
     "data": {
      "application/json": {
       "ascii": false,
       "bar_format": null,
       "colour": null,
       "elapsed": 0.01969289779663086,
       "initial": 0,
       "n": 0,
       "ncols": null,
       "nrows": 45,
       "postfix": null,
       "prefix": "Test Epoch 2/7",
       "rate": null,
       "total": 25,
       "unit": "it",
       "unit_divisor": 1000,
       "unit_scale": false
      },
      "application/vnd.jupyter.widget-view+json": {
       "model_id": "e7993efa52264371bc091fb32685cadd",
       "version_major": 2,
       "version_minor": 0
      },
      "text/plain": [
       "Test Epoch 2/7:   0%|          | 0/25 [00:00<?, ?it/s]"
      ]
     },
     "metadata": {},
     "output_type": "display_data"
    },
    {
     "name": "stdout",
     "output_type": "stream",
     "text": [
      "Test Epoch 2: Loss=0.7661, Accuracy=0.7959, F1=0.7833\n"
     ]
    },
    {
     "data": {
      "application/json": {
       "ascii": false,
       "bar_format": null,
       "colour": null,
       "elapsed": 0.01804971694946289,
       "initial": 0,
       "n": 0,
       "ncols": null,
       "nrows": 45,
       "postfix": null,
       "prefix": "Train Epoch 3/7",
       "rate": null,
       "total": 221,
       "unit": "it",
       "unit_divisor": 1000,
       "unit_scale": false
      },
      "application/vnd.jupyter.widget-view+json": {
       "model_id": "21c8337855404e229428adf7f0b9932e",
       "version_major": 2,
       "version_minor": 0
      },
      "text/plain": [
       "Train Epoch 3/7:   0%|          | 0/221 [00:00<?, ?it/s]"
      ]
     },
     "metadata": {},
     "output_type": "display_data"
    },
    {
     "name": "stdout",
     "output_type": "stream",
     "text": [
      "Train Epoch 3: Loss=0.6405, Accuracy=0.8503, F1=0.6394\n"
     ]
    },
    {
     "data": {
      "application/json": {
       "ascii": false,
       "bar_format": null,
       "colour": null,
       "elapsed": 0.019891023635864258,
       "initial": 0,
       "n": 0,
       "ncols": null,
       "nrows": 45,
       "postfix": null,
       "prefix": "Test Epoch 3/7",
       "rate": null,
       "total": 25,
       "unit": "it",
       "unit_divisor": 1000,
       "unit_scale": false
      },
      "application/vnd.jupyter.widget-view+json": {
       "model_id": "8e6452f7195947e8ad640efd2d0c021a",
       "version_major": 2,
       "version_minor": 0
      },
      "text/plain": [
       "Test Epoch 3/7:   0%|          | 0/25 [00:00<?, ?it/s]"
      ]
     },
     "metadata": {},
     "output_type": "display_data"
    },
    {
     "name": "stdout",
     "output_type": "stream",
     "text": [
      "Test Epoch 3: Loss=0.5734, Accuracy=0.8367, F1=0.8259\n"
     ]
    },
    {
     "data": {
      "application/json": {
       "ascii": false,
       "bar_format": null,
       "colour": null,
       "elapsed": 0.022477388381958008,
       "initial": 0,
       "n": 0,
       "ncols": null,
       "nrows": 45,
       "postfix": null,
       "prefix": "Train Epoch 4/7",
       "rate": null,
       "total": 221,
       "unit": "it",
       "unit_divisor": 1000,
       "unit_scale": false
      },
      "application/vnd.jupyter.widget-view+json": {
       "model_id": "6bccd2fdba94404e978f691c4fe54447",
       "version_major": 2,
       "version_minor": 0
      },
      "text/plain": [
       "Train Epoch 4/7:   0%|          | 0/221 [00:00<?, ?it/s]"
      ]
     },
     "metadata": {},
     "output_type": "display_data"
    },
    {
     "name": "stdout",
     "output_type": "stream",
     "text": [
      "Train Epoch 4: Loss=0.4443, Accuracy=0.8878, F1=0.7013\n"
     ]
    },
    {
     "data": {
      "application/json": {
       "ascii": false,
       "bar_format": null,
       "colour": null,
       "elapsed": 0.020524978637695312,
       "initial": 0,
       "n": 0,
       "ncols": null,
       "nrows": 45,
       "postfix": null,
       "prefix": "Test Epoch 4/7",
       "rate": null,
       "total": 25,
       "unit": "it",
       "unit_divisor": 1000,
       "unit_scale": false
      },
      "application/vnd.jupyter.widget-view+json": {
       "model_id": "be2e7fe1506c4484a350c959ea783dc8",
       "version_major": 2,
       "version_minor": 0
      },
      "text/plain": [
       "Test Epoch 4/7:   0%|          | 0/25 [00:00<?, ?it/s]"
      ]
     },
     "metadata": {},
     "output_type": "display_data"
    },
    {
     "name": "stdout",
     "output_type": "stream",
     "text": [
      "Test Epoch 4: Loss=0.3505, Accuracy=0.9286, F1=0.9189\n"
     ]
    },
    {
     "data": {
      "application/json": {
       "ascii": false,
       "bar_format": null,
       "colour": null,
       "elapsed": 0.024057626724243164,
       "initial": 0,
       "n": 0,
       "ncols": null,
       "nrows": 45,
       "postfix": null,
       "prefix": "Train Epoch 5/7",
       "rate": null,
       "total": 221,
       "unit": "it",
       "unit_divisor": 1000,
       "unit_scale": false
      },
      "application/vnd.jupyter.widget-view+json": {
       "model_id": "eaf96c50feb84312b1e4c35165d8870d",
       "version_major": 2,
       "version_minor": 0
      },
      "text/plain": [
       "Train Epoch 5/7:   0%|          | 0/221 [00:00<?, ?it/s]"
      ]
     },
     "metadata": {},
     "output_type": "display_data"
    },
    {
     "name": "stdout",
     "output_type": "stream",
     "text": [
      "Train Epoch 5: Loss=0.3356, Accuracy=0.9127, F1=0.7437\n"
     ]
    },
    {
     "data": {
      "application/json": {
       "ascii": false,
       "bar_format": null,
       "colour": null,
       "elapsed": 0.019685029983520508,
       "initial": 0,
       "n": 0,
       "ncols": null,
       "nrows": 45,
       "postfix": null,
       "prefix": "Test Epoch 5/7",
       "rate": null,
       "total": 25,
       "unit": "it",
       "unit_divisor": 1000,
       "unit_scale": false
      },
      "application/vnd.jupyter.widget-view+json": {
       "model_id": "9f3dcd6c2e9d4aa5b30346da6bcaaeca",
       "version_major": 2,
       "version_minor": 0
      },
      "text/plain": [
       "Test Epoch 5/7:   0%|          | 0/25 [00:00<?, ?it/s]"
      ]
     },
     "metadata": {},
     "output_type": "display_data"
    },
    {
     "name": "stdout",
     "output_type": "stream",
     "text": [
      "Test Epoch 5: Loss=0.3048, Accuracy=0.9490, F1=0.9530\n"
     ]
    },
    {
     "data": {
      "application/json": {
       "ascii": false,
       "bar_format": null,
       "colour": null,
       "elapsed": 0.020084619522094727,
       "initial": 0,
       "n": 0,
       "ncols": null,
       "nrows": 45,
       "postfix": null,
       "prefix": "Train Epoch 6/7",
       "rate": null,
       "total": 221,
       "unit": "it",
       "unit_divisor": 1000,
       "unit_scale": false
      },
      "application/vnd.jupyter.widget-view+json": {
       "model_id": "a83a30da58f442c7802e26883ea90809",
       "version_major": 2,
       "version_minor": 0
      },
      "text/plain": [
       "Train Epoch 6/7:   0%|          | 0/221 [00:00<?, ?it/s]"
      ]
     },
     "metadata": {},
     "output_type": "display_data"
    },
    {
     "name": "stdout",
     "output_type": "stream",
     "text": [
      "Train Epoch 6: Loss=0.2670, Accuracy=0.9240, F1=0.7735\n"
     ]
    },
    {
     "data": {
      "application/json": {
       "ascii": false,
       "bar_format": null,
       "colour": null,
       "elapsed": 0.019150733947753906,
       "initial": 0,
       "n": 0,
       "ncols": null,
       "nrows": 45,
       "postfix": null,
       "prefix": "Test Epoch 6/7",
       "rate": null,
       "total": 25,
       "unit": "it",
       "unit_divisor": 1000,
       "unit_scale": false
      },
      "application/vnd.jupyter.widget-view+json": {
       "model_id": "298fc4e4b85e4fbf9612513dcfb6dd07",
       "version_major": 2,
       "version_minor": 0
      },
      "text/plain": [
       "Test Epoch 6/7:   0%|          | 0/25 [00:00<?, ?it/s]"
      ]
     },
     "metadata": {},
     "output_type": "display_data"
    },
    {
     "name": "stdout",
     "output_type": "stream",
     "text": [
      "Test Epoch 6: Loss=0.2568, Accuracy=0.9286, F1=0.9211\n"
     ]
    },
    {
     "data": {
      "application/json": {
       "ascii": false,
       "bar_format": null,
       "colour": null,
       "elapsed": 0.018551111221313477,
       "initial": 0,
       "n": 0,
       "ncols": null,
       "nrows": 45,
       "postfix": null,
       "prefix": "Train Epoch 7/7",
       "rate": null,
       "total": 221,
       "unit": "it",
       "unit_divisor": 1000,
       "unit_scale": false
      },
      "application/vnd.jupyter.widget-view+json": {
       "model_id": "05f56fa7db404983bd5779444308a1f6",
       "version_major": 2,
       "version_minor": 0
      },
      "text/plain": [
       "Train Epoch 7/7:   0%|          | 0/221 [00:00<?, ?it/s]"
      ]
     },
     "metadata": {},
     "output_type": "display_data"
    },
    {
     "name": "stdout",
     "output_type": "stream",
     "text": [
      "Train Epoch 7: Loss=0.2324, Accuracy=0.9331, F1=0.7961\n"
     ]
    },
    {
     "data": {
      "application/json": {
       "ascii": false,
       "bar_format": null,
       "colour": null,
       "elapsed": 0.017701148986816406,
       "initial": 0,
       "n": 0,
       "ncols": null,
       "nrows": 45,
       "postfix": null,
       "prefix": "Test Epoch 7/7",
       "rate": null,
       "total": 25,
       "unit": "it",
       "unit_divisor": 1000,
       "unit_scale": false
      },
      "application/vnd.jupyter.widget-view+json": {
       "model_id": "a1316e5f95b2415ba0d7a600cd5d05b1",
       "version_major": 2,
       "version_minor": 0
      },
      "text/plain": [
       "Test Epoch 7/7:   0%|          | 0/25 [00:00<?, ?it/s]"
      ]
     },
     "metadata": {},
     "output_type": "display_data"
    },
    {
     "name": "stdout",
     "output_type": "stream",
     "text": [
      "Test Epoch 7: Loss=0.3075, Accuracy=0.9184, F1=0.9304\n"
     ]
    }
   ],
   "source": [
    "train(model, train_loader, test_loader, criterion, optimizer, num_epochs=7)"
   ]
  },
  {
   "cell_type": "code",
   "execution_count": 12,
   "id": "e514170f-354e-4e6d-add7-b087fa50b778",
   "metadata": {},
   "outputs": [],
   "source": [
    "torch.save(model, \"model.pth\")"
   ]
  },
  {
   "cell_type": "code",
   "execution_count": 13,
   "id": "f9504c15-e618-434a-81dd-c91684db444f",
   "metadata": {},
   "outputs": [
    {
     "name": "stderr",
     "output_type": "stream",
     "text": [
      "/home/samoed/.pyenv/versions/3.10.4/lib/python3.10/site-packages/tensorflow_addons/utils/tfa_eol_msg.py:23: UserWarning: \n",
      "\n",
      "TensorFlow Addons (TFA) has ended development and introduction of new features.\n",
      "TFA has entered a minimal maintenance and release mode until a planned end of life in May 2024.\n",
      "Please modify downstream libraries to take dependencies from other repositories in our TensorFlow community (e.g. Keras, Keras-CV, and Keras-NLP). \n",
      "\n",
      "For more information see: https://github.com/tensorflow/addons/issues/2807 \n",
      "\n",
      "  warnings.warn(\n"
     ]
    }
   ],
   "source": [
    "import onnx\n",
    "import tensorflow as tf\n",
    "from onnx_tf.backend import prepare\n",
    "\n",
    "\n",
    "def pytorch_to_tensorflowlight(model: GestureClassifier, model_name: str = \"gesture\"):\n",
    "    dummy_input = torch.randn(1, 21 * 2)\n",
    "\n",
    "    input_names = [\"actual_input_1\"] + [\"learned_%d\" % i for i in range(6)]\n",
    "    output_names = [\"output1\"]\n",
    "\n",
    "    onnx_name = model_name + \".onnx\"\n",
    "\n",
    "    torch.onnx.export(model, dummy_input, onnx_name, verbose=True, input_names=input_names, output_names=output_names)\n",
    "\n",
    "    onnx_model = onnx.load(onnx_name)\n",
    "    tf_rep = prepare(onnx_model)\n",
    "\n",
    "    tf_rep.export_graph(model_name)\n",
    "\n",
    "    # Convert the model\n",
    "    converter = tf.lite.TFLiteConverter.from_saved_model(model_name)  # path to the SavedModel directory\n",
    "    tflite_model = converter.convert()\n",
    "\n",
    "    # Save the model.\n",
    "    with open(f\"{model_name}.tflite\", \"wb\") as f:\n",
    "        f.write(tflite_model)"
   ]
  },
  {
   "cell_type": "code",
   "execution_count": 14,
   "id": "136cba54-8ff9-4f28-b4f5-93c088d46a6a",
   "metadata": {},
   "outputs": [
    {
     "name": "stderr",
     "output_type": "stream",
     "text": [
      "2023-04-08 00:52:49.244219: I tensorflow/compiler/xla/stream_executor/cuda/cuda_gpu_executor.cc:996] successful NUMA node read from SysFS had negative value (-1), but there must be at least one NUMA node, so returning NUMA node zero. See more at https://github.com/torvalds/linux/blob/v6.0/Documentation/ABI/testing/sysfs-bus-pci#L344-L355\n",
      "2023-04-08 00:52:49.272918: W tensorflow/core/common_runtime/gpu/gpu_device.cc:1956] Cannot dlopen some GPU libraries. Please make sure the missing libraries mentioned above are installed properly if you would like to use GPU. Follow the guide at https://www.tensorflow.org/install/gpu for how to download and setup the required libraries for your platform.\n",
      "Skipping registering GPU devices...\n"
     ]
    },
    {
     "name": "stdout",
     "output_type": "stream",
     "text": [
      "Exported graph: graph(%actual_input_1 : Float(1, 42, strides=[42, 1], requires_grad=0, device=cpu),\n",
      "      %learned_0 : Float(128, 42, strides=[42, 1], requires_grad=1, device=cpu),\n",
      "      %learned_1 : Float(128, strides=[1], requires_grad=1, device=cpu),\n",
      "      %learned_2 : Float(64, 128, strides=[128, 1], requires_grad=1, device=cpu),\n",
      "      %learned_3 : Float(64, strides=[1], requires_grad=1, device=cpu),\n",
      "      %learned_4 : Float(14, 64, strides=[64, 1], requires_grad=1, device=cpu),\n",
      "      %learned_5 : Float(14, strides=[1], requires_grad=1, device=cpu)):\n",
      "  %/fc1/Gemm_output_0 : Float(1, 128, strides=[128, 1], requires_grad=1, device=cpu) = onnx::Gemm[alpha=1., beta=1., transB=1, onnx_name=\"/fc1/Gemm\"](%actual_input_1, %learned_0, %learned_1), scope: __main__.GestureClassifier::/torch.nn.modules.linear.Linear::fc1 # /home/samoed/.pyenv/versions/3.10.4/lib/python3.10/site-packages/torch/nn/modules/linear.py:114:0\n",
      "  %/Relu_output_0 : Float(1, 128, strides=[128, 1], requires_grad=1, device=cpu) = onnx::Relu[onnx_name=\"/Relu\"](%/fc1/Gemm_output_0), scope: __main__.GestureClassifier:: # /home/samoed/.pyenv/versions/3.10.4/lib/python3.10/site-packages/torch/nn/functional.py:1453:0\n",
      "  %/fc2/Gemm_output_0 : Float(1, 64, strides=[64, 1], requires_grad=1, device=cpu) = onnx::Gemm[alpha=1., beta=1., transB=1, onnx_name=\"/fc2/Gemm\"](%/Relu_output_0, %learned_2, %learned_3), scope: __main__.GestureClassifier::/torch.nn.modules.linear.Linear::fc2 # /home/samoed/.pyenv/versions/3.10.4/lib/python3.10/site-packages/torch/nn/modules/linear.py:114:0\n",
      "  %/Relu_1_output_0 : Float(1, 64, strides=[64, 1], requires_grad=1, device=cpu) = onnx::Relu[onnx_name=\"/Relu_1\"](%/fc2/Gemm_output_0), scope: __main__.GestureClassifier:: # /home/samoed/.pyenv/versions/3.10.4/lib/python3.10/site-packages/torch/nn/functional.py:1453:0\n",
      "  %output1 : Float(1, 14, strides=[14, 1], requires_grad=1, device=cpu) = onnx::Gemm[alpha=1., beta=1., transB=1, onnx_name=\"/fc3/Gemm\"](%/Relu_1_output_0, %learned_4, %learned_5), scope: __main__.GestureClassifier::/torch.nn.modules.linear.Linear::fc3 # /home/samoed/.pyenv/versions/3.10.4/lib/python3.10/site-packages/torch/nn/modules/linear.py:114:0\n",
      "  return (%output1)\n",
      "\n"
     ]
    },
    {
     "name": "stderr",
     "output_type": "stream",
     "text": [
      "WARNING:absl:Found untraced functions such as gen_tensor_dict while saving (showing 1 of 1). These functions will not be directly callable after loading.\n"
     ]
    },
    {
     "name": "stdout",
     "output_type": "stream",
     "text": [
      "INFO:tensorflow:Assets written to: gesture/assets\n"
     ]
    },
    {
     "name": "stderr",
     "output_type": "stream",
     "text": [
      "INFO:tensorflow:Assets written to: gesture/assets\n",
      "2023-04-08 00:52:50.751784: W tensorflow/compiler/mlir/lite/python/tf_tfl_flatbuffer_helpers.cc:364] Ignored output_format.\n",
      "2023-04-08 00:52:50.751821: W tensorflow/compiler/mlir/lite/python/tf_tfl_flatbuffer_helpers.cc:367] Ignored drop_control_dependency.\n",
      "2023-04-08 00:52:50.752476: I tensorflow/cc/saved_model/reader.cc:45] Reading SavedModel from: gesture\n",
      "2023-04-08 00:52:50.752901: I tensorflow/cc/saved_model/reader.cc:89] Reading meta graph with tags { serve }\n",
      "2023-04-08 00:52:50.752919: I tensorflow/cc/saved_model/reader.cc:130] Reading SavedModel debug info (if present) from: gesture\n",
      "2023-04-08 00:52:50.754152: I tensorflow/compiler/mlir/mlir_graph_optimization_pass.cc:353] MLIR V1 optimization pass is not enabled\n",
      "2023-04-08 00:52:50.754439: I tensorflow/cc/saved_model/loader.cc:231] Restoring SavedModel bundle.\n",
      "2023-04-08 00:52:50.774027: I tensorflow/cc/saved_model/loader.cc:215] Running initialization op on SavedModel bundle at path: gesture\n",
      "2023-04-08 00:52:50.778067: I tensorflow/cc/saved_model/loader.cc:314] SavedModel load for tags { serve }; Status: success: OK. Took 25594 microseconds.\n",
      "2023-04-08 00:52:50.785541: I tensorflow/compiler/mlir/tensorflow/utils/dump_mlir_util.cc:269] disabling MLIR crash reproducer, set env var `MLIR_CRASH_REPRODUCER_DIRECTORY` to enable.\n",
      "2023-04-08 00:52:50.801964: I tensorflow/compiler/mlir/lite/flatbuffer_export.cc:2116] Estimated count of arithmetic ops: 0.029 M  ops, equivalently 0.015 M  MACs\n"
     ]
    }
   ],
   "source": [
    "pytorch_to_tensorflowlight(model)"
   ]
  }
 ],
 "metadata": {
  "kernelspec": {
   "display_name": "Python 3 (ipykernel)",
   "language": "python",
   "name": "python3"
  },
  "language_info": {
   "codemirror_mode": {
    "name": "ipython",
    "version": 3
   },
   "file_extension": ".py",
   "mimetype": "text/x-python",
   "name": "python",
   "nbconvert_exporter": "python",
   "pygments_lexer": "ipython3",
   "version": "3.10.4"
  },
  "widgets": {
   "application/vnd.jupyter.widget-state+json": {
    "state": {
     "023db257f401432585bb96687b705bca": {
      "model_module": "@jupyter-widgets/controls",
      "model_module_version": "2.0.0",
      "model_name": "HTMLStyleModel",
      "state": {
       "description_width": "",
       "font_size": null,
       "text_color": null
      }
     },
     "05f56fa7db404983bd5779444308a1f6": {
      "model_module": "@jupyter-widgets/controls",
      "model_module_version": "2.0.0",
      "model_name": "HBoxModel",
      "state": {
       "children": [
        "IPY_MODEL_cc0e434c92414b0c979b07580e75de12",
        "IPY_MODEL_a0063a0869094b04995242d6aeea1288",
        "IPY_MODEL_c21e0286002c42dcafb2a46e21cc1772"
       ],
       "layout": "IPY_MODEL_cfac4da4726a4915af08ecf48a9cf6e4"
      }
     },
     "0784e667060d44d2a0d23ba0c08dd6b2": {
      "model_module": "@jupyter-widgets/controls",
      "model_module_version": "2.0.0",
      "model_name": "HTMLModel",
      "state": {
       "layout": "IPY_MODEL_e061df135ea4428e91b68c6ae45dcaee",
       "style": "IPY_MODEL_c62c90458eba49e4ac9f701eaa68b627",
       "value": "Train Epoch 4/7: 100%"
      }
     },
     "07a1ed88545b496bac9318610fc02433": {
      "model_module": "@jupyter-widgets/controls",
      "model_module_version": "2.0.0",
      "model_name": "HTMLModel",
      "state": {
       "layout": "IPY_MODEL_697e56691a3341d4b58fa4f8fb509fbc",
       "style": "IPY_MODEL_4df13d08536b415295e216bdacf43ab7",
       "value": "Test Epoch 7/7: 100%"
      }
     },
     "080029ccb9034d45a3876e83755b8e35": {
      "model_module": "@jupyter-widgets/controls",
      "model_module_version": "2.0.0",
      "model_name": "HTMLModel",
      "state": {
       "layout": "IPY_MODEL_20e8100809d74735bb270c688bdcdfa1",
       "style": "IPY_MODEL_19facd699d7d4b02803b4545cf0b2cd9",
       "value": "Train Epoch 3/7: 100%"
      }
     },
     "08c836fd9b1f486e98d727542effcfbf": {
      "model_module": "@jupyter-widgets/base",
      "model_module_version": "2.0.0",
      "model_name": "LayoutModel",
      "state": {}
     },
     "0a7dbcd50a3846cca5233924378a6185": {
      "model_module": "@jupyter-widgets/base",
      "model_module_version": "2.0.0",
      "model_name": "LayoutModel",
      "state": {}
     },
     "0cc2f9809a8b4c3f9d23153ffc830648": {
      "model_module": "@jupyter-widgets/controls",
      "model_module_version": "2.0.0",
      "model_name": "HTMLStyleModel",
      "state": {
       "description_width": "",
       "font_size": null,
       "text_color": null
      }
     },
     "0d418b923f7c492d88e321080729e0db": {
      "model_module": "@jupyter-widgets/controls",
      "model_module_version": "2.0.0",
      "model_name": "HTMLModel",
      "state": {
       "layout": "IPY_MODEL_d62b2472b3cb4e14a163065786504e6a",
       "style": "IPY_MODEL_60470840ed4c42a59302a27a2153f5e4",
       "value": " 221/221 [00:42&lt;00:00,  6.42it/s]"
      }
     },
     "0ebde546784c49ae82381582dc4c236d": {
      "model_module": "@jupyter-widgets/controls",
      "model_module_version": "2.0.0",
      "model_name": "HBoxModel",
      "state": {
       "children": [
        "IPY_MODEL_e26ac90b14d743068b053e27cbf491c0",
        "IPY_MODEL_77a34cd398204acb8398396ba00ddd8f",
        "IPY_MODEL_a0e183f5ccc340ffaa1cdeb893c1da32"
       ],
       "layout": "IPY_MODEL_1273d0e695014971819480a84a6f16b1"
      }
     },
     "1273d0e695014971819480a84a6f16b1": {
      "model_module": "@jupyter-widgets/base",
      "model_module_version": "2.0.0",
      "model_name": "LayoutModel",
      "state": {}
     },
     "1283b8f0e30642a2963284fe7b66b430": {
      "model_module": "@jupyter-widgets/base",
      "model_module_version": "2.0.0",
      "model_name": "LayoutModel",
      "state": {}
     },
     "13092c7a47ff4ba28624188c1e43c186": {
      "model_module": "@jupyter-widgets/controls",
      "model_module_version": "2.0.0",
      "model_name": "HTMLStyleModel",
      "state": {
       "description_width": "",
       "font_size": null,
       "text_color": null
      }
     },
     "1820698bf8684f0fb40eb51f33e0624e": {
      "model_module": "@jupyter-widgets/controls",
      "model_module_version": "2.0.0",
      "model_name": "HTMLModel",
      "state": {
       "layout": "IPY_MODEL_6b892ecba387420295b01378e01fbacf",
       "style": "IPY_MODEL_5c9c9595b27a41af9229db65132aa2c5",
       "value": "Test Epoch 1/7: 100%"
      }
     },
     "185acfb8fd274250afbdc8c91b8ea866": {
      "model_module": "@jupyter-widgets/base",
      "model_module_version": "2.0.0",
      "model_name": "LayoutModel",
      "state": {}
     },
     "187f8156063d40c9a9619c0586d004ad": {
      "model_module": "@jupyter-widgets/base",
      "model_module_version": "2.0.0",
      "model_name": "LayoutModel",
      "state": {}
     },
     "19261ab0e87d47188d2ce59b1d8eff81": {
      "model_module": "@jupyter-widgets/controls",
      "model_module_version": "2.0.0",
      "model_name": "HTMLModel",
      "state": {
       "layout": "IPY_MODEL_d53bc013e9254743935d04c71612e713",
       "style": "IPY_MODEL_3b7b1d405e224df5b42bcb14aa735798",
       "value": " 221/221 [00:33&lt;00:00,  6.57it/s]"
      }
     },
     "19facd699d7d4b02803b4545cf0b2cd9": {
      "model_module": "@jupyter-widgets/controls",
      "model_module_version": "2.0.0",
      "model_name": "HTMLStyleModel",
      "state": {
       "description_width": "",
       "font_size": null,
       "text_color": null
      }
     },
     "1a3bed821fe3413baf3bf99b170515dd": {
      "model_module": "@jupyter-widgets/controls",
      "model_module_version": "2.0.0",
      "model_name": "FloatProgressModel",
      "state": {
       "bar_style": "success",
       "layout": "IPY_MODEL_8c5b26d4d69a49e3ba5627a3b6c30210",
       "max": 221,
       "style": "IPY_MODEL_5bc8d831781848d883378d9a6a8eb84e",
       "value": 221
      }
     },
     "1c37845e6e214532889e23df79d6330d": {
      "model_module": "@jupyter-widgets/controls",
      "model_module_version": "2.0.0",
      "model_name": "HTMLModel",
      "state": {
       "layout": "IPY_MODEL_d735fcef6554464c997ed16316d3f685",
       "style": "IPY_MODEL_683126c61ac744ca80291298bc4bff42",
       "value": "Train Epoch 6/7: 100%"
      }
     },
     "1ccc19b44a9345a48b69c6557fb05ab4": {
      "model_module": "@jupyter-widgets/base",
      "model_module_version": "2.0.0",
      "model_name": "LayoutModel",
      "state": {}
     },
     "1ce2bf8953f24d0e99db3dec29e15424": {
      "model_module": "@jupyter-widgets/base",
      "model_module_version": "2.0.0",
      "model_name": "LayoutModel",
      "state": {}
     },
     "1d94de45c8c646e288f22ad765af85e4": {
      "model_module": "@jupyter-widgets/controls",
      "model_module_version": "2.0.0",
      "model_name": "FloatProgressModel",
      "state": {
       "bar_style": "success",
       "layout": "IPY_MODEL_6ecdacaed0cd4c2eaa025d631a357606",
       "max": 25,
       "style": "IPY_MODEL_9f4b2eff971642e39c4900249fa223ec",
       "value": 25
      }
     },
     "20a699aec58248b8a5ee76d8d4f9039c": {
      "model_module": "@jupyter-widgets/base",
      "model_module_version": "2.0.0",
      "model_name": "LayoutModel",
      "state": {}
     },
     "20e8100809d74735bb270c688bdcdfa1": {
      "model_module": "@jupyter-widgets/base",
      "model_module_version": "2.0.0",
      "model_name": "LayoutModel",
      "state": {}
     },
     "21c8337855404e229428adf7f0b9932e": {
      "model_module": "@jupyter-widgets/controls",
      "model_module_version": "2.0.0",
      "model_name": "HBoxModel",
      "state": {
       "children": [
        "IPY_MODEL_080029ccb9034d45a3876e83755b8e35",
        "IPY_MODEL_46e7f8ca4bfa445f87a6c65d081f6167",
        "IPY_MODEL_99db894e4fe947d88cac20be148f8b37"
       ],
       "layout": "IPY_MODEL_f982a02d7b4d47f8ac840f40300cb9c9"
      }
     },
     "245fcde61b434c829fee6e3f704138d3": {
      "model_module": "@jupyter-widgets/controls",
      "model_module_version": "2.0.0",
      "model_name": "HTMLStyleModel",
      "state": {
       "description_width": "",
       "font_size": null,
       "text_color": null
      }
     },
     "24b1702da8834d3eb44c30cce4262e1d": {
      "model_module": "@jupyter-widgets/base",
      "model_module_version": "2.0.0",
      "model_name": "LayoutModel",
      "state": {}
     },
     "2516de87ad654f04b6c5a1810e017d73": {
      "model_module": "@jupyter-widgets/base",
      "model_module_version": "2.0.0",
      "model_name": "LayoutModel",
      "state": {}
     },
     "2581663728fd490a80bf64a6213c74df": {
      "model_module": "@jupyter-widgets/base",
      "model_module_version": "2.0.0",
      "model_name": "LayoutModel",
      "state": {}
     },
     "28464aebbd0244aeb5529acbeeb44353": {
      "model_module": "@jupyter-widgets/controls",
      "model_module_version": "2.0.0",
      "model_name": "HTMLStyleModel",
      "state": {
       "description_width": "",
       "font_size": null,
       "text_color": null
      }
     },
     "298fc4e4b85e4fbf9612513dcfb6dd07": {
      "model_module": "@jupyter-widgets/controls",
      "model_module_version": "2.0.0",
      "model_name": "HBoxModel",
      "state": {
       "children": [
        "IPY_MODEL_abf313b32f8342deb46ae6eb77c513ca",
        "IPY_MODEL_a9ba331065f24cbe89a363736c006b1e",
        "IPY_MODEL_8bc7ee496f85448c84a0c91b45cef75d"
       ],
       "layout": "IPY_MODEL_0a7dbcd50a3846cca5233924378a6185"
      }
     },
     "2abb522f1cd544298129a8912e896a74": {
      "model_module": "@jupyter-widgets/controls",
      "model_module_version": "2.0.0",
      "model_name": "HTMLModel",
      "state": {
       "layout": "IPY_MODEL_37c33a26a954463c8478798130a69d4b",
       "style": "IPY_MODEL_c369619798444ec9a202988029c68039",
       "value": " 25/25 [00:03&lt;00:00,  6.47it/s]"
      }
     },
     "2aff0db9d44944e2816ee2c0a449886c": {
      "model_module": "@jupyter-widgets/base",
      "model_module_version": "2.0.0",
      "model_name": "LayoutModel",
      "state": {}
     },
     "2fa8913f59da4d0e80d0012f5dc3b16f": {
      "model_module": "@jupyter-widgets/base",
      "model_module_version": "2.0.0",
      "model_name": "LayoutModel",
      "state": {}
     },
     "318c5afb9ac5412cbd29cf632661171f": {
      "model_module": "@jupyter-widgets/base",
      "model_module_version": "2.0.0",
      "model_name": "LayoutModel",
      "state": {}
     },
     "31e31852341148f0933583697676cd61": {
      "model_module": "@jupyter-widgets/base",
      "model_module_version": "2.0.0",
      "model_name": "LayoutModel",
      "state": {}
     },
     "3266459bea79455699f44aa0822e8643": {
      "model_module": "@jupyter-widgets/base",
      "model_module_version": "2.0.0",
      "model_name": "LayoutModel",
      "state": {}
     },
     "336116708721457195d5ec9483569427": {
      "model_module": "@jupyter-widgets/controls",
      "model_module_version": "2.0.0",
      "model_name": "FloatProgressModel",
      "state": {
       "bar_style": "success",
       "layout": "IPY_MODEL_2aff0db9d44944e2816ee2c0a449886c",
       "max": 221,
       "style": "IPY_MODEL_51267614cfc046e886d1281374ed8d19",
       "value": 221
      }
     },
     "3394527a3e834667a38569246f842b8e": {
      "model_module": "@jupyter-widgets/controls",
      "model_module_version": "2.0.0",
      "model_name": "HTMLStyleModel",
      "state": {
       "description_width": "",
       "font_size": null,
       "text_color": null
      }
     },
     "33c00bf2dc9f43aa97976fdc0895a019": {
      "model_module": "@jupyter-widgets/base",
      "model_module_version": "2.0.0",
      "model_name": "LayoutModel",
      "state": {}
     },
     "37c33a26a954463c8478798130a69d4b": {
      "model_module": "@jupyter-widgets/base",
      "model_module_version": "2.0.0",
      "model_name": "LayoutModel",
      "state": {}
     },
     "39aed3930d3e46ddb5351384da5898e9": {
      "model_module": "@jupyter-widgets/base",
      "model_module_version": "2.0.0",
      "model_name": "LayoutModel",
      "state": {}
     },
     "39dd0c2e0ac74c1491049f5106a4306a": {
      "model_module": "@jupyter-widgets/base",
      "model_module_version": "2.0.0",
      "model_name": "LayoutModel",
      "state": {}
     },
     "3b7b1d405e224df5b42bcb14aa735798": {
      "model_module": "@jupyter-widgets/controls",
      "model_module_version": "2.0.0",
      "model_name": "HTMLStyleModel",
      "state": {
       "description_width": "",
       "font_size": null,
       "text_color": null
      }
     },
     "43b4cd36d22d4f47b9f216486ffcceff": {
      "model_module": "@jupyter-widgets/controls",
      "model_module_version": "2.0.0",
      "model_name": "ProgressStyleModel",
      "state": {
       "description_width": ""
      }
     },
     "449ce56522b74bd6bf8dd7c29d15803b": {
      "model_module": "@jupyter-widgets/base",
      "model_module_version": "2.0.0",
      "model_name": "LayoutModel",
      "state": {}
     },
     "46e7f8ca4bfa445f87a6c65d081f6167": {
      "model_module": "@jupyter-widgets/controls",
      "model_module_version": "2.0.0",
      "model_name": "FloatProgressModel",
      "state": {
       "bar_style": "success",
       "layout": "IPY_MODEL_318c5afb9ac5412cbd29cf632661171f",
       "max": 221,
       "style": "IPY_MODEL_43b4cd36d22d4f47b9f216486ffcceff",
       "value": 221
      }
     },
     "4907525e49704f7a8c8aba8e92dc8731": {
      "model_module": "@jupyter-widgets/base",
      "model_module_version": "2.0.0",
      "model_name": "LayoutModel",
      "state": {}
     },
     "4996ec7fafe0439ab8269afe4d3556c0": {
      "model_module": "@jupyter-widgets/controls",
      "model_module_version": "2.0.0",
      "model_name": "ProgressStyleModel",
      "state": {
       "description_width": ""
      }
     },
     "4a9bb9edd4a844368422b12618cdc04c": {
      "model_module": "@jupyter-widgets/controls",
      "model_module_version": "2.0.0",
      "model_name": "HTMLModel",
      "state": {
       "layout": "IPY_MODEL_ef76cec861aa4cfe8a686086d346a124",
       "style": "IPY_MODEL_e5cb8612872949cabebaec67f4f0df64",
       "value": " 25/25 [00:03&lt;00:00,  7.16it/s]"
      }
     },
     "4df13d08536b415295e216bdacf43ab7": {
      "model_module": "@jupyter-widgets/controls",
      "model_module_version": "2.0.0",
      "model_name": "HTMLStyleModel",
      "state": {
       "description_width": "",
       "font_size": null,
       "text_color": null
      }
     },
     "4fec3efdd4a34c358143f1cf92b0f50e": {
      "model_module": "@jupyter-widgets/controls",
      "model_module_version": "2.0.0",
      "model_name": "HTMLModel",
      "state": {
       "layout": "IPY_MODEL_55218f487863472c88d0f65b012ff776",
       "style": "IPY_MODEL_023db257f401432585bb96687b705bca",
       "value": " 221/221 [00:35&lt;00:00,  6.93it/s]"
      }
     },
     "51267614cfc046e886d1281374ed8d19": {
      "model_module": "@jupyter-widgets/controls",
      "model_module_version": "2.0.0",
      "model_name": "ProgressStyleModel",
      "state": {
       "description_width": ""
      }
     },
     "51fa76bc897b46e49d2824e63296a65c": {
      "model_module": "@jupyter-widgets/controls",
      "model_module_version": "2.0.0",
      "model_name": "HTMLStyleModel",
      "state": {
       "description_width": "",
       "font_size": null,
       "text_color": null
      }
     },
     "52628ac9b0e14e49b104d4c983d5357a": {
      "model_module": "@jupyter-widgets/controls",
      "model_module_version": "2.0.0",
      "model_name": "FloatProgressModel",
      "state": {
       "bar_style": "success",
       "layout": "IPY_MODEL_1ccc19b44a9345a48b69c6557fb05ab4",
       "max": 221,
       "style": "IPY_MODEL_9cd71acbd5634f0e9d6694504f8caaca",
       "value": 221
      }
     },
     "54aac8737c35455aab44f233d1471c12": {
      "model_module": "@jupyter-widgets/base",
      "model_module_version": "2.0.0",
      "model_name": "LayoutModel",
      "state": {}
     },
     "55218f487863472c88d0f65b012ff776": {
      "model_module": "@jupyter-widgets/base",
      "model_module_version": "2.0.0",
      "model_name": "LayoutModel",
      "state": {}
     },
     "59502fb3769149f5a2f18b1929ed0d50": {
      "model_module": "@jupyter-widgets/controls",
      "model_module_version": "2.0.0",
      "model_name": "HTMLModel",
      "state": {
       "layout": "IPY_MODEL_85204af876ac46e8a4770155adc0fb72",
       "style": "IPY_MODEL_245fcde61b434c829fee6e3f704138d3",
       "value": "Test Epoch 3/7: 100%"
      }
     },
     "5a31c5a3fbb04f0389adcfc99b962743": {
      "model_module": "@jupyter-widgets/base",
      "model_module_version": "2.0.0",
      "model_name": "LayoutModel",
      "state": {}
     },
     "5bc8d831781848d883378d9a6a8eb84e": {
      "model_module": "@jupyter-widgets/controls",
      "model_module_version": "2.0.0",
      "model_name": "ProgressStyleModel",
      "state": {
       "description_width": ""
      }
     },
     "5c8d41c5f40543ffabe11220e1ad5ecf": {
      "model_module": "@jupyter-widgets/base",
      "model_module_version": "2.0.0",
      "model_name": "LayoutModel",
      "state": {}
     },
     "5c9c9595b27a41af9229db65132aa2c5": {
      "model_module": "@jupyter-widgets/controls",
      "model_module_version": "2.0.0",
      "model_name": "HTMLStyleModel",
      "state": {
       "description_width": "",
       "font_size": null,
       "text_color": null
      }
     },
     "60470840ed4c42a59302a27a2153f5e4": {
      "model_module": "@jupyter-widgets/controls",
      "model_module_version": "2.0.0",
      "model_name": "HTMLStyleModel",
      "state": {
       "description_width": "",
       "font_size": null,
       "text_color": null
      }
     },
     "6247098cb6114c158caad4a118083886": {
      "model_module": "@jupyter-widgets/controls",
      "model_module_version": "2.0.0",
      "model_name": "HBoxModel",
      "state": {
       "children": [
        "IPY_MODEL_9a0cefc4c78a47fdb75f43968455c661",
        "IPY_MODEL_fbd3b06a73b64cffb5f7b19cb5a78ce6",
        "IPY_MODEL_ac123a7231264f8d8bd83fab27cdfed4"
       ],
       "layout": "IPY_MODEL_39aed3930d3e46ddb5351384da5898e9"
      }
     },
     "637b3a30b8b244d897a968353143b873": {
      "model_module": "@jupyter-widgets/controls",
      "model_module_version": "2.0.0",
      "model_name": "FloatProgressModel",
      "state": {
       "bar_style": "success",
       "layout": "IPY_MODEL_08c836fd9b1f486e98d727542effcfbf",
       "max": 221,
       "style": "IPY_MODEL_ad0f84d875784f76b6a2024ae8b400a0",
       "value": 221
      }
     },
     "653146fac79d457aa4c79a761f69a924": {
      "model_module": "@jupyter-widgets/controls",
      "model_module_version": "2.0.0",
      "model_name": "FloatProgressModel",
      "state": {
       "bar_style": "success",
       "layout": "IPY_MODEL_2fa8913f59da4d0e80d0012f5dc3b16f",
       "max": 25,
       "style": "IPY_MODEL_4996ec7fafe0439ab8269afe4d3556c0",
       "value": 25
      }
     },
     "668747cde51443d48f1423444c1bc401": {
      "model_module": "@jupyter-widgets/controls",
      "model_module_version": "2.0.0",
      "model_name": "ProgressStyleModel",
      "state": {
       "description_width": ""
      }
     },
     "6760b131a4af45059de3260ee11bde95": {
      "model_module": "@jupyter-widgets/controls",
      "model_module_version": "2.0.0",
      "model_name": "FloatProgressModel",
      "state": {
       "bar_style": "success",
       "layout": "IPY_MODEL_185acfb8fd274250afbdc8c91b8ea866",
       "max": 25,
       "style": "IPY_MODEL_9dc470f5216f47999283148f4e0cb959",
       "value": 25
      }
     },
     "683126c61ac744ca80291298bc4bff42": {
      "model_module": "@jupyter-widgets/controls",
      "model_module_version": "2.0.0",
      "model_name": "HTMLStyleModel",
      "state": {
       "description_width": "",
       "font_size": null,
       "text_color": null
      }
     },
     "697e56691a3341d4b58fa4f8fb509fbc": {
      "model_module": "@jupyter-widgets/base",
      "model_module_version": "2.0.0",
      "model_name": "LayoutModel",
      "state": {}
     },
     "6b892ecba387420295b01378e01fbacf": {
      "model_module": "@jupyter-widgets/base",
      "model_module_version": "2.0.0",
      "model_name": "LayoutModel",
      "state": {}
     },
     "6bccd2fdba94404e978f691c4fe54447": {
      "model_module": "@jupyter-widgets/controls",
      "model_module_version": "2.0.0",
      "model_name": "HBoxModel",
      "state": {
       "children": [
        "IPY_MODEL_0784e667060d44d2a0d23ba0c08dd6b2",
        "IPY_MODEL_336116708721457195d5ec9483569427",
        "IPY_MODEL_bf5e03c34c5e46bd9333e2dafd093ff0"
       ],
       "layout": "IPY_MODEL_fb70a709e29240a7b70c82c0dbc8813e"
      }
     },
     "6ecdacaed0cd4c2eaa025d631a357606": {
      "model_module": "@jupyter-widgets/base",
      "model_module_version": "2.0.0",
      "model_name": "LayoutModel",
      "state": {}
     },
     "706254ff84d2417c82685a122c273c0e": {
      "model_module": "@jupyter-widgets/controls",
      "model_module_version": "2.0.0",
      "model_name": "HBoxModel",
      "state": {
       "children": [
        "IPY_MODEL_929f72a4eb1a4c34bcc120a75abd6a95",
        "IPY_MODEL_637b3a30b8b244d897a968353143b873",
        "IPY_MODEL_0d418b923f7c492d88e321080729e0db"
       ],
       "layout": "IPY_MODEL_a2c0c2e26c19495baf4074da813423e0"
      }
     },
     "70fb8717e59545c9b1466e8ad7c00d45": {
      "model_module": "@jupyter-widgets/controls",
      "model_module_version": "2.0.0",
      "model_name": "HTMLModel",
      "state": {
       "layout": "IPY_MODEL_7cbd80aebec54881bcd403aa07745712",
       "style": "IPY_MODEL_bdc922b1754f45c8a38b376a187bf76c",
       "value": "Train Epoch 5/7: 100%"
      }
     },
     "72412354b978453aaaa6c3a530604f06": {
      "model_module": "@jupyter-widgets/controls",
      "model_module_version": "2.0.0",
      "model_name": "FloatProgressModel",
      "state": {
       "bar_style": "success",
       "layout": "IPY_MODEL_3266459bea79455699f44aa0822e8643",
       "max": 25,
       "style": "IPY_MODEL_91713b6be57b435abfeeef70b4b6de55",
       "value": 25
      }
     },
     "77a34cd398204acb8398396ba00ddd8f": {
      "model_module": "@jupyter-widgets/controls",
      "model_module_version": "2.0.0",
      "model_name": "FloatProgressModel",
      "state": {
       "bar_style": "success",
       "layout": "IPY_MODEL_9afe243f5e194141a6103fad5f145dba",
       "max": 221,
       "style": "IPY_MODEL_a72a765d6e4544559681006f394b333d",
       "value": 221
      }
     },
     "782e16cb671a4651bfcd0cf7ba5b95ff": {
      "model_module": "@jupyter-widgets/controls",
      "model_module_version": "2.0.0",
      "model_name": "ProgressStyleModel",
      "state": {
       "description_width": ""
      }
     },
     "7c1953fbc758425b9131ef0ca307ec33": {
      "model_module": "@jupyter-widgets/controls",
      "model_module_version": "2.0.0",
      "model_name": "HBoxModel",
      "state": {
       "children": [
        "IPY_MODEL_1820698bf8684f0fb40eb51f33e0624e",
        "IPY_MODEL_1d94de45c8c646e288f22ad765af85e4",
        "IPY_MODEL_d71738c95d214cbc81c9e2b9dffde6d8"
       ],
       "layout": "IPY_MODEL_fde7e5806d8c4792abd8896d796a0ab1"
      }
     },
     "7cbd80aebec54881bcd403aa07745712": {
      "model_module": "@jupyter-widgets/base",
      "model_module_version": "2.0.0",
      "model_name": "LayoutModel",
      "state": {}
     },
     "82a37b4d045246bdaa0e6f88fecd7e64": {
      "model_module": "@jupyter-widgets/base",
      "model_module_version": "2.0.0",
      "model_name": "LayoutModel",
      "state": {}
     },
     "85204af876ac46e8a4770155adc0fb72": {
      "model_module": "@jupyter-widgets/base",
      "model_module_version": "2.0.0",
      "model_name": "LayoutModel",
      "state": {}
     },
     "8877b1600a3c47239ea98af40b0dd595": {
      "model_module": "@jupyter-widgets/controls",
      "model_module_version": "2.0.0",
      "model_name": "FloatProgressModel",
      "state": {
       "bar_style": "success",
       "layout": "IPY_MODEL_b04962aa6be44a49ac3b5fff2a2ce8f5",
       "max": 25,
       "style": "IPY_MODEL_8b6cbf0ed4dc4703975c5490b8b120ba",
       "value": 25
      }
     },
     "8a4f1ad8539943019ca34c3f1a09a07d": {
      "model_module": "@jupyter-widgets/base",
      "model_module_version": "2.0.0",
      "model_name": "LayoutModel",
      "state": {}
     },
     "8adf6fd0e1cc464f807c07b318c511a8": {
      "model_module": "@jupyter-widgets/controls",
      "model_module_version": "2.0.0",
      "model_name": "HTMLStyleModel",
      "state": {
       "description_width": "",
       "font_size": null,
       "text_color": null
      }
     },
     "8b6cbf0ed4dc4703975c5490b8b120ba": {
      "model_module": "@jupyter-widgets/controls",
      "model_module_version": "2.0.0",
      "model_name": "ProgressStyleModel",
      "state": {
       "description_width": ""
      }
     },
     "8bc7ee496f85448c84a0c91b45cef75d": {
      "model_module": "@jupyter-widgets/controls",
      "model_module_version": "2.0.0",
      "model_name": "HTMLModel",
      "state": {
       "layout": "IPY_MODEL_8a4f1ad8539943019ca34c3f1a09a07d",
       "style": "IPY_MODEL_a40c4d8ae24f4f939db12a9923f2b1d2",
       "value": " 25/25 [00:03&lt;00:00,  6.78it/s]"
      }
     },
     "8c5b26d4d69a49e3ba5627a3b6c30210": {
      "model_module": "@jupyter-widgets/base",
      "model_module_version": "2.0.0",
      "model_name": "LayoutModel",
      "state": {}
     },
     "8d8b85f2b7d84e3db880a9b42757e33f": {
      "model_module": "@jupyter-widgets/controls",
      "model_module_version": "2.0.0",
      "model_name": "ProgressStyleModel",
      "state": {
       "description_width": ""
      }
     },
     "8e6452f7195947e8ad640efd2d0c021a": {
      "model_module": "@jupyter-widgets/controls",
      "model_module_version": "2.0.0",
      "model_name": "HBoxModel",
      "state": {
       "children": [
        "IPY_MODEL_59502fb3769149f5a2f18b1929ed0d50",
        "IPY_MODEL_8e9e806225d145f8aaab2f8499b2c046",
        "IPY_MODEL_ba66282be3974ec991b18ea7f65f75a3"
       ],
       "layout": "IPY_MODEL_2516de87ad654f04b6c5a1810e017d73"
      }
     },
     "8e9e806225d145f8aaab2f8499b2c046": {
      "model_module": "@jupyter-widgets/controls",
      "model_module_version": "2.0.0",
      "model_name": "FloatProgressModel",
      "state": {
       "bar_style": "success",
       "layout": "IPY_MODEL_24b1702da8834d3eb44c30cce4262e1d",
       "max": 25,
       "style": "IPY_MODEL_a9f6ab6d175446c980f8bd2bfee554cd",
       "value": 25
      }
     },
     "916bb425911d43248766bbc80a33df1c": {
      "model_module": "@jupyter-widgets/base",
      "model_module_version": "2.0.0",
      "model_name": "LayoutModel",
      "state": {}
     },
     "91713b6be57b435abfeeef70b4b6de55": {
      "model_module": "@jupyter-widgets/controls",
      "model_module_version": "2.0.0",
      "model_name": "ProgressStyleModel",
      "state": {
       "description_width": ""
      }
     },
     "929f72a4eb1a4c34bcc120a75abd6a95": {
      "model_module": "@jupyter-widgets/controls",
      "model_module_version": "2.0.0",
      "model_name": "HTMLModel",
      "state": {
       "layout": "IPY_MODEL_1283b8f0e30642a2963284fe7b66b430",
       "style": "IPY_MODEL_3394527a3e834667a38569246f842b8e",
       "value": "Train Epoch 1/7: 100%"
      }
     },
     "94d4dcaa5a5b46cca3a4a9850b7f95e5": {
      "model_module": "@jupyter-widgets/base",
      "model_module_version": "2.0.0",
      "model_name": "LayoutModel",
      "state": {}
     },
     "95578d6f6398493491515e7118b5e832": {
      "model_module": "@jupyter-widgets/controls",
      "model_module_version": "2.0.0",
      "model_name": "HTMLModel",
      "state": {
       "layout": "IPY_MODEL_ef90a0d8cd0e472e9e5bf95705d7e87b",
       "style": "IPY_MODEL_f489ed36e5874d199b65ef223e47ce10",
       "value": "Test Epoch 2/7: 100%"
      }
     },
     "96ccc7bfd86046c799c2d7a68a55ae37": {
      "model_module": "@jupyter-widgets/controls",
      "model_module_version": "2.0.0",
      "model_name": "HTMLStyleModel",
      "state": {
       "description_width": "",
       "font_size": null,
       "text_color": null
      }
     },
     "9725f5eb9f3a4482a395d6d28223aac7": {
      "model_module": "@jupyter-widgets/controls",
      "model_module_version": "2.0.0",
      "model_name": "HTMLModel",
      "state": {
       "layout": "IPY_MODEL_4907525e49704f7a8c8aba8e92dc8731",
       "style": "IPY_MODEL_b418a8cfa932428ab4d2651577d85d91",
       "value": "Test Epoch 4/7: 100%"
      }
     },
     "99db894e4fe947d88cac20be148f8b37": {
      "model_module": "@jupyter-widgets/controls",
      "model_module_version": "2.0.0",
      "model_name": "HTMLModel",
      "state": {
       "layout": "IPY_MODEL_ef5abd62dd2143449a8eb90cec8dcf1e",
       "style": "IPY_MODEL_51fa76bc897b46e49d2824e63296a65c",
       "value": " 221/221 [00:35&lt;00:00,  7.47it/s]"
      }
     },
     "9a0cefc4c78a47fdb75f43968455c661": {
      "model_module": "@jupyter-widgets/controls",
      "model_module_version": "2.0.0",
      "model_name": "HTMLModel",
      "state": {
       "layout": "IPY_MODEL_82a37b4d045246bdaa0e6f88fecd7e64",
       "style": "IPY_MODEL_9fefd9f3036a4677a85454919671ca0e",
       "value": "Epochs: 100%"
      }
     },
     "9a4f15719bf04464a6a46be7a1eb244d": {
      "model_module": "@jupyter-widgets/base",
      "model_module_version": "2.0.0",
      "model_name": "LayoutModel",
      "state": {}
     },
     "9afe243f5e194141a6103fad5f145dba": {
      "model_module": "@jupyter-widgets/base",
      "model_module_version": "2.0.0",
      "model_name": "LayoutModel",
      "state": {}
     },
     "9cd71acbd5634f0e9d6694504f8caaca": {
      "model_module": "@jupyter-widgets/controls",
      "model_module_version": "2.0.0",
      "model_name": "ProgressStyleModel",
      "state": {
       "description_width": ""
      }
     },
     "9dc470f5216f47999283148f4e0cb959": {
      "model_module": "@jupyter-widgets/controls",
      "model_module_version": "2.0.0",
      "model_name": "ProgressStyleModel",
      "state": {
       "description_width": ""
      }
     },
     "9f3dcd6c2e9d4aa5b30346da6bcaaeca": {
      "model_module": "@jupyter-widgets/controls",
      "model_module_version": "2.0.0",
      "model_name": "HBoxModel",
      "state": {
       "children": [
        "IPY_MODEL_ec2e9130f5ff4ae7b0dd4261f2bbbf38",
        "IPY_MODEL_8877b1600a3c47239ea98af40b0dd595",
        "IPY_MODEL_2abb522f1cd544298129a8912e896a74"
       ],
       "layout": "IPY_MODEL_edbc766a8bf04d02a468ff61d550e13d"
      }
     },
     "9f4b2eff971642e39c4900249fa223ec": {
      "model_module": "@jupyter-widgets/controls",
      "model_module_version": "2.0.0",
      "model_name": "ProgressStyleModel",
      "state": {
       "description_width": ""
      }
     },
     "9fefd9f3036a4677a85454919671ca0e": {
      "model_module": "@jupyter-widgets/controls",
      "model_module_version": "2.0.0",
      "model_name": "HTMLStyleModel",
      "state": {
       "description_width": "",
       "font_size": null,
       "text_color": null
      }
     },
     "a0063a0869094b04995242d6aeea1288": {
      "model_module": "@jupyter-widgets/controls",
      "model_module_version": "2.0.0",
      "model_name": "FloatProgressModel",
      "state": {
       "bar_style": "success",
       "layout": "IPY_MODEL_f9329ba6aecd40c6acd549fb57ae0ecd",
       "max": 221,
       "style": "IPY_MODEL_668747cde51443d48f1423444c1bc401",
       "value": 221
      }
     },
     "a0e183f5ccc340ffaa1cdeb893c1da32": {
      "model_module": "@jupyter-widgets/controls",
      "model_module_version": "2.0.0",
      "model_name": "HTMLModel",
      "state": {
       "layout": "IPY_MODEL_c26af78ebf5d4c618203d65d481da55e",
       "style": "IPY_MODEL_f3002b817c1b45ca92cb4f5268f1ff54",
       "value": " 221/221 [00:32&lt;00:00,  7.25it/s]"
      }
     },
     "a1316e5f95b2415ba0d7a600cd5d05b1": {
      "model_module": "@jupyter-widgets/controls",
      "model_module_version": "2.0.0",
      "model_name": "HBoxModel",
      "state": {
       "children": [
        "IPY_MODEL_07a1ed88545b496bac9318610fc02433",
        "IPY_MODEL_72412354b978453aaaa6c3a530604f06",
        "IPY_MODEL_f0f26d8c4f80490f8f3385761bb25659"
       ],
       "layout": "IPY_MODEL_da58de6a2ca14fb2b49c7e3ed08d84d5"
      }
     },
     "a2c0c2e26c19495baf4074da813423e0": {
      "model_module": "@jupyter-widgets/base",
      "model_module_version": "2.0.0",
      "model_name": "LayoutModel",
      "state": {}
     },
     "a3d72aacb1004b4b824fc7d521c0f075": {
      "model_module": "@jupyter-widgets/controls",
      "model_module_version": "2.0.0",
      "model_name": "HTMLStyleModel",
      "state": {
       "description_width": "",
       "font_size": null,
       "text_color": null
      }
     },
     "a40c4d8ae24f4f939db12a9923f2b1d2": {
      "model_module": "@jupyter-widgets/controls",
      "model_module_version": "2.0.0",
      "model_name": "HTMLStyleModel",
      "state": {
       "description_width": "",
       "font_size": null,
       "text_color": null
      }
     },
     "a72a765d6e4544559681006f394b333d": {
      "model_module": "@jupyter-widgets/controls",
      "model_module_version": "2.0.0",
      "model_name": "ProgressStyleModel",
      "state": {
       "description_width": ""
      }
     },
     "a83a30da58f442c7802e26883ea90809": {
      "model_module": "@jupyter-widgets/controls",
      "model_module_version": "2.0.0",
      "model_name": "HBoxModel",
      "state": {
       "children": [
        "IPY_MODEL_1c37845e6e214532889e23df79d6330d",
        "IPY_MODEL_52628ac9b0e14e49b104d4c983d5357a",
        "IPY_MODEL_4fec3efdd4a34c358143f1cf92b0f50e"
       ],
       "layout": "IPY_MODEL_5c8d41c5f40543ffabe11220e1ad5ecf"
      }
     },
     "a9ba331065f24cbe89a363736c006b1e": {
      "model_module": "@jupyter-widgets/controls",
      "model_module_version": "2.0.0",
      "model_name": "FloatProgressModel",
      "state": {
       "bar_style": "success",
       "layout": "IPY_MODEL_5a31c5a3fbb04f0389adcfc99b962743",
       "max": 25,
       "style": "IPY_MODEL_8d8b85f2b7d84e3db880a9b42757e33f",
       "value": 25
      }
     },
     "a9f6ab6d175446c980f8bd2bfee554cd": {
      "model_module": "@jupyter-widgets/controls",
      "model_module_version": "2.0.0",
      "model_name": "ProgressStyleModel",
      "state": {
       "description_width": ""
      }
     },
     "aa8b9dcd78d24e54b4fe848f4ec58e29": {
      "model_module": "@jupyter-widgets/controls",
      "model_module_version": "2.0.0",
      "model_name": "HTMLStyleModel",
      "state": {
       "description_width": "",
       "font_size": null,
       "text_color": null
      }
     },
     "ab847e22547b4af885f2f6fcc0522654": {
      "model_module": "@jupyter-widgets/controls",
      "model_module_version": "2.0.0",
      "model_name": "HTMLStyleModel",
      "state": {
       "description_width": "",
       "font_size": null,
       "text_color": null
      }
     },
     "abf313b32f8342deb46ae6eb77c513ca": {
      "model_module": "@jupyter-widgets/controls",
      "model_module_version": "2.0.0",
      "model_name": "HTMLModel",
      "state": {
       "layout": "IPY_MODEL_20a699aec58248b8a5ee76d8d4f9039c",
       "style": "IPY_MODEL_28464aebbd0244aeb5529acbeeb44353",
       "value": "Test Epoch 6/7: 100%"
      }
     },
     "ac123a7231264f8d8bd83fab27cdfed4": {
      "model_module": "@jupyter-widgets/controls",
      "model_module_version": "2.0.0",
      "model_name": "HTMLModel",
      "state": {
       "layout": "IPY_MODEL_54aac8737c35455aab44f233d1471c12",
       "style": "IPY_MODEL_ab847e22547b4af885f2f6fcc0522654",
       "value": " 7/7 [04:34&lt;00:00, 38.01s/it]"
      }
     },
     "ad0f84d875784f76b6a2024ae8b400a0": {
      "model_module": "@jupyter-widgets/controls",
      "model_module_version": "2.0.0",
      "model_name": "ProgressStyleModel",
      "state": {
       "description_width": ""
      }
     },
     "b04962aa6be44a49ac3b5fff2a2ce8f5": {
      "model_module": "@jupyter-widgets/base",
      "model_module_version": "2.0.0",
      "model_name": "LayoutModel",
      "state": {}
     },
     "b282e79d5a824d1691f3e4bafb1d70b4": {
      "model_module": "@jupyter-widgets/base",
      "model_module_version": "2.0.0",
      "model_name": "LayoutModel",
      "state": {}
     },
     "b418a8cfa932428ab4d2651577d85d91": {
      "model_module": "@jupyter-widgets/controls",
      "model_module_version": "2.0.0",
      "model_name": "HTMLStyleModel",
      "state": {
       "description_width": "",
       "font_size": null,
       "text_color": null
      }
     },
     "b83f1385e8564cef8b4961cdcd5dbe50": {
      "model_module": "@jupyter-widgets/base",
      "model_module_version": "2.0.0",
      "model_name": "LayoutModel",
      "state": {}
     },
     "ba66282be3974ec991b18ea7f65f75a3": {
      "model_module": "@jupyter-widgets/controls",
      "model_module_version": "2.0.0",
      "model_name": "HTMLModel",
      "state": {
       "layout": "IPY_MODEL_39dd0c2e0ac74c1491049f5106a4306a",
       "style": "IPY_MODEL_eb5757bd80e148f2a8ae5e664defcffb",
       "value": " 25/25 [00:03&lt;00:00,  6.42it/s]"
      }
     },
     "bac992f88d9c436f81cdd8c14b9c90cb": {
      "model_module": "@jupyter-widgets/controls",
      "model_module_version": "2.0.0",
      "model_name": "HTMLStyleModel",
      "state": {
       "description_width": "",
       "font_size": null,
       "text_color": null
      }
     },
     "bdc922b1754f45c8a38b376a187bf76c": {
      "model_module": "@jupyter-widgets/controls",
      "model_module_version": "2.0.0",
      "model_name": "HTMLStyleModel",
      "state": {
       "description_width": "",
       "font_size": null,
       "text_color": null
      }
     },
     "be2e7fe1506c4484a350c959ea783dc8": {
      "model_module": "@jupyter-widgets/controls",
      "model_module_version": "2.0.0",
      "model_name": "HBoxModel",
      "state": {
       "children": [
        "IPY_MODEL_9725f5eb9f3a4482a395d6d28223aac7",
        "IPY_MODEL_653146fac79d457aa4c79a761f69a924",
        "IPY_MODEL_e5c7f21ecb5f4b2ea80021cee8bef92c"
       ],
       "layout": "IPY_MODEL_916bb425911d43248766bbc80a33df1c"
      }
     },
     "bf5e03c34c5e46bd9333e2dafd093ff0": {
      "model_module": "@jupyter-widgets/controls",
      "model_module_version": "2.0.0",
      "model_name": "HTMLModel",
      "state": {
       "layout": "IPY_MODEL_31e31852341148f0933583697676cd61",
       "style": "IPY_MODEL_aa8b9dcd78d24e54b4fe848f4ec58e29",
       "value": " 221/221 [00:38&lt;00:00,  6.01it/s]"
      }
     },
     "c21e0286002c42dcafb2a46e21cc1772": {
      "model_module": "@jupyter-widgets/controls",
      "model_module_version": "2.0.0",
      "model_name": "HTMLModel",
      "state": {
       "layout": "IPY_MODEL_b282e79d5a824d1691f3e4bafb1d70b4",
       "style": "IPY_MODEL_0cc2f9809a8b4c3f9d23153ffc830648",
       "value": " 221/221 [00:32&lt;00:00,  7.18it/s]"
      }
     },
     "c26af78ebf5d4c618203d65d481da55e": {
      "model_module": "@jupyter-widgets/base",
      "model_module_version": "2.0.0",
      "model_name": "LayoutModel",
      "state": {}
     },
     "c369619798444ec9a202988029c68039": {
      "model_module": "@jupyter-widgets/controls",
      "model_module_version": "2.0.0",
      "model_name": "HTMLStyleModel",
      "state": {
       "description_width": "",
       "font_size": null,
       "text_color": null
      }
     },
     "c62c90458eba49e4ac9f701eaa68b627": {
      "model_module": "@jupyter-widgets/controls",
      "model_module_version": "2.0.0",
      "model_name": "HTMLStyleModel",
      "state": {
       "description_width": "",
       "font_size": null,
       "text_color": null
      }
     },
     "cc0e434c92414b0c979b07580e75de12": {
      "model_module": "@jupyter-widgets/controls",
      "model_module_version": "2.0.0",
      "model_name": "HTMLModel",
      "state": {
       "layout": "IPY_MODEL_449ce56522b74bd6bf8dd7c29d15803b",
       "style": "IPY_MODEL_96ccc7bfd86046c799c2d7a68a55ae37",
       "value": "Train Epoch 7/7: 100%"
      }
     },
     "cfac4da4726a4915af08ecf48a9cf6e4": {
      "model_module": "@jupyter-widgets/base",
      "model_module_version": "2.0.0",
      "model_name": "LayoutModel",
      "state": {}
     },
     "d53bc013e9254743935d04c71612e713": {
      "model_module": "@jupyter-widgets/base",
      "model_module_version": "2.0.0",
      "model_name": "LayoutModel",
      "state": {}
     },
     "d62b2472b3cb4e14a163065786504e6a": {
      "model_module": "@jupyter-widgets/base",
      "model_module_version": "2.0.0",
      "model_name": "LayoutModel",
      "state": {}
     },
     "d71738c95d214cbc81c9e2b9dffde6d8": {
      "model_module": "@jupyter-widgets/controls",
      "model_module_version": "2.0.0",
      "model_name": "HTMLModel",
      "state": {
       "layout": "IPY_MODEL_1ce2bf8953f24d0e99db3dec29e15424",
       "style": "IPY_MODEL_8adf6fd0e1cc464f807c07b318c511a8",
       "value": " 25/25 [00:03&lt;00:00,  7.30it/s]"
      }
     },
     "d735fcef6554464c997ed16316d3f685": {
      "model_module": "@jupyter-widgets/base",
      "model_module_version": "2.0.0",
      "model_name": "LayoutModel",
      "state": {}
     },
     "da58de6a2ca14fb2b49c7e3ed08d84d5": {
      "model_module": "@jupyter-widgets/base",
      "model_module_version": "2.0.0",
      "model_name": "LayoutModel",
      "state": {}
     },
     "ddac67476a76455c91d18ef82ec0d34a": {
      "model_module": "@jupyter-widgets/controls",
      "model_module_version": "2.0.0",
      "model_name": "HTMLStyleModel",
      "state": {
       "description_width": "",
       "font_size": null,
       "text_color": null
      }
     },
     "e061df135ea4428e91b68c6ae45dcaee": {
      "model_module": "@jupyter-widgets/base",
      "model_module_version": "2.0.0",
      "model_name": "LayoutModel",
      "state": {}
     },
     "e26ac90b14d743068b053e27cbf491c0": {
      "model_module": "@jupyter-widgets/controls",
      "model_module_version": "2.0.0",
      "model_name": "HTMLModel",
      "state": {
       "layout": "IPY_MODEL_2581663728fd490a80bf64a6213c74df",
       "style": "IPY_MODEL_ddac67476a76455c91d18ef82ec0d34a",
       "value": "Train Epoch 2/7: 100%"
      }
     },
     "e5c7f21ecb5f4b2ea80021cee8bef92c": {
      "model_module": "@jupyter-widgets/controls",
      "model_module_version": "2.0.0",
      "model_name": "HTMLModel",
      "state": {
       "layout": "IPY_MODEL_9a4f15719bf04464a6a46be7a1eb244d",
       "style": "IPY_MODEL_13092c7a47ff4ba28624188c1e43c186",
       "value": " 25/25 [00:03&lt;00:00,  5.70it/s]"
      }
     },
     "e5cb8612872949cabebaec67f4f0df64": {
      "model_module": "@jupyter-widgets/controls",
      "model_module_version": "2.0.0",
      "model_name": "HTMLStyleModel",
      "state": {
       "description_width": "",
       "font_size": null,
       "text_color": null
      }
     },
     "e7993efa52264371bc091fb32685cadd": {
      "model_module": "@jupyter-widgets/controls",
      "model_module_version": "2.0.0",
      "model_name": "HBoxModel",
      "state": {
       "children": [
        "IPY_MODEL_95578d6f6398493491515e7118b5e832",
        "IPY_MODEL_6760b131a4af45059de3260ee11bde95",
        "IPY_MODEL_4a9bb9edd4a844368422b12618cdc04c"
       ],
       "layout": "IPY_MODEL_b83f1385e8564cef8b4961cdcd5dbe50"
      }
     },
     "eaf96c50feb84312b1e4c35165d8870d": {
      "model_module": "@jupyter-widgets/controls",
      "model_module_version": "2.0.0",
      "model_name": "HBoxModel",
      "state": {
       "children": [
        "IPY_MODEL_70fb8717e59545c9b1466e8ad7c00d45",
        "IPY_MODEL_1a3bed821fe3413baf3bf99b170515dd",
        "IPY_MODEL_19261ab0e87d47188d2ce59b1d8eff81"
       ],
       "layout": "IPY_MODEL_33c00bf2dc9f43aa97976fdc0895a019"
      }
     },
     "eb5757bd80e148f2a8ae5e664defcffb": {
      "model_module": "@jupyter-widgets/controls",
      "model_module_version": "2.0.0",
      "model_name": "HTMLStyleModel",
      "state": {
       "description_width": "",
       "font_size": null,
       "text_color": null
      }
     },
     "ec2e9130f5ff4ae7b0dd4261f2bbbf38": {
      "model_module": "@jupyter-widgets/controls",
      "model_module_version": "2.0.0",
      "model_name": "HTMLModel",
      "state": {
       "layout": "IPY_MODEL_187f8156063d40c9a9619c0586d004ad",
       "style": "IPY_MODEL_bac992f88d9c436f81cdd8c14b9c90cb",
       "value": "Test Epoch 5/7: 100%"
      }
     },
     "ec61a4b0f7df46fd9b4f1c273865ca40": {
      "model_module": "@jupyter-widgets/base",
      "model_module_version": "2.0.0",
      "model_name": "LayoutModel",
      "state": {}
     },
     "edbc766a8bf04d02a468ff61d550e13d": {
      "model_module": "@jupyter-widgets/base",
      "model_module_version": "2.0.0",
      "model_name": "LayoutModel",
      "state": {}
     },
     "ef5abd62dd2143449a8eb90cec8dcf1e": {
      "model_module": "@jupyter-widgets/base",
      "model_module_version": "2.0.0",
      "model_name": "LayoutModel",
      "state": {}
     },
     "ef76cec861aa4cfe8a686086d346a124": {
      "model_module": "@jupyter-widgets/base",
      "model_module_version": "2.0.0",
      "model_name": "LayoutModel",
      "state": {}
     },
     "ef90a0d8cd0e472e9e5bf95705d7e87b": {
      "model_module": "@jupyter-widgets/base",
      "model_module_version": "2.0.0",
      "model_name": "LayoutModel",
      "state": {}
     },
     "f0f26d8c4f80490f8f3385761bb25659": {
      "model_module": "@jupyter-widgets/controls",
      "model_module_version": "2.0.0",
      "model_name": "HTMLModel",
      "state": {
       "layout": "IPY_MODEL_ec61a4b0f7df46fd9b4f1c273865ca40",
       "style": "IPY_MODEL_a3d72aacb1004b4b824fc7d521c0f075",
       "value": " 25/25 [00:03&lt;00:00,  6.80it/s]"
      }
     },
     "f3002b817c1b45ca92cb4f5268f1ff54": {
      "model_module": "@jupyter-widgets/controls",
      "model_module_version": "2.0.0",
      "model_name": "HTMLStyleModel",
      "state": {
       "description_width": "",
       "font_size": null,
       "text_color": null
      }
     },
     "f489ed36e5874d199b65ef223e47ce10": {
      "model_module": "@jupyter-widgets/controls",
      "model_module_version": "2.0.0",
      "model_name": "HTMLStyleModel",
      "state": {
       "description_width": "",
       "font_size": null,
       "text_color": null
      }
     },
     "f9329ba6aecd40c6acd549fb57ae0ecd": {
      "model_module": "@jupyter-widgets/base",
      "model_module_version": "2.0.0",
      "model_name": "LayoutModel",
      "state": {}
     },
     "f982a02d7b4d47f8ac840f40300cb9c9": {
      "model_module": "@jupyter-widgets/base",
      "model_module_version": "2.0.0",
      "model_name": "LayoutModel",
      "state": {}
     },
     "fb70a709e29240a7b70c82c0dbc8813e": {
      "model_module": "@jupyter-widgets/base",
      "model_module_version": "2.0.0",
      "model_name": "LayoutModel",
      "state": {}
     },
     "fbd3b06a73b64cffb5f7b19cb5a78ce6": {
      "model_module": "@jupyter-widgets/controls",
      "model_module_version": "2.0.0",
      "model_name": "FloatProgressModel",
      "state": {
       "bar_style": "success",
       "layout": "IPY_MODEL_94d4dcaa5a5b46cca3a4a9850b7f95e5",
       "max": 7,
       "style": "IPY_MODEL_782e16cb671a4651bfcd0cf7ba5b95ff",
       "value": 7
      }
     },
     "fde7e5806d8c4792abd8896d796a0ab1": {
      "model_module": "@jupyter-widgets/base",
      "model_module_version": "2.0.0",
      "model_name": "LayoutModel",
      "state": {}
     }
    },
    "version_major": 2,
    "version_minor": 0
   }
  }
 },
 "nbformat": 4,
 "nbformat_minor": 5
}
