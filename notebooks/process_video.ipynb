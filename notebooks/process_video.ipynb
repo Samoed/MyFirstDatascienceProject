{
 "cells": [
  {
   "cell_type": "code",
   "execution_count": 3,
   "id": "a5383aa2-cb89-44bc-b760-4f8c42ed7bc0",
   "metadata": {},
   "outputs": [],
   "source": [
    "import cv2\n",
    "\n",
    "\n",
    "def get_frames(file: str, folder: str, path: str = \"../dataset\"):\n",
    "    cap = cv2.VideoCapture(f\"{path}/{file}\")\n",
    "    i = 0\n",
    "    # a variable to set how many frames you want to skip\n",
    "    frame_skip = 10\n",
    "    # a variable to keep track of the frame to be saved\n",
    "    frame_count = 0\n",
    "    while cap.isOpened():\n",
    "        ret, frame = cap.read()\n",
    "        if not ret:\n",
    "            break\n",
    "        if i > frame_skip - 1:\n",
    "            frame_count += 1\n",
    "            cv2.imwrite(f\"{path}/{folder}/test_\" + str(frame_count * frame_skip) + \".jpg\", frame)\n",
    "            i = 0\n",
    "            continue\n",
    "        i += 1\n",
    "\n",
    "    cap.release()\n",
    "    cv2.destroyAllWindows()"
   ]
  },
  {
   "cell_type": "code",
   "execution_count": 4,
   "id": "8ca07f86-6eb1-4cdd-ad68-32c16eda9d01",
   "metadata": {},
   "outputs": [],
   "source": [
    "get_frames(\"two_fingers.mkv\", \"12_two_fingers_near\")"
   ]
  },
  {
   "cell_type": "code",
   "execution_count": 5,
   "id": "38d8e40a-3377-4cdc-91f8-e6bc3617d540",
   "metadata": {},
   "outputs": [],
   "source": [
    "get_frames(\"like.mkv\", \"13_like\")"
   ]
  },
  {
   "cell_type": "code",
   "execution_count": 6,
   "id": "1a6d65d0-9701-47ce-b1c0-f86d4a00ca16",
   "metadata": {},
   "outputs": [],
   "source": [
    "get_frames(\"dislike.mkv\", \"14_dislike\")"
   ]
  },
  {
   "cell_type": "code",
   "execution_count": null,
   "id": "6dd3c7e8-3b02-4edb-a9de-8b9d0a7c68a1",
   "metadata": {},
   "outputs": [],
   "source": []
  }
 ],
 "metadata": {
  "kernelspec": {
   "display_name": "Python 3 (ipykernel)",
   "language": "python",
   "name": "python3"
  },
  "language_info": {
   "codemirror_mode": {
    "name": "ipython",
    "version": 3
   },
   "file_extension": ".py",
   "mimetype": "text/x-python",
   "name": "python",
   "nbconvert_exporter": "python",
   "pygments_lexer": "ipython3",
   "version": "3.10.4"
  },
  "widgets": {
   "application/vnd.jupyter.widget-state+json": {
    "state": {},
    "version_major": 2,
    "version_minor": 0
   }
  }
 },
 "nbformat": 4,
 "nbformat_minor": 5
}
