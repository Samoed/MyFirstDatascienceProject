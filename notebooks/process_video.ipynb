{
 "cells": [
  {
   "cell_type": "code",
   "execution_count": 4,
   "id": "a5383aa2-cb89-44bc-b760-4f8c42ed7bc0",
   "metadata": {},
   "outputs": [],
   "source": [
    "import cv2\n",
    "\n",
    "\n",
    "def get_frames(file: str, folder: str, path: str = \"../dataset\"):\n",
    "    cap = cv2.VideoCapture(f\"{path}/{file}\")\n",
    "    i = 0\n",
    "    # a variable to set how many frames you want to skip\n",
    "    frame_skip = 10\n",
    "    # a variable to keep track of the frame to be saved\n",
    "    frame_count = 0\n",
    "    file_name = file.split(\".\")[0]\n",
    "    while cap.isOpened():\n",
    "        ret, frame = cap.read()\n",
    "        if not ret:\n",
    "            break\n",
    "        if i > frame_skip - 1:\n",
    "            frame_count += 1\n",
    "            cv2.imwrite(f\"{path}/{folder}/{file_name}_\" + str(frame_count * frame_skip) + \".jpg\", frame)\n",
    "            i = 0\n",
    "            continue\n",
    "        i += 1\n",
    "\n",
    "    cap.release()\n",
    "    # cv2.destroyAllWindows()"
   ]
  },
  {
   "cell_type": "code",
   "execution_count": 2,
   "id": "6dd3c7e8-3b02-4edb-a9de-8b9d0a7c68a1",
   "metadata": {},
   "outputs": [
    {
     "name": "stdout",
     "output_type": "stream",
     "text": [
      "- [ ] dislike.mkv\n",
      "- [ ] dislike_new.mkv\n",
      "- [ ] dislike_r.mkv\n",
      "- [ ] fist_l.mkv\n",
      "- [ ] fist_new.mkv\n",
      "- [ ] fist_r.mkv\n",
      "- [ ] like.mkv\n",
      "- [ ] like_new.mkv\n",
      "- [ ] like_r.mkv\n",
      "- [ ] one_l.mkv\n",
      "- [ ] one_new.mkv\n",
      "- [ ] one_r.mkv\n",
      "- [ ] palm_l.mkv\n",
      "- [ ] palm_r.mkv\n",
      "- [ ] two_fingers.mkv\n",
      "- [ ] two_fingers_new.mkv\n",
      "- [ ] two_fingers_r.mkv\n"
     ]
    }
   ],
   "source": [
    "import os\n",
    "\n",
    "files = os.listdir(\"../dataset\")\n",
    "print(\"- [ ] \" + \"\\n- [ ] \".join(sorted([file for file in files if file.endswith(\".mkv\")])))"
   ]
  },
  {
   "cell_type": "markdown",
   "id": "b06d5438-75eb-425b-8f43-d2212d16a3b0",
   "metadata": {},
   "source": [
    "- [X] dislike.mkv\n",
    "- [X] dislike_new.mkv\n",
    "- [X] dislike_r.mkv\n",
    "- [X] fist_l.mkv\n",
    "- [X] fist_new.mkv\n",
    "- [X] fist_r.mkv\n",
    "- [X] like.mkv\n",
    "- [X] like_new.mkv\n",
    "- [X] like_r.mkv\n",
    "- [X] one_l.mkv\n",
    "- [X] one_new.mkv\n",
    "- [X] one_r.mkv\n",
    "- [X] palm_l.mkv\n",
    "- [X] palm_r.mkv\n",
    "- [X] two_fingers.mkv\n",
    "- [X] two_fingers_new.mkv\n",
    "- [X] two_fingers_r.mkv"
   ]
  },
  {
   "cell_type": "code",
   "execution_count": 5,
   "id": "1a6d65d0-9701-47ce-b1c0-f86d4a00ca16",
   "metadata": {},
   "outputs": [],
   "source": [
    "get_frames(\"dislike.mkv\", \"13_dislike\")\n",
    "get_frames(\"dislike_new.mkv\", \"13_dislike\")\n",
    "get_frames(\"dislike_r.mkv\", \"13_dislike\")"
   ]
  },
  {
   "cell_type": "code",
   "execution_count": 6,
   "id": "a5cdc3dc-ed6a-4791-bbae-54b5f84c2ab5",
   "metadata": {},
   "outputs": [],
   "source": [
    "get_frames(\"fist_l.mkv\", \"14_fist\")\n",
    "get_frames(\"fist_r.mkv\", \"14_fist\")\n",
    "get_frames(\"fist_new.mkv\", \"14_fist\")"
   ]
  },
  {
   "cell_type": "code",
   "execution_count": 13,
   "id": "38d8e40a-3377-4cdc-91f8-e6bc3617d540",
   "metadata": {},
   "outputs": [],
   "source": [
    "get_frames(\"like.mkv\", \"12_like\")\n",
    "get_frames(\"like_new.mkv\", \"12_like\")\n",
    "get_frames(\"like_r.mkv\", \"12_like\")"
   ]
  },
  {
   "cell_type": "code",
   "execution_count": 10,
   "id": "803061b6-c41e-4936-afee-6798a8faa4e5",
   "metadata": {},
   "outputs": [],
   "source": [
    "get_frames(\"one_l.mkv\", \"01_one\")\n",
    "get_frames(\"one_new.mkv\", \"01_one\")\n",
    "get_frames(\"one_r.mkv\", \"01_one\")"
   ]
  },
  {
   "cell_type": "code",
   "execution_count": 11,
   "id": "8ca07f86-6eb1-4cdd-ad68-32c16eda9d01",
   "metadata": {},
   "outputs": [],
   "source": [
    "get_frames(\"two_fingers.mkv\", \"00_two_fingers_near\")\n",
    "get_frames(\"two_fingers_new.mkv\", \"00_two_fingers_near\")\n",
    "get_frames(\"two_fingers_r.mkv\", \"00_two_fingers_near\")"
   ]
  },
  {
   "cell_type": "code",
   "execution_count": 12,
   "id": "80693805-577b-4680-b98a-c8f3e9e4f146",
   "metadata": {},
   "outputs": [],
   "source": [
    "get_frames(\"palm_l.mkv\", \"10_palm\")\n",
    "get_frames(\"palm_r.mkv\", \"10_palm\")"
   ]
  },
  {
   "cell_type": "code",
   "execution_count": null,
   "id": "aae1b0b6-c80b-4751-810f-2c2dcb8628b7",
   "metadata": {},
   "outputs": [],
   "source": []
  }
 ],
 "metadata": {
  "kernelspec": {
   "display_name": "Python 3 (ipykernel)",
   "language": "python",
   "name": "python3"
  },
  "language_info": {
   "codemirror_mode": {
    "name": "ipython",
    "version": 3
   },
   "file_extension": ".py",
   "mimetype": "text/x-python",
   "name": "python",
   "nbconvert_exporter": "python",
   "pygments_lexer": "ipython3",
   "version": "3.10.4"
  },
  "widgets": {
   "application/vnd.jupyter.widget-state+json": {
    "state": {},
    "version_major": 2,
    "version_minor": 0
   }
  }
 },
 "nbformat": 4,
 "nbformat_minor": 5
}
