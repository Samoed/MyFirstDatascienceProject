{
 "cells": [
  {
   "cell_type": "code",
   "execution_count": 1,
   "id": "1e6b02b4-0e13-4d23-9d04-a0e5b7708aeb",
   "metadata": {},
   "outputs": [],
   "source": [
    "import numpy as np\n",
    "from sklearn.ensemble import RandomForestClassifier\n",
    "from sklearn.linear_model import LogisticRegression\n",
    "from sklearn.metrics import accuracy_score, f1_score\n",
    "from sklearn.model_selection import KFold, cross_validate, train_test_split\n",
    "from sklearn.svm import SVC\n",
    "from xgboost import XGBClassifier\n",
    "\n",
    "STATE = 42"
   ]
  },
  {
   "cell_type": "code",
   "execution_count": 2,
   "id": "035eabc7-b0c7-4e34-8ba2-8ca5373bf514",
   "metadata": {},
   "outputs": [
    {
     "data": {
      "text/plain": [
       "(918, 43)"
      ]
     },
     "execution_count": 2,
     "metadata": {},
     "output_type": "execute_result"
    }
   ],
   "source": [
    "data = np.load(\"processed.npy\")\n",
    "data.shape"
   ]
  },
  {
   "cell_type": "code",
   "execution_count": 3,
   "id": "31a05802-86e5-4a99-bb36-31c5065340ad",
   "metadata": {},
   "outputs": [
    {
     "data": {
      "text/plain": [
       "((918, 42), (918,))"
      ]
     },
     "execution_count": 3,
     "metadata": {},
     "output_type": "execute_result"
    }
   ],
   "source": [
    "X = data[:, :-1]\n",
    "y = data[:, -1]\n",
    "X.shape, y.shape"
   ]
  },
  {
   "cell_type": "code",
   "execution_count": 4,
   "id": "e8857865-58fd-46cc-8f5e-1cb28b8f00ad",
   "metadata": {},
   "outputs": [
    {
     "data": {
      "text/plain": [
       "((734, 42), (734,), (184, 42), (184,))"
      ]
     },
     "execution_count": 4,
     "metadata": {},
     "output_type": "execute_result"
    }
   ],
   "source": [
    "X_train, X_test, y_train, y_test = train_test_split(X, y, test_size=0.2, random_state=STATE)\n",
    "X_train.shape, y_train.shape, X_test.shape, y_test.shape"
   ]
  },
  {
   "cell_type": "markdown",
   "id": "c2122b5b-fdcf-4c63-a09f-fdbd545f4140",
   "metadata": {},
   "source": [
    "# Sklearn"
   ]
  },
  {
   "cell_type": "code",
   "execution_count": 5,
   "id": "10d129b1-487c-4265-beb7-96fc3b8ae1ee",
   "metadata": {},
   "outputs": [],
   "source": [
    "cv = KFold(n_splits=5, random_state=STATE, shuffle=True)\n",
    "scoring = {\"acc\": \"accuracy\", \"f1\": \"f1_macro\"}  # roc_auc_ovr\n",
    "\n",
    "\n",
    "def train_clf(clf, X, y) -> dict:\n",
    "    scores = cross_validate(clf, X, y, scoring=scoring, cv=cv, n_jobs=-1)\n",
    "    for name in scoring:\n",
    "        print(f\"{name} {scores[f'test_{name}'].mean()} {scores[f'test_{name}'].std()}\")"
   ]
  },
  {
   "cell_type": "markdown",
   "id": "1d2aa4ae-01d2-465e-8bdf-d72f166e2b4f",
   "metadata": {},
   "source": [
    "## LogReg"
   ]
  },
  {
   "cell_type": "code",
   "execution_count": 6,
   "id": "88fd5b84-4ceb-403f-b360-816909a13318",
   "metadata": {},
   "outputs": [
    {
     "name": "stdout",
     "output_type": "stream",
     "text": [
      "acc 0.9400629603231172 0.017318396862096696\n",
      "f1 0.9390173509563404 0.01597776143360865\n"
     ]
    },
    {
     "name": "stderr",
     "output_type": "stream",
     "text": [
      "/home/samoed/.pyenv/versions/3.10.4/lib/python3.10/site-packages/sklearn/linear_model/_logistic.py:444: ConvergenceWarning: lbfgs failed to converge (status=1):\n",
      "STOP: TOTAL NO. of ITERATIONS REACHED LIMIT.\n",
      "\n",
      "Increase the number of iterations (max_iter) or scale the data as shown in:\n",
      "    https://scikit-learn.org/stable/modules/preprocessing.html\n",
      "Please also refer to the documentation for alternative solver options:\n",
      "    https://scikit-learn.org/stable/modules/linear_model.html#logistic-regression\n",
      "  n_iter_i = _check_optimize_result(\n",
      "/home/samoed/.pyenv/versions/3.10.4/lib/python3.10/site-packages/sklearn/linear_model/_logistic.py:444: ConvergenceWarning: lbfgs failed to converge (status=1):\n",
      "STOP: TOTAL NO. of ITERATIONS REACHED LIMIT.\n",
      "\n",
      "Increase the number of iterations (max_iter) or scale the data as shown in:\n",
      "    https://scikit-learn.org/stable/modules/preprocessing.html\n",
      "Please also refer to the documentation for alternative solver options:\n",
      "    https://scikit-learn.org/stable/modules/linear_model.html#logistic-regression\n",
      "  n_iter_i = _check_optimize_result(\n",
      "/home/samoed/.pyenv/versions/3.10.4/lib/python3.10/site-packages/sklearn/linear_model/_logistic.py:444: ConvergenceWarning: lbfgs failed to converge (status=1):\n",
      "STOP: TOTAL NO. of ITERATIONS REACHED LIMIT.\n",
      "\n",
      "Increase the number of iterations (max_iter) or scale the data as shown in:\n",
      "    https://scikit-learn.org/stable/modules/preprocessing.html\n",
      "Please also refer to the documentation for alternative solver options:\n",
      "    https://scikit-learn.org/stable/modules/linear_model.html#logistic-regression\n",
      "  n_iter_i = _check_optimize_result(\n",
      "/home/samoed/.pyenv/versions/3.10.4/lib/python3.10/site-packages/sklearn/linear_model/_logistic.py:444: ConvergenceWarning: lbfgs failed to converge (status=1):\n",
      "STOP: TOTAL NO. of ITERATIONS REACHED LIMIT.\n",
      "\n",
      "Increase the number of iterations (max_iter) or scale the data as shown in:\n",
      "    https://scikit-learn.org/stable/modules/preprocessing.html\n",
      "Please also refer to the documentation for alternative solver options:\n",
      "    https://scikit-learn.org/stable/modules/linear_model.html#logistic-regression\n",
      "  n_iter_i = _check_optimize_result(\n",
      "/home/samoed/.pyenv/versions/3.10.4/lib/python3.10/site-packages/sklearn/linear_model/_logistic.py:444: ConvergenceWarning: lbfgs failed to converge (status=1):\n",
      "STOP: TOTAL NO. of ITERATIONS REACHED LIMIT.\n",
      "\n",
      "Increase the number of iterations (max_iter) or scale the data as shown in:\n",
      "    https://scikit-learn.org/stable/modules/preprocessing.html\n",
      "Please also refer to the documentation for alternative solver options:\n",
      "    https://scikit-learn.org/stable/modules/linear_model.html#logistic-regression\n",
      "  n_iter_i = _check_optimize_result(\n"
     ]
    }
   ],
   "source": [
    "train_clf(LogisticRegression(random_state=STATE), X, y)"
   ]
  },
  {
   "cell_type": "markdown",
   "id": "b05380bc-30bb-4f0e-956e-c9a38e5ef2ca",
   "metadata": {},
   "source": [
    "## SVM"
   ]
  },
  {
   "cell_type": "code",
   "execution_count": 7,
   "id": "f3f71941-8400-4f66-b577-d85975de47fd",
   "metadata": {},
   "outputs": [
    {
     "name": "stdout",
     "output_type": "stream",
     "text": [
      "acc 0.9237407935376574 0.01461774337556991\n",
      "f1 0.9224893224087604 0.012199306514027564\n"
     ]
    }
   ],
   "source": [
    "train_clf(SVC(random_state=STATE), X, y)"
   ]
  },
  {
   "cell_type": "markdown",
   "id": "920a5490-99eb-4f1e-af61-6322d0eca4bc",
   "metadata": {},
   "source": [
    "## Forest"
   ]
  },
  {
   "cell_type": "code",
   "execution_count": 8,
   "id": "664abd6e-9f28-44c4-94f5-56048b799210",
   "metadata": {},
   "outputs": [
    {
     "name": "stdout",
     "output_type": "stream",
     "text": [
      "acc 0.9379128058921358 0.01564969092666756\n",
      "f1 0.9368587063396007 0.014830681517364414\n"
     ]
    }
   ],
   "source": [
    "train_clf(RandomForestClassifier(random_state=STATE), X, y)"
   ]
  },
  {
   "cell_type": "markdown",
   "id": "727a9289-807d-4b96-8218-37cf1c89544b",
   "metadata": {},
   "source": [
    "# Xgboost"
   ]
  },
  {
   "cell_type": "code",
   "execution_count": 9,
   "id": "298d7d9a-3161-4b35-a7a6-7ec990eca45c",
   "metadata": {},
   "outputs": [
    {
     "name": "stdout",
     "output_type": "stream",
     "text": [
      "acc 0.9368377286766452 0.013543651704257056\n",
      "f1 0.9331904908049513 0.009557455010991615\n"
     ]
    }
   ],
   "source": [
    "train_clf(XGBClassifier(random_state=STATE), X, y)"
   ]
  },
  {
   "cell_type": "markdown",
   "id": "5fc82e08-1ad7-4002-9f86-27ad1dbe2036",
   "metadata": {},
   "source": [
    "# Catboost"
   ]
  },
  {
   "cell_type": "code",
   "execution_count": 10,
   "id": "cc9414d2-40df-4319-8cfb-5136de2b8066",
   "metadata": {},
   "outputs": [],
   "source": [
    "from catboost import CatBoostClassifier"
   ]
  },
  {
   "cell_type": "code",
   "execution_count": 11,
   "id": "797559e8-23fb-4bfc-8349-51e63bcfda3a",
   "metadata": {},
   "outputs": [
    {
     "name": "stdout",
     "output_type": "stream",
     "text": [
      "acc 0.9498990258968876 0.010541102249011645\n",
      "f1 0.9477772473648457 0.010503361484246881\n"
     ]
    }
   ],
   "source": [
    "train_clf(CatBoostClassifier(random_state=STATE, verbose=False), X, y)"
   ]
  },
  {
   "cell_type": "code",
   "execution_count": null,
   "id": "ecd6b1e6-e096-4dd5-b99b-6759cdd18a3e",
   "metadata": {},
   "outputs": [],
   "source": []
  }
 ],
 "metadata": {
  "kernelspec": {
   "display_name": "Python 3 (ipykernel)",
   "language": "python",
   "name": "python3"
  },
  "language_info": {
   "codemirror_mode": {
    "name": "ipython",
    "version": 3
   },
   "file_extension": ".py",
   "mimetype": "text/x-python",
   "name": "python",
   "nbconvert_exporter": "python",
   "pygments_lexer": "ipython3",
   "version": "3.10.4"
  },
  "widgets": {
   "application/vnd.jupyter.widget-state+json": {
    "state": {},
    "version_major": 2,
    "version_minor": 0
   }
  }
 },
 "nbformat": 4,
 "nbformat_minor": 5
}
